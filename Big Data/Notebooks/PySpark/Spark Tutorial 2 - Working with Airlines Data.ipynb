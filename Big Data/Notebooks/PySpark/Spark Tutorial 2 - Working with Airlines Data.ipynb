{
 "cells": [
  {
   "cell_type": "markdown",
   "metadata": {},
   "source": [
    "# Spark Tutorial 2 - Working with Airline Data"
   ]
  },
  {
   "cell_type": "markdown",
   "metadata": {},
   "source": [
    "This notebook uses the original Flights and Airports dataset from de US Department of Transport.\n",
    "We do several operations reletad with:\n",
    "* Loading, formating and parsing data\n",
    "\n",
    "And the use of the following operators:\n",
    "* lambda, map, reduce, filter \n",
    "* aggregate\n",
    "* reduceByKey\n",
    "* combineByKey\n",
    "* lookUp\n",
    "* dictionary\n",
    "* broadcast"
   ]
  },
  {
   "cell_type": "markdown",
   "metadata": {},
   "source": [
    "## Part 1\n",
    "### Loading data"
   ]
  },
  {
   "cell_type": "code",
   "execution_count": 1,
   "metadata": {
    "collapsed": false
   },
   "outputs": [
    {
     "data": {
      "text/plain": [
       "<pyspark.context.SparkContext at 0x10bad39d0>"
      ]
     },
     "execution_count": 1,
     "metadata": {},
     "output_type": "execute_result"
    }
   ],
   "source": [
    "# Lets's verify Spark Context is loaded\n",
    "sc"
   ]
  },
  {
   "cell_type": "code",
   "execution_count": 2,
   "metadata": {
    "collapsed": false
   },
   "outputs": [
    {
     "data": {
      "text/plain": [
       "u'2.0.0'"
      ]
     },
     "execution_count": 2,
     "metadata": {},
     "output_type": "execute_result"
    }
   ],
   "source": [
    "# Version\n",
    "sc.version"
   ]
  },
  {
   "cell_type": "code",
   "execution_count": 3,
   "metadata": {
    "collapsed": true
   },
   "outputs": [],
   "source": [
    "# Set up the file paths for your data \n",
    "# If it's on the local system append file:// to the beginning of the path \n",
    "# If it's on hdfs append hdfs://\n",
    "\n",
    "#airlinesPath=\"hdfs:///user/swethakolalapudi/flightDelaysData/airlines.csv\"\n",
    "#airportsPath=\"hdfs:///user/swethakolalapudi/flightDelaysData/airports.csv\"\n",
    "#flightsPath=\"hdfs:///user/swethakolalapudi/flightDelaysData/flights.csv\"\n",
    "\n",
    "airlinesPath = \"file:///Users/Andres/OneDrive/SparkTraining/Spark_Red/2_FlightDelays/FlightsData/airlines.csv\"\n",
    "airportsPath = \"file:///Users/Andres/OneDrive/SparkTraining/Spark_Red/2_FlightDelays/FlightsData/airports.csv\"\n",
    "flightsPath  = \"file:///Users/Andres/OneDrive/SparkTraining/Spark_Red/2_FlightDelays/FlightsData/flights.csv\""
   ]
  },
  {
   "cell_type": "code",
   "execution_count": 4,
   "metadata": {
    "collapsed": true
   },
   "outputs": [],
   "source": [
    "# With use_unicode=False, the strings will be kept as str (encoding as utf-8), \n",
    "# which is faster and smaller than unicode.\n",
    "# We get better presentation of the data eliminating the 'u' character\n",
    "\n",
    "airlines=sc.textFile(airlinesPath, use_unicode=False)"
   ]
  },
  {
   "cell_type": "code",
   "execution_count": 5,
   "metadata": {
    "collapsed": false
   },
   "outputs": [
    {
     "name": "stdout",
     "output_type": "stream",
     "text": [
      "file:///Users/Andres/OneDrive/SparkTraining/Spark_Red/2_FlightDelays/FlightsData/airlines.csv MapPartitionsRDD[1] at textFile at NativeMethodAccessorImpl.java:-2\n",
      "<class 'pyspark.rdd.RDD'>\n"
     ]
    }
   ],
   "source": [
    "# Airlines is an RDD \n",
    "print airlines\n",
    "print type(airlines)"
   ]
  },
  {
   "cell_type": "code",
   "execution_count": 6,
   "metadata": {
    "collapsed": false
   },
   "outputs": [
    {
     "data": {
      "text/plain": [
       "['Code,Description',\n",
       " '\"19031\",\"Mackey International Inc.: MAC\"',\n",
       " '\"19032\",\"Munz Northern Airlines Inc.: XY\"',\n",
       " '\"19033\",\"Cochise Airlines Inc.: COC\"',\n",
       " '\"19034\",\"Golden Gate Airlines Inc.: GSA\"',\n",
       " '\"19035\",\"Aeromech Inc.: RZZ\"',\n",
       " '\"19036\",\"Golden West Airlines Co.: GLW\"',\n",
       " '\"19037\",\"Puerto Rico Intl Airlines: PRN\"',\n",
       " '\"19038\",\"Air America Inc.: STZ\"',\n",
       " '\"19039\",\"Swift Aire Lines Inc.: SWT\"',\n",
       " '\"19040\",\"American Central Airlines: TSF\"',\n",
       " '\"19041\",\"Valdez Airlines: VEZ\"',\n",
       " '\"19042\",\"Southeast Alaska Airlines: WEB\"',\n",
       " '\"19043\",\"Altair Airlines Inc.: AAR\"',\n",
       " '\"19044\",\"Chitina Air Service: CHI\"',\n",
       " '\"19045\",\"Marco Island Airways Inc.: MRC\"',\n",
       " '\"19046\",\"Caribbean Air Services Inc.: OHZ\"',\n",
       " '\"19047\",\"Sundance Airlines: PRO\"',\n",
       " '\"19048\",\"Seair Alaska Airlines Inc.: SAI\"',\n",
       " '\"19049\",\"Southeast Airlines Inc.: SLZ\"',\n",
       " '\"19050\",\"Alaska Aeronautical Indust.: AAZ\"',\n",
       " '\"19051\",\"Imperial Airlines Inc.: IMP\"',\n",
       " '\"19052\",\"Trans Western Airlines Utah: TWA\"',\n",
       " '\"19053\",\"Wright Airlines Inc.: WRT\"',\n",
       " '\"19054\",\"Presidential Express: COL\"',\n",
       " '\"19055\",\"Mississippi Valley Airlines: MVA\"',\n",
       " '\"19056\",\"Channel Flying Inc.: CHL\"',\n",
       " '\"19057\",\"Rocky Mountain Airways Inc.: JCZ\"',\n",
       " '\"19058\",\"Midstate Airlines Inc.: MIS\"',\n",
       " '\"19059\",\"Sedalia Marshall Boonvl Stg: STG\"',\n",
       " '\"19060\",\"Inlet Airlines: CKI\"',\n",
       " '\"19061\",\"Command Airways Inc.: CMD\"',\n",
       " '\"19062\",\"Emerald Airlines: EMA\"',\n",
       " '\"19063\",\"Orion Air Inc.: ORI\"',\n",
       " '\"19064\",\"Pan Am Express: RAN\"',\n",
       " '\"19065\",\"Air Micronesia Inc.: AJ\"',\n",
       " '\"19066\",\"Sunbird Inc.: SKI\"',\n",
       " '\"19067\",\"Wings West Airlines: WWI\"',\n",
       " '\"19068\",\"Southcentral Air Inc.: AND\"',\n",
       " '\"19069\",\"Air Cargo Express Inc.: ACG\"',\n",
       " '\"19070\",\"Associated Aviation Act.: AAA\"',\n",
       " '\"19071\",\"Antilles Air Boats Inc.: AAB\"',\n",
       " '\"19072\",\"AAA Airlines: AAE\"',\n",
       " '\"19073\",\"Argosy Air Lines Inc.: AAL\"',\n",
       " '\"19074\",\"Air Bahia: ABH\"',\n",
       " '\"19075\",\"Airbama Incorporated: ABI\"',\n",
       " '\"19076\",\"Aeronaves Boringuena Inc.: ABO\"',\n",
       " '\"19077\",\"Alaska Central Airways Inc.: ACA\"',\n",
       " '\"19078\",\"Island Airlines Hawaii Inc.: ACH\"',\n",
       " '\"19079\",\"AAA-Action Air Carrier Inc.: ACI\"',\n",
       " '\"19080\",\"Air Cargo Enterprises Inc.: ACO\"',\n",
       " '\"19081\",\"Air Chaparral Inc.: ACP\"',\n",
       " '\"19082\",\"Alamo Commuter Airlines: ACS\"',\n",
       " '\"19083\",\"Air Central Inc. (1): ACT\"',\n",
       " '\"19084\",\"Air Central Inc.: ACK\"',\n",
       " '\"19085\",\"Astec Air East Inc.: AEC\"',\n",
       " '\"19086\",\"American Flag Airlines Inc.: AFA\"',\n",
       " '\"19087\",\"Air Cargo America Inc.: AGA\"',\n",
       " '\"19088\",\"All Island Air: AIA\"',\n",
       " '\"19089\",\"Air Express Inc.: AIE\"',\n",
       " '\"19090\",\"Air Mont. Inc.: AIM\"',\n",
       " '\"19091\",\"Air Indiana: AIN\"',\n",
       " '\"19092\",\"Air-Lift Associates Inc.: ALE\"',\n",
       " '\"19093\",\"Brandt Air: ALI\"',\n",
       " '\"19094\",\"All Seasons Air Pacific: ALL\"',\n",
       " '\"19095\",\"North American Airlines Inc.: AMA\"',\n",
       " '\"19096\",\"American Inter-Island Inc.: AMI\"',\n",
       " '\"19097\",\"Air Nebraska Inc.: ANB\"',\n",
       " '\"19098\",\"Airways Of New Mexico Inc.: ANM\"',\n",
       " '\"19099\",\"Metro Air Northeast Vermont: ANO\"',\n",
       " '\"19100\",\"Air North/Nenana: ANT\"',\n",
       " '\"19101\",\"Trans New York: AOI\"',\n",
       " '\"19102\",\"Arizona Pacific Inc.: API\"',\n",
       " '\"19103\",\"Appalachian Flying Service: APL\"',\n",
       " '\"19104\",\"Air Polynesia Inc.: APY\"',\n",
       " '\"19105\",\"Arizona Aero Corp.: ARI\"',\n",
       " '\"19106\",\"Arnold Aviation: ARN\"',\n",
       " '\"19107\",\"Air Oregon: ARO\"',\n",
       " '\"19108\",\"Arrowhead Airways Inc.: ARR\"',\n",
       " '\"19109\",\"Amistad Airlines: ASD\"',\n",
       " '\"19110\",\"Alpine Air Services Inc.: ASI\"',\n",
       " '\"19111\",\"Asap Air Inc.: ASP\"',\n",
       " '\"19112\",\"Astro Airways: AST\"',\n",
       " '\"19113\",\"Air Atlantic Airlines Inc.: ATN\"',\n",
       " '\"19114\",\"Pacific National Airways: ATO\"',\n",
       " '\"19115\",\"Atlantis Airlines Inc.: ATS\"',\n",
       " '\"19116\",\"Aerotransit Inc.: ATT\"',\n",
       " '\"19117\",\"Air Carolina: ATX\"',\n",
       " '\"19118\",\"Air Vectors Airways: AVA\"',\n",
       " '\"19119\",\"Aero Virgin Islands Corp.: AVI\"',\n",
       " '\"19120\",\"Aviation Services: AVS\"',\n",
       " '\"19121\",\"Southern Jersey Airways: AVZ\"',\n",
       " '\"19122\",\"Business Aircraft Corp.: BAC\"',\n",
       " '\"19123\",\"Brennan & Hargreaves Inc.: BAH\"',\n",
       " '\"19124\",\"Bankair Inc.: BAK\"',\n",
       " '\"19125\",\"Bard-Air Corp.: BAR\"',\n",
       " '\"19126\",\"Baja Cortez Airlines: BCA\"',\n",
       " '\"19127\",\"Bennington Aviation Inc.: BEN\"',\n",
       " '\"19128\",\"Beyer Aviation: BEY\"',\n",
       " '\"19129\",\"Blackhawk Airways Inc.: BHK\"',\n",
       " '\"19130\",\"Bighorn Airways Inc.: BHO\"',\n",
       " '\"19131\",\"Birchwood Air Service: BIR\"',\n",
       " '\"19132\",\"Bremerton Aviation Inc.: BMT\"',\n",
       " '\"19133\",\"Boise Air Service: BOA\"',\n",
       " '\"19134\",\"Brower Airways Inc.: BRO\"',\n",
       " '\"19135\",\"Burlington Airways Inc.: BUR\"',\n",
       " '\"19136\",\"Coleman Air Transport: CAC\"',\n",
       " '\"19137\",\"Crawford Aviation Inc.: CAI\"',\n",
       " '\"19138\",\"C & M Airlines: CAM\"',\n",
       " '\"19139\",\"Metro Air Northeast N Y: CAP\"',\n",
       " '\"19140\",\"Catalina Airlines Inc.: CAT\"',\n",
       " '\"19141\",\"Air Virginia: CAV\"',\n",
       " '\"19142\",\"Carriba Air Inc.: CBA\"',\n",
       " '\"19143\",\"Cen-Tex Airlines Inc.: CEN\"',\n",
       " '\"19144\",\"Century Airlines (Cal): CET\"',\n",
       " '\"19145\",\"Chandler Flyer: CHD\"',\n",
       " '\"19146\",\"Charter Airlines: CHE\"',\n",
       " '\"19147\",\"Hammonds Commuter Air Serv.: CHF\"',\n",
       " '\"19148\",\"Choi Aviation Inc.: CHO\"',\n",
       " '\"19149\",\"Christman Air System: CHS\"',\n",
       " '\"19150\",\"Cal Sierra Airlines: CIS\"',\n",
       " '\"19151\",\"Centennial Airlines: CNN\"',\n",
       " '\"19152\",\"Cotton Belt Aviation Inc.: COB\"',\n",
       " '\"19153\",\"Coker Aviation Inc.: COK\"',\n",
       " '\"19154\",\"Commutair: COM\"',\n",
       " '\"19155\",\"Coral Air Inc.: COR\"',\n",
       " '\"19156\",\"Cosmopolitan Comm. Airline: COS\"',\n",
       " '\"19157\",\"Southeastern Commuter: COT\"',\n",
       " '\"19158\",\"Courtesy Air Service Inc.: COU\"',\n",
       " '\"19159\",\"Capitol Air Lines: CPA\"',\n",
       " '\"19160\",\"Coastal Plains Commuter Inc.: CPC\"',\n",
       " '\"19161\",\"Commuter Airlines: CRA\"',\n",
       " '\"19162\",\"Crown Aviaiton Inc.: CRN\"',\n",
       " '\"19163\",\"Crown Airways Inc.: CRO\"',\n",
       " '\"19164\",\"Crested Butte Air Service: CRT\"',\n",
       " '\"19165\",\"Catskill Airways Inc.: CSK\"',\n",
       " '\"19166\",\"Century Airlines: CTA\"',\n",
       " '\"19167\",\"Cothron Aviation: CTH\"',\n",
       " '\"19168\",\"Catalina-Vegas Airlines: CVA\"',\n",
       " '\"19169\",\"Danbury Airlines: DAN\"',\n",
       " '\"19170\",\"Downeast Airlines Inc.: DEA\"',\n",
       " '\"19171\",\"Decatur Aviation: DEC\"',\n",
       " '\"19172\",\"DHL Airlines Inc.: DHL\"',\n",
       " '\"19173\",\"Dickman Aviation Services: DIC\"',\n",
       " '\"19174\",\"Desert Pacific Airways: DPA\"',\n",
       " '\"19175\",\"Desert Pacific Airlines Inc.: DPI\"',\n",
       " '\"19176\",\"Desert Airlines: DST\"',\n",
       " '\"19177\",\"Executive Aviation Inc.: EAI\"',\n",
       " '\"19178\",\"Eastern Caribbean Airways: EAS\"',\n",
       " '\"19179\",\"Eastern Carolina Aviation: ECI\"',\n",
       " '\"19180\",\"Ede Aire: EDE\"',\n",
       " '\"19181\",\"Executive Four Winds: EFA\"',\n",
       " '\"19182\",\"Eagle Commuter Airlines Inc.: EGL\"',\n",
       " '\"19183\",\"East Hampton Aire Inc.: EHA\"',\n",
       " '\"19184\",\"East. Indiana Aviation Sale: EIA\"',\n",
       " '\"19185\",\"Air Pacific Inc.: EKA\"',\n",
       " '\"19186\",\"Erie Airways Inc.: ERI\"',\n",
       " '\"19187\",\"Empire Aero Service: ERO\"',\n",
       " '\"19188\",\"Evanston Aviation: EVA\"',\n",
       " '\"19189\",\"Federal Armored Service Inc.: FAR\"',\n",
       " '\"19190\",\"Young Flying Service: FBI\"',\n",
       " '\"19191\",\"Southern Airlines Inc.: FCA\"',\n",
       " '\"19192\",\"Florida Airlines Inc.: FDA\"',\n",
       " '\"19193\",\"Freedom Airlines Inc.: FDM\"',\n",
       " '\"19194\",\"Flamenco Airways Inc.: FLM\"',\n",
       " '\"19195\",\"Ford-Aire Inc.: FOR\"',\n",
       " '\"19196\",\"Foster Aviation: FOS\"',\n",
       " '\"19197\",\"Skycraft Inc.: FVA\"',\n",
       " '\"19198\",\"Far West Airlines: FWA\"',\n",
       " '\"19199\",\"General Aviation Inc.: GAS\"',\n",
       " '\"19200\",\"Gromer Aviation Inc.: GAV\"',\n",
       " '\"19201\",\"Central States Airline: GBA\"',\n",
       " '\"19202\",\"Golden Carriage Aire: GCA\"',\n",
       " '\"19203\",\"Midway Commuter: GCS\"',\n",
       " '\"19204\",\"Green Hills Aviation Ltd.: GHA\"',\n",
       " '\"19205\",\"Green Mountain Airlines Ltd.: GMA\"',\n",
       " '\"19206\",\"Copper State Airlines: GOF\"',\n",
       " '\"19207\",\"Isle Royale Seaplane Serv.: GRO\"',\n",
       " '\"19208\",\"Golden South Airlines Inc.: GSL\"',\n",
       " '\"19209\",\"Gull Air Inc.: GUL\"',\n",
       " '\"19210\",\"Gunnel Aviation Inc.: GUN\"',\n",
       " '\"19211\",\"Ross Aviation Inc.: GWE\"',\n",
       " '\"19212\",\"Heussler Air Service Corp: HEU\"',\n",
       " '\"19213\",\"Hensley Flying Service Inc.: HFS\"',\n",
       " '\"19214\",\"Long Island Airlines: HMZ\"',\n",
       " '\"19215\",\"Holiday Airlines Inc.: HOL\"',\n",
       " '\"19216\",\"Iowa Airlines: HOR\"',\n",
       " '\"19217\",\"Pacific Coast Airlines: HPZ\"',\n",
       " '\"19218\",\"Trans-National Airlines Haw: HRA\"',\n",
       " '\"19219\",\"Scenic Airlines Inc.: HSZ\"',\n",
       " '\"19220\",\"Skystream Airlines: HUB\"',\n",
       " '\"19221\",\"Hawking Corporation: HWK\"',\n",
       " '\"19222\",\"Hyannis Aviation: HYA\"',\n",
       " '\"19223\",\"Iowa City Flying Service: ICF\"',\n",
       " '\"19224\",\"Idee Industries Inc.: III\"',\n",
       " '\"19225\",\"Inland Empire Airlines Inc.: INA\"',\n",
       " '\"19226\",\"Indiana Airways Inc. (Pa): IND\"',\n",
       " '\"19227\",\"Indo-Pacific International: IPI\"',\n",
       " '\"19228\",\"Island Airlines: ISL\"',\n",
       " '\"19229\",\"Sunbelt Airlines Inc.: JAM\"',\n",
       " '\"19230\",\"Air Chico: JCM\"',\n",
       " '\"19231\",\"Jer-Don Air: JER\"',\n",
       " '\"19232\",\"Knight Airlines Inc.: KAI\"',\n",
       " '\"19233\",\"Key Airlines: KEE\"',\n",
       " '\"19234\",\"Crown Air: KWZ\"',\n",
       " '\"19235\",\"Chaparral Airlines Inc.: KXZ\"',\n",
       " '\"19236\",\"Lancer Aviation Inc.: LAN\"',\n",
       " '\"19237\",\"Lawrence Aviation: LAW\"',\n",
       " '\"19238\",\"Havasu Airlines: LHA\"',\n",
       " '\"19239\",\"Lakeland Aviation: LLA\"',\n",
       " '\"19240\",\"Aero Commuter: LOS\"',\n",
       " '\"19241\",\"Las Vegas Airlines: LVA\"',\n",
       " '\"19242\",\"Magum Airlines: MAG\"',\n",
       " '\"19243\",\"The Maui Commuter: MAI\"',\n",
       " '\"19244\",\"Marshall\\'s Air Inc.: MAR\"',\n",
       " '\"19245\",\"Maxair Inc.: MAX\"',\n",
       " '\"19246\",\"Mid Continental Airlines In: MCO\"',\n",
       " '\"19247\",\"Metro Airlines: MDU\"',\n",
       " '\"19248\",\"Metroplex Airlines: MET\"',\n",
       " '\"19249\",\"Midway Aviation Inc.: MIY\"',\n",
       " '\"19250\",\"Miller Air Transportersinc: MLL\"',\n",
       " '\"19251\",\"Ocean Airways Inc.: MMH\"',\n",
       " '\"19252\",\"Cumberland Airlines: MNZ\"',\n",
       " '\"19253\",\"Merrimack Aviation Inc.: MRR\"',\n",
       " '\"19254\",\"Midwest Aviation: MST\"',\n",
       " '\"19255\",\"Arkansas Traveler Airline: MTA\"',\n",
       " '\"19256\",\"Metroflight Airlines: MTR\"',\n",
       " '\"19257\",\"National Air Commuter Inc.: NAC\"',\n",
       " '\"19258\",\"New Born Wings Inc.: NEB\"',\n",
       " '\"19259\",\"Nor East Commuter Airlines: NEC\"',\n",
       " '\"19260\",\"Nevada Airlines: NEV\"',\n",
       " '\"19261\",\"Northern Eagle Airways Inc.: NGL\"',\n",
       " '\"19262\",\"Newair Flight Inc.: NHA\"',\n",
       " '\"19263\",\"N. J. Merrimack Airlines: NJA\"',\n",
       " '\"19264\",\"E. J. A. Newport Inc.: NPT\"',\n",
       " '\"19265\",\"Northaire: NTH\"',\n",
       " '\"19266\",\"Lake State Airways: NUM\"',\n",
       " '\"19267\",\"New York Helicopter Corp.: NYH\"',\n",
       " '\"19268\",\"Harbor Airlines Inc.: OAK\"',\n",
       " '\"19269\",\"Ocean Reef Airways Inc.: OCR\"',\n",
       " '\"19270\",\"Offshore Logistics: OFF\"',\n",
       " '\"19271\",\"Omaha Aviation: OHA\"',\n",
       " '\"19272\",\"Corporate Air Inc.: OIZ\"',\n",
       " '\"19273\",\"Omak Aviation Airlines: OMK\"',\n",
       " '\"19274\",\"Omni Pacific Airline: OMN\"',\n",
       " '\"19275\",\"Sun Aire Lines: OOZ\"',\n",
       " '\"19276\",\"Air Kentucky Air Lines: OWS\"',\n",
       " '\"19277\",\"Permian Airways Inc.: PAI\"',\n",
       " '\"19278\",\"Provincetown Boston: PBA\"',\n",
       " '\"19279\",\"Piasa Commuter Airlines: PCA\"',\n",
       " '\"19280\",\"Trans Southern Airways: PDA\"',\n",
       " '\"19281\",\"Pearson Aircraft: PEA\"',\n",
       " '\"19282\",\"Air Pennsylvania: PER\"',\n",
       " '\"19283\",\"Petro Aviation Corp.: PET\"',\n",
       " '\"19284\",\"Phillips Airlines: PHL\"',\n",
       " '\"19285\",\"Phoenix Airlines: PHX\"',\n",
       " '\"19286\",\"Pacific Island Airways: PIA\"',\n",
       " '\"19287\",\"Planes Inc.: PLA\"',\n",
       " '\"19288\",\"Polar Airways Inc.: PLZ\"',\n",
       " '\"19289\",\"Pacific Missionary Aviation: PMA\"',\n",
       " '\"19290\",\"Pioneer Airways: PNR\"',\n",
       " '\"19291\",\"Pocono Airlines Inc.: POC\"',\n",
       " '\"19292\",\"Pompano Airways: POM\"',\n",
       " '\"19293\",\"Ponderosa Aviation Inc.: PON\"',\n",
       " '\"19294\",\"Princeton Aviation Corp: PRA\"',\n",
       " '\"19295\",\"Pro Air Services: PRR\"',\n",
       " '\"19296\",\"Precision Valley Aviation: PVA\"',\n",
       " '\"19297\",\"Bar Harbor Airways: QOZ\"',\n",
       " '\"19298\",\"Royal-Air Ltd.: RAL\"',\n",
       " '\"19299\",\"Realwest Airlines: REA\"',\n",
       " '\"19300\",\"Aerosun International Airlines Inc.: RED\"',\n",
       " '\"19301\",\"Royal Hawaiian Airways Inc.: RHA\"',\n",
       " '\"19302\",\"Richardson Aviation: RIC\"',\n",
       " '\"19303\",\"Indiana Airways Inc. (Reid: RID\"',\n",
       " '\"19304\",\"Rio Airways Inc.: RIO\"',\n",
       " '\"19305\",\"Riverside Air Service: RIV\"',\n",
       " '\"19306\",\"Michigan Airways Inc.: RJS\"',\n",
       " '\"19307\",\"Roederer Aviation Inc.: ROE\"',\n",
       " '\"19308\",\"Royal American Airways Inc.: ROY\"',\n",
       " '\"19309\",\"Air Rovers Inc.: RWG\"',\n",
       " '\"19310\",\"Sajen Air Inc.: SAJ\"',\n",
       " '\"19311\",\"Samoan Airlines Inc.: SAM\"',\n",
       " '\"19312\",\"Air Cortez International: SAS\"',\n",
       " '\"19313\",\"Air Americana: SAX\"',\n",
       " '\"19314\",\"Saber Aviation Inc.: SBA\"',\n",
       " '\"19315\",\"Suburban Airlines: SBN\"',\n",
       " '\"19316\",\"Seaco Airlines Inc.: SCO\"',\n",
       " '\"19317\",\"Skyline Airlines: SCT\"',\n",
       " '\"19318\",\"South Coast Airways: SCY\"',\n",
       " '\"19319\",\"Semo Aviation Inc.: SEM\"',\n",
       " '\"19320\",\"Stahmannfarms Inc.: SFI\"',\n",
       " '\"19321\",\"Sfo Helicopter Airlines Inc.: SFO\"',\n",
       " '\"19322\",\"Sierra Flite Service Inc.: SFS\"',\n",
       " '\"19323\",\"Shasta Air Inc.: SHS\"',\n",
       " '\"19324\",\"Shavano Air Inc.: SHV\"',\n",
       " '\"19325\",\"Silver State Airlines: SIA\"',\n",
       " '\"19326\",\"San Juan Airlines Inc.: SJA\"',\n",
       " '\"19327\",\"Bas Airlines: SKL\"',\n",
       " '\"19328\",\"Scheduled Skyways: SKM\"',\n",
       " '\"19329\",\"Stopher Mechanical Inc.: SMC\"',\n",
       " '\"19330\",\"Gelco Courier Services Inc.: SNC\"',\n",
       " '\"19331\",\"Shawnee Airlines: SNE\"',\n",
       " '\"19332\",\"Mall Airways Inc.: SOA\"',\n",
       " '\"19333\",\"Soonair Lines Inc.: SOL\"',\n",
       " '\"19334\",\"Springfield Air Service: SPF\"',\n",
       " '\"19335\",\"Sterling Air Service: SRL\"',\n",
       " '\"19336\",\"Southern Seaplane: SSP\"',\n",
       " '\"19337\",\"Sierra Express Inc.: SSS\"',\n",
       " '\"19338\",\"Seaplane Shuttle Transport: SST\"',\n",
       " '\"19339\",\"Trans East International: STF\"',\n",
       " '\"19340\",\"Star Aviation Corporation: STR\"',\n",
       " '\"19341\",\"Sun International Airways: SUI\"',\n",
       " '\"19342\",\"Sunbelt: SUT\"',\n",
       " '\"19343\",\"Sun Valley Airlines: SVL\"',\n",
       " '\"19344\",\"Sunwest Airlines: SWA\"',\n",
       " '\"19345\",\"Air Colorado: TAC\"',\n",
       " '\"19346\",\"Tejas Airlines Inc.: TAL\"',\n",
       " '\"19347\",\"Yosemite Airlines Inc.: TAS\"',\n",
       " '\"19348\",\"Trans Catalina Airlines: TCA\"',\n",
       " '\"19349\",\"Oceanair Line: TCE\"',\n",
       " '\"19350\",\"Trans California Airlines: TCI\"',\n",
       " '\"19351\",\"Trans-Central Airlines Inc.: TCL\"',\n",
       " '\"19352\",\"Trans-Colorado Airlines: TCO\"',\n",
       " '\"19353\",\"Tennessee Airways Inc.: TEN\"',\n",
       " '\"19354\",\"Terre Haute Air Commuter: TER\"',\n",
       " '\"19355\",\"Thorson Aviation: THO\"',\n",
       " '\"19356\",\"Trans Air Inc.: TIA\"',\n",
       " '\"19357\",\"Skyfreight: TIS\"',\n",
       " '\"19358\",\"Trans Mo Airlines: TMA\"',\n",
       " '\"19359\",\"Transtate Aviation: TNS\"',\n",
       " '\"19360\",\"Trans Pennsylvania Airlines: TRP\"',\n",
       " '\"19361\",\"Trans Sierra Airlines Inc.: TSI\"',\n",
       " '\"19362\",\"Tulsair Beechcraft Inc.: TUL\"',\n",
       " '\"19363\",\"Temsco Airlines: TYE\"',\n",
       " '\"19364\",\"Universal Airways Inc.: UAI\"',\n",
       " '\"19365\",\"Air U.S.: USA\"',\n",
       " '\"19366\",\"Vagabond Aviation Inc.: VAG\"',\n",
       " '\"19367\",\"Britt Airlines Inc.: VER\"',\n",
       " '\"19368\",\"Viking Express: VIG\"',\n",
       " '\"19369\",\"Vale International Airlines: VIN\"',\n",
       " '\"19370\",\"Valley Airlines: VLY\"',\n",
       " '\"19371\",\"Air East Airlines: WAC\"',\n",
       " '\"19372\",\"Walker\\'s International: WCA\"',\n",
       " '\"19373\",\"Mountainwest Airlines: WCI\"',\n",
       " '\"19374\",\"Western Star Airlines Inc.: WES\"',\n",
       " '\"19375\",\"Western Charter Inc.: WET\"',\n",
       " '\"19376\",\"Wheeler Airlines: WFS\"',\n",
       " '\"19377\",\"Wisc Air: WIA\"',\n",
       " '\"19378\",\"Will\\'s Air: WIL\"',\n",
       " '\"19379\",\"Wings Airways: WNG\"',\n",
       " '\"19380\",\"Mcphillips Flying Service: ZFZ\"',\n",
       " '\"19381\",\"Air New Mexico: ZIA\"',\n",
       " '\"19382\",\"Winnipesaukee Aviation Inc.: ZMZ\"',\n",
       " '\"19383\",\"Skyway Aviation Inc.: ZYZ\"',\n",
       " '\"19384\",\"P.S. Air Freight Inc.: PSA\"',\n",
       " '\"19385\",\"Reeve Aleutian Airways Inc.: RV (1)\"',\n",
       " '\"19386\",\"Northwest Airlines Inc.: NW\"',\n",
       " '\"19387\",\"Wien Air Alaska Inc.: WC\"',\n",
       " '\"19388\",\"Southern Airways: FTI\"',\n",
       " '\"19389\",\"Air Florida Inc.: QH\"',\n",
       " '\"19390\",\"Air California Inc.: OC\"',\n",
       " '\"19391\",\"Pacific Southwest Airlines: PS (1)\"',\n",
       " '\"19392\",\"Rich International Airways: RIQ\"',\n",
       " '\"19393\",\"Southwest Airlines Co.: WN\"',\n",
       " '\"19394\",\"Mid-South Aviation Inc.: VL\"',\n",
       " '\"19395\",\"Mid-South Aviation Inc. (1): RCA\"',\n",
       " '\"19396\",\"Sky West Aviation Inc.: QG\"',\n",
       " '\"19397\",\"Republic Airlines Inc.: RC\"',\n",
       " '\"19398\",\"Dauphin Island Airways: DAU\"',\n",
       " '\"19399\",\"New York Air Inc.: NY\"',\n",
       " '\"19400\",\"Global International Airways Corp.: GIQ\"',\n",
       " '\"19401\",\"Colgan Airways Inc.: CJ\"',\n",
       " '\"19402\",\"Overseas National Airways: UNQ\"',\n",
       " '\"19403\",\"Flight International: PTQ\"',\n",
       " '\"19404\",\"Academy Airlines: ACD\"',\n",
       " '\"19405\",\"Check-Air Inc.: ACL\"',\n",
       " '\"19406\",\"Transwest Air Express: ACW\"',\n",
       " '\"19407\",\"Airgo Inc.: AIG\"',\n",
       " '\"19408\",\"American Air Transport: AMT\"',\n",
       " '\"19409\",\"Bo-S-Aire Airlines Inc.: BOI\"',\n",
       " '\"19410\",\"Combs Airways Inc.: CMB\"',\n",
       " '\"19411\",\"Summit Airlines Inc.: DUZ\"',\n",
       " '\"19412\",\"Eagle Aviation Inc.: EEZ\"',\n",
       " '\"19413\",\"Falwell Aviation Inc.: FAA\"',\n",
       " '\"19414\",\"Falcon Airways Inc.: FAC\"',\n",
       " '\"19415\",\"Pinehurst Airlines Inc.: PHR\"',\n",
       " '\"19416\",\"Great Western Airlines Inc.: ROS\"',\n",
       " '\"19417\",\"Air Freight Express: RRT\"',\n",
       " '\"19418\",\"S. S. Airways Inc.: SSA\"',\n",
       " '\"19419\",\"Aero Union Corp: XAA\"',\n",
       " '\"19420\",\"Air Express International Airlines: XAC\"',\n",
       " '\"19421\",\"Central American International: XAJ\"',\n",
       " '\"19422\",\"Michigan Peninsula Airways: XAT\"',\n",
       " '\"19423\",\"WTC Airlines: XBF\"',\n",
       " '\"19424\",\"Profit Airlines Inc.: XBH\"',\n",
       " '\"19425\",\"CF Air Freight: XBI\"',\n",
       " '\"19426\",\"International Air Service: XBJ\"',\n",
       " '\"19427\",\"Aeronaves De Puerto Rico: XBQ\"',\n",
       " '\"19428\",\"Allstates Air Cargo Inc.: XBR\"',\n",
       " '\"19429\",\"Cam Air International Inc.: XAQ\"',\n",
       " '\"19430\",\"Purolator Sky Courier Inc.: XAZ\"',\n",
       " '\"19431\",\"Circle Airfreight Corp.: XBP\"',\n",
       " '\"19432\",\"Pacific Alaska Airlines Inc.: XBT\"',\n",
       " '\"19433\",\"Icb International Airlines: XBX\"',\n",
       " '\"19434\",\"Cohlmia Aviation: XAM\"',\n",
       " '\"19435\",\"Amerford Airways Inc.: XAE\"',\n",
       " '\"19436\",\"Astro-Wing Airlines Inc.: XAF\"',\n",
       " '\"19437\",\"Ball Brothers Inc.: XAG\"',\n",
       " '\"19438\",\"Burlington Northern Inc.: XAI\"',\n",
       " '\"19439\",\"Century Airlines Inc.: XAK\"',\n",
       " '\"19440\",\"Dallas Flight Center: XAO\"',\n",
       " '\"19441\",\"Jet Way Inc.: XAR\"',\n",
       " '\"19442\",\"Klondike Air Inc.: XAS\"',\n",
       " '\"19443\",\"Pat Air: XAY\"',\n",
       " '\"19444\",\"Phh Air Inc.: XBM\"',\n",
       " '\"19445\",\"Flight Line Inc.: XAU\"',\n",
       " '\"19446\",\"Viking International Airlines Inc.: CGL\"',\n",
       " '\"19447\",\"Capitol International Inc.: CL\"',\n",
       " '\"19448\",\"Air Caravane Inc.: AEQ\"',\n",
       " '\"19449\",\"Argo S. A.: AGQ\"',\n",
       " '\"19450\",\"Norontair: AIQ\"',\n",
       " '\"19451\",\"Alberta Northern Airlines: ALQ\"',\n",
       " '\"19452\",\"Aviacion Y Comercio S.A.: AO\"',\n",
       " '\"19453\",\"Air Bvi Limited: BLQ\"',\n",
       " '\"19454\",\"Spantax S. A.: BXQ\"',\n",
       " '\"19455\",\"Dan Air Services: DA\"',\n",
       " '\"19456\",\"Maersk Air I/S: DM\"',\n",
       " '\"19457\",\"Aerolineas Dominicanas S A: DOQ\"',\n",
       " '\"19458\",\"Caribwest Airways Ltd.: DQQ\"',\n",
       " '\"19459\",\"Execaire Aviation Ltd.: EBQ\"',\n",
       " '\"19460\",\"Aero Trades (Western) Ltd.: ERQ\"',\n",
       " '\"19461\",\"Fast Air Carrier Ltd. (1): FAQ\"',\n",
       " '\"19462\",\"Business Flights Ltd.: HIQ\"',\n",
       " '\"19463\",\"Tar Airlines: HRQ\"',\n",
       " '\"19464\",\"Transavia Holland B. V.: HVQ\"',\n",
       " '\"19465\",\"Iscargo Hf: ICQ\"',\n",
       " '\"19466\",\"Tradewinds Airways Ltd.: IKQ\"',\n",
       " '\"19467\",\"Aerlinte Eireann Teoranta: IN\"',\n",
       " '\"19468\",\"Iran National Airlines Corp: IR\"',\n",
       " '\"19469\",\"Inair: IXQ\"',\n",
       " '\"19470\",\"Allarco Developments Ltd.: JXQ\"',\n",
       " '\"19471\",\"Transmeridian Air Cargo Ltd.: KKQ\"',\n",
       " '\"19472\",\"Kelowna Flightcraft Air Cha: KWQ\"',\n",
       " '\"19473\",\"Liat (1974) Limited: LIQ\"',\n",
       " '\"19474\",\"Millardair Limited: MAQ\"',\n",
       " '\"19475\",\"Montana Austria Flugetrieb: MGQ\"',\n",
       " '\"19476\",\"P.N. Merpati Nusantara Air.: MZ\"',\n",
       " '\"19477\",\"North Cariboo Flying Serv.: NFQ\"',\n",
       " '\"19478\",\"Norcanair: NKQ\"',\n",
       " '\"19479\",\"Northward Airlines Ltd.: NN\"',\n",
       " '\"19480\",\"North Coast Air Services: NSQ\"',\n",
       " '\"19481\",\"National Aviation Consult.: NTQ\"',\n",
       " '\"19482\",\"Air Niugini: NUQ\"',\n",
       " '\"19483\",\"Nunasi-Central Airlines Ltd.: ONQ\"',\n",
       " '\"19484\",\"Ontario Worldair Limited: OWQ\"',\n",
       " '\"19485\",\"Pem-Air Limited: PD (1)\"',\n",
       " '\"19486\",\"Eastern Provincial Airways: PV\"',\n",
       " '\"19487\",\"Pacific Western Airlines: PW\"',\n",
       " '\"19488\",\"Inter-Quebec (Intair): QB\"',\n",
       " '\"19489\",\"Syrian Arab Airlines: RB\"',\n",
       " '\"19490\",\"Aerotransportes Entre Rios: RSQ\"',\n",
       " '\"19491\",\"Redcoat Air Cargo Limited: RY\"',\n",
       " '\"19492\",\"Skycharter (Malton) Ltd.: SJQ\"',\n",
       " '\"19493\",\"Superior Airways Limited: SSQ\"',\n",
       " '\"19494\",\"Belize Airways Limited: ST\"',\n",
       " '\"19495\",\"Skycraft Air Transport Inc.: STQ\"',\n",
       " '\"19496\",\"Trans-Mediterranean Airways: TLQ\"',\n",
       " '\"19497\",\"British Caribbean Airways: TXQ\"',\n",
       " '\"19498\",\"Air Manila Inc.: UMQ\"',\n",
       " '\"19499\",\"Avalon Aviation Ltd.: VOQ\"',\n",
       " '\"19500\",\"Wardair Canada Inc.: WDQ\"',\n",
       " '\"19501\",\"Gateway Aviation Limited: WGQ\"',\n",
       " '\"19502\",\"Windward Islands Airways: WM\"',\n",
       " '\"19503\",\"Nal Inc.: XBV\"',\n",
       " '\"19504\",\"Yellow Bird Air: YBQ\"',\n",
       " '\"19505\",\"Air Europe Limited: AE\"',\n",
       " '\"19506\",\"Intair: ND\"',\n",
       " '\"19507\",\"Yugoslav Airlines: JU\"',\n",
       " '\"19508\",\"Union De Transports Aeriens: UT\"',\n",
       " '\"19509\",\"Air Haiti S. A.: HJ\"',\n",
       " '\"19510\",\"Servicio Aereo De Honduras: SH\"',\n",
       " '\"19511\",\"Sterling Airways A/S: NBQ\"',\n",
       " '\"19512\",\"Aerolineas El Salvador S A: SZQ\"',\n",
       " '\"19513\",\"Transp. Aereos Bolivianos: BOQ\"',\n",
       " '\"19514\",\"Aeronaves Del Peru: ADQ\"',\n",
       " '\"19515\",\"Compania Dominicana De Avia: DO\"',\n",
       " '\"19516\",\"Nigeria Airways Ltd.: WT\"',\n",
       " '\"19517\",\"Lineas Aereas Paraguayas: PZ\"',\n",
       " '\"19518\",\"Lufthansa Cargo Airlines: GE\"',\n",
       " '\"19519\",\"Venezuelan International Airways: VA (1)\"',\n",
       " '\"19520\",\"Andes: ED\"',\n",
       " '\"19521\",\"Compan. De Aviacion Faucett: CF\"',\n",
       " '\"19522\",\"Aviateca: GU\"',\n",
       " '\"19523\",\"Canadian Airlines International Ltd.: CP (1)\"',\n",
       " '\"19524\",\"Guyana Airways Corporation: GY\"',\n",
       " '\"19525\",\"Seagreen Air Transport: ESQ\"',\n",
       " '\"19526\",\"Air Nauru: ON\"',\n",
       " '\"19527\",\"Aero Peru: PL\"',\n",
       " '\"19528\",\"Balair Ag: BBQ\"',\n",
       " '\"19529\",\"Sabena Belgian World Air.: SN (1)\"',\n",
       " '\"19530\",\"Air Afrique: RK\"',\n",
       " '\"19531\",\"Air Canada: AC\"',\n",
       " '\"19532\",\"Compagnie Natl Air France: AF\"',\n",
       " '\"19533\",\"National Aviation Company of India Limited d/b/a Air India: AI\"',\n",
       " '\"19534\",\"Aeromexico: AM\"',\n",
       " '\"19535\",\"Aerolineas Argentinas: AR\"',\n",
       " '\"19536\",\"Royal Air Maroc: AT\"',\n",
       " '\"19537\",\"Aerovias Nacl De Colombia: AV\"',\n",
       " '\"19538\",\"Finnair Oy: AY\"',\n",
       " '\"19539\",\"Compagnia Aerea Italiana: AZ\"',\n",
       " '\"19540\",\"British Airways Plc: BA\"',\n",
       " '\"19541\",\"British Midland Airways Ltd.: BD\"',\n",
       " '\"19542\",\"Caribbean Airlines Limited: BW\"',\n",
       " '\"19543\",\"Air China: CA\"',\n",
       " '\"19544\",\"China Airlines Ltd.: CI\"',\n",
       " '\"19545\",\"Cargolux Airlines International S.A: CV\"',\n",
       " '\"19546\",\"Icelandair: FI\"',\n",
       " '\"19547\",\"Iberia Air Lines Of Spain: IB\"',\n",
       " '\"19548\",\"Japan Air Lines Co. Ltd.: JL\"',\n",
       " '\"19549\",\"Air Jamaica Limited: JM\"',\n",
       " '\"19550\",\"Korean Air Lines Co. Ltd.: KE\"',\n",
       " '\"19551\",\"Klm Royal Dutch Airlines: KL\"',\n",
       " '\"19552\",\"Lan-Chile Airlines: LA\"',\n",
       " '\"19553\",\"Lloyd Aereo Boliviano S. A.: LB\"',\n",
       " '\"19554\",\"Lufthansa German Airlines: LH\"',\n",
       " '\"19555\",\"Polskie Linie Lotnicze: LO\"',\n",
       " '\"19556\",\"Lacsa: LR\"',\n",
       " '\"19557\",\"Luftransport-Unternehmen: LT\"',\n",
       " '\"19558\",\"El Al Israel Airlines Ltd.: LY\"',\n",
       " '\"19559\",\"Compania Mexicana De Aviaci: MX\"',\n",
       " '\"19560\",\"N. W. Territorial Airways: NWQ\"',\n",
       " '\"19561\",\"Olympic Airways: OA\"',\n",
       " '\"19562\",\"Polynesian Airlines Ltd.: PH\"',\n",
       " '\"19563\",\"Pakistan International Airlines: PK\"',\n",
       " '\"19564\",\"Philippine Airlines Inc.: PR\"',\n",
       " '\"19565\",\"Surinam Airways Limited: PY\"',\n",
       " '\"19566\",\"Qantas Airways Ltd.: QF\"',\n",
       " '\"19567\",\"Varig S. A.: RG\"',\n",
       " '\"19568\",\"Alia-(The) Royal Jordanian: RJ\"',\n",
       " '\"19569\",\"Tarom Romanian Air Transpor: RO\"',\n",
       " '\"19570\",\"South African Airways: SA\"',\n",
       " '\"19571\",\"Scandinavian Airlines Sys.: SK\"',\n",
       " '\"19572\",\"Singapore Airlines Ltd.: SQ\"',\n",
       " '\"19573\",\"Aeroflot Russian Airlines: SU\"',\n",
       " '\"19574\",\"Taca International Airlines: TA\"',\n",
       " '\"19575\",\"Thai Airways International Ltd.: TG\"',\n",
       " '\"19576\",\"Tap-Portuguese Airlines: TP\"',\n",
       " '\"19577\",\"Bahamasair Holding Limited: UP\"',\n",
       " '\"19578\",\"Transtar Airlines Corp.: MC\"',\n",
       " '\"19579\",\"Heavylift Cargo Airlines Lt: HLQ\"',\n",
       " '\"19580\",\"Ladeco: UC\"',\n",
       " '\"19581\",\"Altus Airlines: ALT\"',\n",
       " '\"19582\",\"Atlantic Air: ANC\"',\n",
       " '\"19583\",\"Aero International Airlines: BAA\"',\n",
       " '\"19584\",\"Northern Star: DIR\"',\n",
       " '\"19585\",\"Skytrain: SKT\"',\n",
       " '\"19586\",\"Trans Air Cargo Inc.: TGO\"',\n",
       " '\"19587\",\"T-Bird Air Inc.: THQ\"',\n",
       " '\"19588\",\"Royal West Airways Inc.: ROA\"',\n",
       " '\"19589\",\"Air East Of Delaware Inc.: AED\"',\n",
       " '\"19590\",\"Atlanta Express: ALX\"',\n",
       " '\"19591\",\"Air New Orleans: AOR\"',\n",
       " '\"19592\",\"Air Vermont Inc.: AVR\"',\n",
       " '\"19593\",\"Dolphin Airways Inc.: DOL\"',\n",
       " '\"19594\",\"Devoe Airlines: DVO\"',\n",
       " '\"19595\",\"Golden Pacific Airlines: KIN\"',\n",
       " '\"19596\",\"National Florida Airlines: NFA\"',\n",
       " '\"19597\",\"Slocum Air Inc.: SLO\"',\n",
       " '\"19598\",\"State Airlines Inc.: STA\"',\n",
       " '\"19599\",\"Air Molakai: TRO\"',\n",
       " '\"19600\",\"Williams Air Inc.: WIR\"',\n",
       " '\"19601\",\"Mission Air: WSU\"',\n",
       " '\"19602\",\"Guy-America Airways Inc.: HX\"',\n",
       " '\"19603\",\"Pacific Express: VB (1)\"',\n",
       " '\"19604\",\"Northeastern International Airways: QS (1)\"',\n",
       " '\"19605\",\"Friendship Air Alaska: HAR\"',\n",
       " '\"19606\",\"Minuteman Aviation Inc.: MIN\"',\n",
       " '\"19607\",\"Virgin Islands Seaplane: VIS\"',\n",
       " '\"19608\",\"Flying Tiger Line Inc.: FT\"',\n",
       " '\"19609\",\"Aerocondor: OD (1)\"',\n",
       " '\"19610\",\"Emerald Airlines Inc.: OD\"',\n",
       " '\"19611\",\"Northern Airlines Inc.: NRN\"',\n",
       " '\"19612\",\"Pacific East Air Inc.: 6P\"',\n",
       " '\"19613\",\"Jet Charter Service Inc.: TJ\"',\n",
       " '\"19614\",\"Aeroservicios Ecuatorianos: EOQ\"',\n",
       " '\"19615\",\"Arista International Airlines Inc.: RAQ\"',\n",
       " '\"19616\",\"Kuwait Airways Corp.: KU\"',\n",
       " '\"19617\",\"Burlington Aeroplane Co.: BAY\"',\n",
       " '\"19618\",\"Desert Sun Airlines: DSA\"',\n",
       " '\"19619\",\"Lake Union Air Service: LAS\"',\n",
       " '\"19620\",\"Aer Turas Teoranta: QTQ\"',\n",
       " '\"19621\",\"Aero B Venezuela C.A.: AFQ\"',\n",
       " '\"19622\",\"Air Ontario Limited: GX\"',\n",
       " '\"19623\",\"Aer Lingus Plc: EI\"',\n",
       " '\"19624\",\"Saudi Arabian Airlines Corp: SV\"',\n",
       " '\"19625\",\"Air Polynesia d/b/a DHL Cargo: XAB\"',\n",
       " '\"19626\",\"Air Natl Aircraft Sal & Ser: XBZ\"',\n",
       " '\"19627\",\"A/S Conair: CIQ\"',\n",
       " '\"19628\",\"Dash Air Corporation: ANI\"',\n",
       " '\"19629\",\"Air Resorts Airlines: ARA\"',\n",
       " '\"19630\",\"Manu\\'a Air Transport: MUA\"',\n",
       " '\"19631\",\"Pacific Cal Air: PCL\"',\n",
       " '\"19632\",\"Service Aviation Inc.: SER\"',\n",
       " '\"19633\",\"The Time Machine: TTM\"',\n",
       " '\"19634\",\"Servicio De Carga Aerea Sa: CMQ\"',\n",
       " '\"19635\",\"Hapag Lloyd Flug.: HAQ\"',\n",
       " '\"19636\",\"Air One Inc.: CB\"',\n",
       " '\"19637\",\"Middle East Airlines S.A.L.: ME\"',\n",
       " '\"19638\",\"Arcata Flying Service: AFS\"',\n",
       " '\"19639\",\"Grand Canyon Airlines: GRD\"',\n",
       " '\"19640\",\"Kodiak Airways Inc.: KOD\"',\n",
       " '\"19641\",\"Mid-Atlantic Exp. Airlines: MAE\"',\n",
       " '\"19642\",\"National Commuter Airlines: NCA\"',\n",
       " '\"19643\",\"Sundorph Aeronautical Corp.: SAC\"',\n",
       " '\"19644\",\"Waring Air: WAR\"',\n",
       " '\"19645\",\"All Star Airlines Inc.: EP\"',\n",
       " '\"19646\",\"Aeron International Airlines Inc.: AXQ\"',\n",
       " '\"19647\",\"Jet Fleet Intl. Airlines: JIQ\"',\n",
       " '\"19648\",\"Markair Express: HER\"',\n",
       " '\"19649\",\"Alaska Island Air Inc.: LSZ\"',\n",
       " '\"19650\",\"Air Sunshine Inc.: AAT\"',\n",
       " '\"19651\",\"Eastman Airways Inc.: EAT\"',\n",
       " '\"19652\",\"Spirit Helicopter: SPH\"',\n",
       " '\"19653\",\"Air National: AHQ\"',\n",
       " '\"19654\",\"Executive Charter: EXC (1)\"',\n",
       " '\"19655\",\"Aviation Associates: SNA\"',\n",
       " '\"19656\",\"Airmarc Airlines Inc.: ARM\"',\n",
       " '\"19657\",\"Panorama Air Tours: PAT\"',\n",
       " '\"19658\",\"Trans-Air-Link Corporation: TKQ\"',\n",
       " '\"19659\",\"Audi Air Inc.: AAI\"',\n",
       " '\"19660\",\"Galaxy Airlines Inc.: GAQ\"',\n",
       " '\"19661\",\"Intl Air Service Co. Ltd.: IDQ\"',\n",
       " '\"19662\",\"Transbrasil S.A.: TR\"',\n",
       " '\"19663\",\"Hawkins And Powers Aviation: XCA\"',\n",
       " '\"19664\",\"Jet East Inc.: XBC\"',\n",
       " '\"19665\",\"Air Sedona: ARS\"',\n",
       " '\"19666\",\"Caribbean Express Inc.: CRE\"',\n",
       " '\"19667\",\"Tri-State Airlines Inc.: TFZ\"',\n",
       " '\"19668\",\"Frontier Horizon Inc.: FH\"',\n",
       " '\"19669\",\"Aermediterranea S.P.A.: AWQ\"',\n",
       " '\"19670\",\"Markair Inc.: BF\"',\n",
       " '\"19671\",\"Air Tungaru Corporation: VK\"',\n",
       " '\"19672\",\"Resort Airlines Inc.: RES\"',\n",
       " '\"19673\",\"Alpine Air: AAV\"',\n",
       " '\"19674\",\"Americair Inc.: AME\"',\n",
       " '\"19675\",\"Airspur Helicopters Inc.: ARP\"',\n",
       " '\"19676\",\"Silver Kris Services Ltd.: SKS\"',\n",
       " '\"19677\",\"Buffalo Airways Inc.: BFQ\"',\n",
       " '\"19678\",\"Aloha Airlines Inc.: AQ\"',\n",
       " '\"19679\",\"Air Spirit Inc.: APS\"',\n",
       " '\"19680\",\"Metro Express: EME\"',\n",
       " '\"19681\",\"Frontier Commuter: FRT\"',\n",
       " '\"19682\",\"Virgin Atlantic Airways: VS\"',\n",
       " '\"19683\",\"Airmark Corporation: MKQ\"',\n",
       " '\"19684\",\"Independent Air Inc.: INQ\"',\n",
       " '\"19685\",\"Aerial Transit Company: TPQ\"',\n",
       " '\"19686\",\"Westflight Aviation: WFT\"',\n",
       " '\"19687\",\"Horizon Air: QX\"',\n",
       " '\"19688\",\"Midway Express Airlines: 2M\"',\n",
       " '\"19689\",\"St. Lucia Airways Limited: SDQ\"',\n",
       " '\"19690\",\"Hawaiian Airlines Inc.: HA\"',\n",
       " '\"19691\",\"Pacific Air Express Inc.: XDA\"',\n",
       " '\"19692\",\"Trump Air: RIA\"',\n",
       " '\"19693\",\"North Pacific Airlines Inc.: NPA\"',\n",
       " '\"19694\",\"Flirite Inc.: FLR\"',\n",
       " '\"19695\",\"Talarik Creek Air Taxi: TAT\"',\n",
       " '\"19696\",\"Royale Airlines Inc.: RAY\"',\n",
       " '\"19697\",\"Worldways Canada Ltd.: WWQ\"',\n",
       " '\"19698\",\"Air Charter (Safa): AQQ\"',\n",
       " '\"19699\",\"Samoa Airlines Inc.: MB\"',\n",
       " '\"19700\",\"Alpha Air: APH\"',\n",
       " '\"19701\",\"Jetaire Airlines Inc.: JTA\"',\n",
       " '\"19702\",\"Haiti Air: KB\"',\n",
       " '\"19703\",\"Harbor Air Service: HSV\"',\n",
       " '\"19704\",\"Continental Air Lines Inc.: CO\"',\n",
       " '\"19705\",\"Interstate Airlines Inc.: IRQ\"',\n",
       " '\"19706\",\"Hawaii Pacific Helicopters: CLD\"',\n",
       " '\"19707\",\"Eastern Air Lines Inc.: EA\"',\n",
       " '\"19708\",\"Chisum Flying Service: CSM\"',\n",
       " '\"19709\",\"AvAir: AMR\"',\n",
       " '\"19710\",\"Armstrong Air Service Inc.: AAP\"',\n",
       " '\"19711\",\"Eagle Airline: EGA\"',\n",
       " '\"19712\",\"Business Express Airlines: BEA\"',\n",
       " '\"19713\",\"Alliance Airlines: ACN\"',\n",
       " '\"19714\",\"Astor Air: ASR\"',\n",
       " '\"19715\",\"West Penn Commuter: BAT\"',\n",
       " '\"19716\",\"Barken International: BRK\"',\n",
       " '\"19717\",\"Commuter Airlines (Ca): CMR\"',\n",
       " '\"19718\",\"Cresent Medivac: CRH\"',\n",
       " '\"19719\",\"Coastal Air Transport: CTL\"',\n",
       " '\"19720\",\"Exec Express: EEX\"',\n",
       " '\"19721\",\"La Skycab Airline: LAA\"',\n",
       " '\"19722\",\"National Air: NAT\"',\n",
       " '\"19723\",\"Omniflight Airways: OMI\"',\n",
       " '\"19724\",\"Southern Express Airways: SEP\"',\n",
       " '\"19725\",\"Turner Aire: TUR\"',\n",
       " '\"19726\",\"AAR Western Skyways: WSK\"',\n",
       " '\"19727\",\"Skybus Inc.: FW\"',\n",
       " '\"19728\",\"Caicos Caribbean Airways: CUQ\"',\n",
       " '\"19729\",\"Jet Express: BDE\"',\n",
       " '\"19730\",\"Regent Air Corporation: 4R\"',\n",
       " '\"19731\",\"Westates Airlines: WTA\"',\n",
       " '\"19732\",\"Action Airlines: AON\"',\n",
       " '\"19733\",\"California Seaboard: CAF\"',\n",
       " '\"19734\",\"Enterprise Airlines Inc.: ENT\"',\n",
       " '\"19735\",\"Island Air Express: IEX\"',\n",
       " '\"19736\",\"Maui Airlines: MAA\"',\n",
       " '\"19737\",\"Metro Express 11: MEX\"',\n",
       " '\"19738\",\"Otter Air: OTT\"',\n",
       " '\"19739\",\"Prime Air Inc.: PRM\"',\n",
       " '\"19740\",\"Sallee\\'s Aviation: SAL\"',\n",
       " '\"19741\",\"Wrangell Air Service: WGL\"',\n",
       " '\"19742\",\"Atlantic Gulf Airlines: ZY\"',\n",
       " '\"19743\",\"Skyworld Airlines Inc.: PKQ\"',\n",
       " '\"19744\",\"Presidential Airways Inc.: XV\"',\n",
       " '\"19745\",\"Caribbean Air Cargo Co Ltd.: DC\"',\n",
       " '\"19746\",\"P.T. Garuda Indonesian Arwy: GA\"',\n",
       " '\"19747\",\"Egyptair: MS\"',\n",
       " '\"19748\",\"Bay Air: BYA\"',\n",
       " '\"19749\",\"Five Star Airlines: FFQ\"',\n",
       " '\"19750\",\"King Flying Service: KFS\"',\n",
       " '\"19751\",\"Le Point Air: LEQ\"',\n",
       " '\"19752\",\"Barrow Air: BRW\"',\n",
       " '\"19753\",\"Big Island Air: BIA\"',\n",
       " '\"19754\",\"Cityhop: CCA\"',\n",
       " '\"19755\",\"GP Express Airlines: GPA\"',\n",
       " '\"19756\",\"Iowa Airways: IOW\"',\n",
       " '\"19757\",\"Mountain West Airlines: MWA\"',\n",
       " '\"19758\",\"Resort Commuter: RSC\"',\n",
       " '\"19759\",\"Texas National Airlines: TXA\"',\n",
       " '\"19760\",\"Air Hawaii: AHC\"',\n",
       " '\"19761\",\"Aerotal: XK\"',\n",
       " '\"19762\",\"Air L.A.: ALS\"',\n",
       " '\"19763\",\"Aero Coach: AEO\"',\n",
       " '\"19764\",\"Air Link Airways: ALK\"',\n",
       " '\"19765\",\"Million Air: BFG\"',\n",
       " '\"19766\",\"Helitrans: HEL\"',\n",
       " '\"19767\",\"La Helicopter: LAH\"',\n",
       " '\"19768\",\"Omniflight Helicopters: OMH\"',\n",
       " '\"19769\",\"Reeves Air: RVA\"',\n",
       " '\"19770\",\"Compania Panamena (Copa): CM\"',\n",
       " '\"19771\",\"Zas Airline Of Egypt: ZAQ\"',\n",
       " '\"19772\",\"Polar International: POL\"',\n",
       " '\"19773\",\"Hemisphere Air Charter: XDC\"',\n",
       " '\"19774\",\"Airways International: AIT\"',\n",
       " '\"19775\",\"Chicago Airlines: CGA\"',\n",
       " '\"19776\",\"Royal West Airlines: YM\"',\n",
       " '\"19777\",\"Airpac Inc.: XYZ\"',\n",
       " '\"19778\",\"Aerovias Venezolanas-Avensa: VE\"',\n",
       " '\"19779\",\"Cathay Pacific Airways Ltd.: CX\"',\n",
       " '\"19780\",\"Galena Air Service: GAL\"',\n",
       " '\"19781\",\"Stateswest Airlines: STW\"',\n",
       " '\"19782\",\"Executive Transport: EXR\"',\n",
       " '\"19783\",\"Propheter Aviation: PRP\"',\n",
       " '\"19784\",\"Wise Airlines Inc.: WAI\"',\n",
       " '\"19786\",\"Haines Airways: HNS\"',\n",
       " '\"19787\",\"Great American Airways: FDQ\"',\n",
       " '\"19788\",\"Air Puerto Rico Airlines: FD\"',\n",
       " '\"19789\",\"Viacao Aerea Sao Paulo: VP\"',\n",
       " '\"19790\",\"Delta Air Lines Inc.: DL\"',\n",
       " '\"19791\",\"All Nippon Airways Co.: NH\"',\n",
       " '\"19792\",\"International Parcel Express Inc.: XDD\"',\n",
       " '\"19793\",\"Anglo Airlines Ltd.: AZQ\"',\n",
       " '\"19794\",\"Midcontinent Airlines: MDC\"',\n",
       " '\"19795\",\"Malaysian Airline System: MH\"',\n",
       " '\"19796\",\"Pilgrim Aviation & Airlines: PMT\"',\n",
       " '\"19797\",\"Florida Express Inc.: ZO\"',\n",
       " '\"19798\",\"Orion Air: OPQ\"',\n",
       " '\"19799\",\"Nationair: NAQ\"',\n",
       " '\"19800\",\"Air Cape: APE\"',\n",
       " '\"19801\",\"Lake Coastal: LCT\"',\n",
       " '\"19802\",\"Mst Aviation: MTV\"',\n",
       " '\"19803\",\"First Air: 7F\"',\n",
       " '\"19804\",\"Transportes Aereos De Cabo: VR\"',\n",
       " '\"19805\",\"American Airlines Inc.: AA\"',\n",
       " '\"19806\",\"Air Charter Systems (Acs): WAQ\"',\n",
       " '\"19807\",\"Helitac Aviation: HET\"',\n",
       " '\"19808\",\"Belize Air International Ltd.: BM\"',\n",
       " '\"19809\",\"Highland Express Airways: VY\"',\n",
       " '\"19810\",\"Mid Pacific Airlines Inc.: MPA\"',\n",
       " '\"19811\",\"Aero Tranportes Panamenos: ATQ\"',\n",
       " '\"19812\",\"Millon Air Inc.: LBQ\"',\n",
       " '\"19813\",\"Air Caribe International: ARB\"',\n",
       " '\"19814\",\"Air South (1): ASU\"',\n",
       " '\"19815\",\"Air South: ASH\"',\n",
       " '\"19816\",\"Bangor International Air: BAN\"',\n",
       " '\"19817\",\"Chester County Aviation: CCO\"',\n",
       " '\"19818\",\"East Coast Airways: ECR\"',\n",
       " '\"19819\",\"Hub Express: HEP\"',\n",
       " '\"19820\",\"Tropical Helicopter Airways: THA\"',\n",
       " '\"19821\",\"Turk Hava Yollari A.O.: TK\"',\n",
       " '\"19822\",\"Piedmont Aviation Inc.: PI\"',\n",
       " '\"19823\",\"Air Train Inc.: XDE\"',\n",
       " '\"19824\",\"Haiti Air Freight Intl: HFQ\"',\n",
       " '\"19825\",\"Ketchikan Air Service: KET\"',\n",
       " '\"19826\",\"Salair Inc.: XDF\"',\n",
       " '\"19827\",\"Npa Inc.: NAP\"',\n",
       " '\"19828\",\"Air America: GM\"',\n",
       " '\"19829\",\"Time Air Ltd.: KI\"',\n",
       " '\"19830\",\"Nippon Cargo Airlines: KZ\"',\n",
       " '\"19831\",\"Seagull Air Service: SEG\"',\n",
       " '\"19832\",\"Nasville Eagle: NAS\"',\n",
       " '\"19833\",\"Aleutian Air: ALU\"',\n",
       " '\"19834\",\"Custom Air Service: CUS\"',\n",
       " '\"19835\",\"GCS Air Service: GSC\"',\n",
       " '\"19836\",\"Golden State Airlines: GST\"',\n",
       " '\"19837\",\"Springdale Air: SPG\"',\n",
       " '\"19838\",\"Sportsman Flying Service: SPR\"',\n",
       " '\"19839\",\"Saeta Airlines: EH\"',\n",
       " '\"19840\",\"Aerolineas Mundo: MUQ\"',\n",
       " '\"19841\",\"Tropical Airways Inc.: GG (1)\"',\n",
       " '\"19842\",\"Grenada Airways Ltd.: GG (2)\"',\n",
       " '\"19843\",\"Mid Pacific Air Corp.: MPC\"',\n",
       " '\"19844\",\"Exec Express II: EET\"',\n",
       " '\"19845\",\"Taquan Air Service: TAQ\"',\n",
       " '\"19846\",\"Chartair: CTR\"',\n",
       " '\"19847\",\"Laredo Air: LAR\"',\n",
       " '\"19848\",\"Qwest Commuter: QWE\"',\n",
       " '\"19849\",\"Tri Air Freight: TAF\"',\n",
       " '\"19850\",\"Wra Inc.: WRA\"',\n",
       " '\"19851\",\"Zambia Airways Corp.: Q2\"',\n",
       " '\"19852\",\"Swissair Transport Co. Ltd.: SR\"',\n",
       " '\"19853\",\"Airlift International: ARD\"',\n",
       " '\"19854\",\"Pacair: PCR\"',\n",
       " '\"19855\",\"Bradley Air Services Ltd.: BCQ\"',\n",
       " '\"19856\",\"Corse Air International: CYQ\"',\n",
       " '\"19857\",\"Iraqi Airways: IA\"',\n",
       " '\"19858\",\"Monarch Airlines: ZB\"',\n",
       " '\"19859\",\"Vacationair: VAQ\"',\n",
       " '\"19860\",\"Lineas Aereas La-Tur Sa: LUQ\"',\n",
       " '\"19861\",\"Holidair Airways: HOQ\"',\n",
       " '\"19862\",\"Aerovias S.A.: AOQ\"',\n",
       " '\"19863\",\"Alas De Transporte International: APQ\"',\n",
       " '\"19864\",\"Transamerica Airlines Inc.: TV (1)\"',\n",
       " '\"19865\",\"Haiti Trans Air: TV\"',\n",
       " '\"19866\",\"Canadian Aviation Express: CWQ\"',\n",
       " '\"19867\",\"Japan Air System Co. Ltd.: JD\"',\n",
       " '\"19868\",\"Manhattan Express: MEA\"',\n",
       " '\"19869\",\"Britannia Airways Ltd.: BY\"',\n",
       " '\"19870\",\"Aero Freight: AEF\"',\n",
       " '\"19871\",\"Panama Aviation: PNM\"',\n",
       " '\"19872\",\"Welch Aviation: WLH\"',\n",
       " '\"19873\",\"Austrian Airlines: OS\"',\n",
       " '\"19874\",\"Air Transport International: 8C\"',\n",
       " '\"19875\",\"Aero California: JR\"',\n",
       " '\"19876\",\"Heritage Airlines: HRG\"',\n",
       " '\"19877\",\"Kitty Hawk Air Cargo: XDH\"',\n",
       " '\"19878\",\"Columbia Pacific Airlines (1): EXA\"',\n",
       " '\"19879\",\"Columbia Pacific Airlines: CLB\"',\n",
       " '\"19880\",\"Central States Air Lines: CSL\"',\n",
       " '\"19881\",\"Mohawk Airlines: MHK\"',\n",
       " '\"19882\",\"Skymaster: SYM\"',\n",
       " '\"19883\",\"Novair International Airways Ltd.: NVQ\"',\n",
       " '\"19884\",\"TPI International Airways: TSQ\"',\n",
       " '\"19885\",\"Universal Airlines Inc.: UTQ\"',\n",
       " '\"19886\",\"Aruba Cargo: IPQ\"',\n",
       " '\"19887\",\"Latcr: LCQ\"',\n",
       " '\"19888\",\"Transcarga: TDQ (1)\"',\n",
       " '\"19889\",\"Venexcargo: TDQ\"',\n",
       " '\"19890\",\"Aeroejecutivos C.A.: EJQ\"',\n",
       " '\"19891\",\"Aeropuma: PUQ\"',\n",
       " '\"19892\",\"Aeronautica De Cancun: ACQ\"',\n",
       " '\"19893\",\"Aerovias Colombianas Arca: ARQ\"',\n",
       " '\"19894\",\"Zuliana De Aviacion: ZUQ\"',\n",
       " '\"19895\",\"Interamericana De Aviacion: ITQ\"',\n",
       " '\"19896\",\"Fast Air Carrier Ltd.: UD\"',\n",
       " '\"19897\",\"Lineas Aereas Mayas (Lamsa): MYQ\"',\n",
       " '\"19898\",\"Emery Worldwide Airlines: TNQ\"',\n",
       " '\"19899\",\"Hong Kong Dragonair: KA\"',\n",
       " '\"19900\",\"Air Marshall Islands Inc.: CW\"',\n",
       " '\"19901\",\"Blue Bell Inc.: BUQ (1)\"',\n",
       " '\"19902\",\"Wrangler Aviation Inc.: BUQ\"',\n",
       " '\"19903\",\"Conquest Airline Corp.: CQI\"',\n",
       " '\"19904\",\"Air Southeast: ATH\"',\n",
       " '\"19905\",\"California Air Shuttle: CLF\"',\n",
       " '\"19906\",\"Northcoast Executive: NCE\"',\n",
       " '\"19907\",\"Scott Aviation: SCN\"',\n",
       " '\"19908\",\"Trans Air (Hawaii): TXE\"',\n",
       " '\"19909\",\"Air Belgium: BEQ\"',\n",
       " '\"19910\",\"Aerolineas Latinas: LNQ\"',\n",
       " '\"19911\",\"Air Aruba: FQ\"',\n",
       " '\"19912\",\"Cayman Airways Limited: KX\"',\n",
       " '\"19913\",\"Belize Trans Air: 4H\"',\n",
       " '\"19914\",\"Air Liberte: LRQ\"',\n",
       " '\"19915\",\"Sea Air Shuttle: SAH\"',\n",
       " '\"19916\",\"Primeras Lineas Uruguays For International: PU\"',\n",
       " '\"19917\",\"United Parcel Service: 5X\"',\n",
       " '\"19918\",\"Gulf Air Taxi: GAT\"',\n",
       " '\"19919\",\"Adirondack Airlines: ADR\"',\n",
       " '\"19920\",\"Corporate Air: CRP\"',\n",
       " '\"19921\",\"Drummond Island Air: DIA\"',\n",
       " '\"19922\",\"Gulf Flite Center: GFC\"',\n",
       " '\"19923\",\"Lapsa: LAP\"',\n",
       " '\"19924\",\"L\\'Express: LEX\"',\n",
       " '\"19925\",\"Travelair: TVL\"',\n",
       " '\"19926\",\"Valley Air Services: VAS\"',\n",
       " '\"19927\",\"Aerosur (1): ASQ\"',\n",
       " '\"19928\",\"Central American Airlines: GW\"',\n",
       " '\"19929\",\"Charter One: CHT\"',\n",
       " '\"19930\",\"Alaska Airlines Inc.: AS\"',\n",
       " '\"19931\",\"Regal Air: 2R\"',\n",
       " '\"19932\",\"Apa International Air S.A.: 7P\"',\n",
       " '\"19933\",\"Air New Zealand: NZ\"',\n",
       " '\"19934\",\"Das Air Cargo: SE (1)\"',\n",
       " '\"19935\",\"Star Aviation: SRA\"',\n",
       " '\"19936\",\"Territorial Airlines: TRR\"',\n",
       " '\"19937\",\"Loken Aviation: LKN\"',\n",
       " '\"19938\",\"Dawn Air: DWN\"',\n",
       " '\"19939\",\"Flying Boat: FYB\"',\n",
       " '\"19940\",\"Caraven S.A.: CVQ\"',\n",
       " '\"19941\",\"Trans Europ. Airways France: EFQ\"',\n",
       " '\"19942\",\"General Air Cargo: GCQ\"',\n",
       " '\"19943\",\"Allied Airlines: ALD\"',\n",
       " '\"19944\",\"Airvantage: AVG\"',\n",
       " '\"19945\",\"Chicago Air Taxi: CGO\"',\n",
       " '\"19946\",\"Great Western Aviation: GWA\"',\n",
       " '\"19947\",\"Paradise Island Airlines: PRD\"',\n",
       " '\"19948\",\"Redwing Airways: RDW\"',\n",
       " '\"19949\",\"Lauda Air Luftfahrt Ag: NG\"',\n",
       " '\"19950\",\"Flagship Express Services: 9R\"',\n",
       " '\"19951\",\"Braniff International Airlines Inc.: BE\"',\n",
       " '\"19952\",\"Carnival Air Lines Inc.: KW\"',\n",
       " '\"19953\",\"Transportes Aereos Mercantiles Panamericanos S.A: QT\"',\n",
       " '\"19954\",\"Japan Air Charter Co. Ltd.: JZ\"',\n",
       " '\"19955\",\"Affretair: ZL\"',\n",
       " '\"19956\",\"Servicios Avensa: VC\"',\n",
       " '\"19957\",\"Mcclain Airlines Inc.: MU (1)\"',\n",
       " '\"19958\",\"China Eastern Airlines: MU\"',\n",
       " '\"19959\",\"Dulles Express: DUL\"',\n",
       " '\"19960\",\"Skybus Express Airlines: SYB\"',\n",
       " '\"19961\",\"Air Transat: TS\"',\n",
       " '\"19962\",\"Hawaii Pacific Air: XAH\"',\n",
       " '\"19963\",\"World Air Network: WL\"',\n",
       " '\"19964\",\"Island Express: IPS\"',\n",
       " '\"19965\",\"Rocky Mountain Helicopters: RMH\"',\n",
       " '\"19966\",\"Sierra Nevada Airways: SNV\"',\n",
       " '\"19967\",\"Trans World Express: TWE\"',\n",
       " '\"19968\",\"Arizona Pacific Airways: AZP\"',\n",
       " '\"19969\",\"International Cargo Xpress: XPQ\"',\n",
       " '\"19970\",\"Northeast Express Regional (1): NER\"',\n",
       " '\"19971\",\"Northeast Express Regional: NEX\"',\n",
       " '\"19972\",\"Av Atlantic: HCQ\"',\n",
       " '\"19973\",\"Aerotour Dominicano Cxa: RTQ\"',\n",
       " '\"19974\",\"Aero Uruguay (1): ROQ\"',\n",
       " '\"19975\",\"Aero Uruguay: URQ\"',\n",
       " '\"19976\",\"Air North: 4N\"',\n",
       " '\"19977\",\"United Air Lines Inc.: UA\"',\n",
       " '\"19978\",\"Air Alpha: AHA\"',\n",
       " '\"19979\",\"Alliance Air: AIY\"',\n",
       " '\"19980\",\"Florida Air: FLA\"',\n",
       " '\"19981\",\"Patriot Airlines Inc.: PAQ\"',\n",
       " '\"19982\",\"USAir Shuttle: TB (1)\"',\n",
       " '\"19983\",\"Key Airlines Inc.: ZN\"',\n",
       " '\"19984\",\"Translift Airways Limited: FB\"',\n",
       " '\"19985\",\"Turks Air Ltd.: KTQ\"',\n",
       " '\"19986\",\"Turks Air Ltd. (1): BHQ\"',\n",
       " '\"19987\",\"Advantage Airlines: ADV\"',\n",
       " '\"19988\",\"Air West Airlines: AWA\"',\n",
       " '\"19989\",\"Keene Airways: KEA\"',\n",
       " '\"19990\",\"Sky One Express: SOE\"',\n",
       " '\"19991\",\"America West Airlines Inc.: HP (Merged with US Airways 9/05.Stopped reporting 10/07.)\"',\n",
       " '\"19992\",\"Hispaniola Airways: ZS\"',\n",
       " '\"19993\",\"Airmark Airlines Inc.: AKQ\"',\n",
       " '\"19994\",\"Reno Air Inc.: QQ\"',\n",
       " '\"19995\",\"Aces Airlines: VX (1)\"',\n",
       " '\"19996\",\"Nicaraguense De Aviacion Sa: 6Y\"',\n",
       " '\"19997\",\"Jet America Airlines Inc.: SI (1)\"',\n",
       " '\"19998\",\"Sierra Pacific Airlines: SI\"',\n",
       " '\"19999\",\"South Pacific Island Airway: SOP\"',\n",
       " '\"20000\",\"Time Air Sweden Ab: HK\"',\n",
       " '\"20001\",\"Tranps Aereos Guatemaltecos: TGQ\"',\n",
       " '\"20002\",\"Morris Air Corporation: KN\"',\n",
       " '\"20003\",\"Balkan Bulgarian Airlines: LZ\"',\n",
       " '\"20004\",\"Cal Air International Ltd.: BR (1)\"',\n",
       " '\"20005\",\"Eva Airways Corporation: BR\"',\n",
       " '\"20006\",\"Capitol Air Express Inc.: CPQ\"',\n",
       " '\"20007\",\"Atlas Air Inc.: 5Y\"',\n",
       " '\"20008\",\"Ram Aviation: RMV\"',\n",
       " '\"20009\",\"Eclipse Airlines: ECL\"',\n",
       " '\"20010\",\"Aero Transcolombiana: CLQ\"',\n",
       " '\"20011\",\"Air Casino: ASN\"',\n",
       " '\"20012\",\"Express Airlines II: EXP\"',\n",
       " '\"20013\",\"Rader Aviation: RDR\"',\n",
       " '\"20014\",\"Trans American Charter: ECQ\"',\n",
       " '\"20015\",\"Export Air Del Peru S.A.: EXQ\"',\n",
       " '\"20016\",\"Lineas Aereas Allegro: LGQ\"',\n",
       " '\"20017\",\"Continental Micronesia: CS\"',\n",
       " '\"20018\",\"J.D.Valenciana De Aviation: V5\"',\n",
       " '\"20019\",\"Private Jet Expeditions: 5J\"',\n",
       " '\"20020\",\"Eagle Airlines: V9\"',\n",
       " '\"20021\",\"Eagle Airlines (1): ECA\"',\n",
       " '\"20022\",\"Leisure International Airways Ltd.: LZQ\"',\n",
       " '\"20023\",\"Malev Hungarian Airlines: MA\"',\n",
       " '\"20024\",\"Serv. Aerolineas Mexicanas: SMQ\"',\n",
       " '\"20025\",\"Lineas Aereas Suramerican: LSQ\"',\n",
       " '\"20026\",\"Quassar De Mexico: OMQ\"',\n",
       " '\"20027\",\"Oasis International Airlines S.A.: OB\"',\n",
       " '\"20028\",\"Aerochago S.A.: G3 (1)\"',\n",
       " '\"20029\",\"Transp. Aereos Ejecutivos: GD\"',\n",
       " '\"20030\",\"Aerolineas Uruguayas S.A.: UYQ\"',\n",
       " ...]"
      ]
     },
     "execution_count": 6,
     "metadata": {},
     "output_type": "execute_result"
    }
   ],
   "source": [
    "# Using the collect operation, you can view the full dataset \n",
    "airlines.collect()"
   ]
  },
  {
   "cell_type": "code",
   "execution_count": 7,
   "metadata": {
    "collapsed": false
   },
   "outputs": [
    {
     "data": {
      "text/plain": [
       "'Code,Description'"
      ]
     },
     "execution_count": 7,
     "metadata": {},
     "output_type": "execute_result"
    }
   ],
   "source": [
    "airlines.first()"
   ]
  },
  {
   "cell_type": "code",
   "execution_count": 8,
   "metadata": {
    "collapsed": false
   },
   "outputs": [
    {
     "data": {
      "text/plain": [
       "['Code,Description',\n",
       " '\"19031\",\"Mackey International Inc.: MAC\"',\n",
       " '\"19032\",\"Munz Northern Airlines Inc.: XY\"',\n",
       " '\"19033\",\"Cochise Airlines Inc.: COC\"',\n",
       " '\"19034\",\"Golden Gate Airlines Inc.: GSA\"',\n",
       " '\"19035\",\"Aeromech Inc.: RZZ\"',\n",
       " '\"19036\",\"Golden West Airlines Co.: GLW\"',\n",
       " '\"19037\",\"Puerto Rico Intl Airlines: PRN\"',\n",
       " '\"19038\",\"Air America Inc.: STZ\"',\n",
       " '\"19039\",\"Swift Aire Lines Inc.: SWT\"']"
      ]
     },
     "execution_count": 8,
     "metadata": {},
     "output_type": "execute_result"
    }
   ],
   "source": [
    "# Get the first 10 lines \n",
    "airlines.take(10)"
   ]
  },
  {
   "cell_type": "code",
   "execution_count": 9,
   "metadata": {
    "collapsed": false
   },
   "outputs": [
    {
     "name": "stdout",
     "output_type": "stream",
     "text": [
      "CPU times: user 3.74 ms, sys: 2.11 ms, total: 5.85 ms\n",
      "Wall time: 45 ms\n"
     ]
    },
    {
     "data": {
      "text/plain": [
       "1580"
      ]
     },
     "execution_count": 9,
     "metadata": {},
     "output_type": "execute_result"
    }
   ],
   "source": [
    "# Count \n",
    "%time airlines.count()"
   ]
  },
  {
   "cell_type": "code",
   "execution_count": 10,
   "metadata": {
    "collapsed": true
   },
   "outputs": [],
   "source": [
    "# Here is how to filter the header out \n",
    "\n",
    "airlinesWoHeader = airlines.filter(lambda x:\"Description\" not in x)"
   ]
  },
  {
   "cell_type": "code",
   "execution_count": 11,
   "metadata": {
    "collapsed": false
   },
   "outputs": [
    {
     "name": "stdout",
     "output_type": "stream",
     "text": [
      "PythonRDD[5] at RDD at PythonRDD.scala:48\n"
     ]
    }
   ],
   "source": [
    "print airlinesWoHeader"
   ]
  },
  {
   "cell_type": "code",
   "execution_count": 12,
   "metadata": {
    "collapsed": false
   },
   "outputs": [
    {
     "data": {
      "text/plain": [
       "pyspark.rdd.PipelinedRDD"
      ]
     },
     "execution_count": 12,
     "metadata": {},
     "output_type": "execute_result"
    }
   ],
   "source": [
    "# Notice how when we go to print it, it prints out that it is an RDD and that the type \n",
    "# is a PipelinedRDD not a list of values as we might expect. \n",
    "# That's because we haven't performed an action yet, we've only performed a transformation.\n",
    "\n",
    "type(airlinesWoHeader)"
   ]
  },
  {
   "cell_type": "code",
   "execution_count": 13,
   "metadata": {
    "collapsed": false
   },
   "outputs": [
    {
     "data": {
      "text/plain": [
       "2"
      ]
     },
     "execution_count": 13,
     "metadata": {},
     "output_type": "execute_result"
    }
   ],
   "source": [
    "# How many partitions will the RDD be split into?\n",
    "airlinesWoHeader.getNumPartitions()"
   ]
  },
  {
   "cell_type": "code",
   "execution_count": 14,
   "metadata": {
    "collapsed": false
   },
   "outputs": [
    {
     "data": {
      "text/plain": [
       "pyspark.rdd.PipelinedRDD"
      ]
     },
     "execution_count": 14,
     "metadata": {},
     "output_type": "execute_result"
    }
   ],
   "source": [
    "type(airlinesWoHeader)"
   ]
  },
  {
   "cell_type": "code",
   "execution_count": 15,
   "metadata": {
    "collapsed": false
   },
   "outputs": [
    {
     "data": {
      "text/plain": [
       "['\"19031\",\"Mackey International Inc.: MAC\"',\n",
       " '\"19032\",\"Munz Northern Airlines Inc.: XY\"',\n",
       " '\"19033\",\"Cochise Airlines Inc.: COC\"',\n",
       " '\"19034\",\"Golden Gate Airlines Inc.: GSA\"',\n",
       " '\"19035\",\"Aeromech Inc.: RZZ\"',\n",
       " '\"19036\",\"Golden West Airlines Co.: GLW\"',\n",
       " '\"19037\",\"Puerto Rico Intl Airlines: PRN\"',\n",
       " '\"19038\",\"Air America Inc.: STZ\"',\n",
       " '\"19039\",\"Swift Aire Lines Inc.: SWT\"',\n",
       " '\"19040\",\"American Central Airlines: TSF\"']"
      ]
     },
     "execution_count": 15,
     "metadata": {},
     "output_type": "execute_result"
    }
   ],
   "source": [
    "airlinesWoHeader.take(10)"
   ]
  },
  {
   "cell_type": "code",
   "execution_count": 16,
   "metadata": {
    "collapsed": false
   },
   "outputs": [
    {
     "name": "stdout",
     "output_type": "stream",
     "text": [
      "CPU times: user 5.52 ms, sys: 2.28 ms, total: 7.8 ms\n",
      "Wall time: 32.4 ms\n"
     ]
    }
   ],
   "source": [
    "# We split the RDD using commas and store it in a new RDD\n",
    "%time airlinesParsed = airlinesWoHeader.map(lambda x:x.split(\",\")).take(10)"
   ]
  },
  {
   "cell_type": "code",
   "execution_count": 17,
   "metadata": {
    "collapsed": false
   },
   "outputs": [
    {
     "name": "stdout",
     "output_type": "stream",
     "text": [
      "CPU times: user 2 µs, sys: 2 µs, total: 4 µs\n",
      "Wall time: 5.96 µs\n"
     ]
    },
    {
     "data": {
      "text/plain": [
       "[['\"19031\"', '\"Mackey International Inc.: MAC\"'],\n",
       " ['\"19032\"', '\"Munz Northern Airlines Inc.: XY\"'],\n",
       " ['\"19033\"', '\"Cochise Airlines Inc.: COC\"'],\n",
       " ['\"19034\"', '\"Golden Gate Airlines Inc.: GSA\"'],\n",
       " ['\"19035\"', '\"Aeromech Inc.: RZZ\"'],\n",
       " ['\"19036\"', '\"Golden West Airlines Co.: GLW\"'],\n",
       " ['\"19037\"', '\"Puerto Rico Intl Airlines: PRN\"'],\n",
       " ['\"19038\"', '\"Air America Inc.: STZ\"'],\n",
       " ['\"19039\"', '\"Swift Aire Lines Inc.: SWT\"'],\n",
       " ['\"19040\"', '\"American Central Airlines: TSF\"']]"
      ]
     },
     "execution_count": 17,
     "metadata": {},
     "output_type": "execute_result"
    }
   ],
   "source": [
    "%time airlinesParsed"
   ]
  },
  {
   "cell_type": "code",
   "execution_count": 18,
   "metadata": {
    "collapsed": false
   },
   "outputs": [
    {
     "data": {
      "text/plain": [
       "[16, 40, 41, 36, 40, 28, 39, 40, 31, 36]"
      ]
     },
     "execution_count": 18,
     "metadata": {},
     "output_type": "execute_result"
    }
   ],
   "source": [
    "airlines.map(len).take(10)"
   ]
  },
  {
   "cell_type": "code",
   "execution_count": 19,
   "metadata": {
    "collapsed": false
   },
   "outputs": [
    {
     "data": {
      "text/plain": [
       "['\"19031\",\"Mackey International Inc.: MAC\"',\n",
       " '\"19032\",\"Munz Northern Airlines Inc.: XY\"',\n",
       " '\"19033\",\"Cochise Airlines Inc.: COC\"',\n",
       " '\"19034\",\"Golden Gate Airlines Inc.: GSA\"',\n",
       " '\"19035\",\"Aeromech Inc.: RZZ\"',\n",
       " '\"19036\",\"Golden West Airlines Co.: GLW\"',\n",
       " '\"19037\",\"Puerto Rico Intl Airlines: PRN\"',\n",
       " '\"19038\",\"Air America Inc.: STZ\"',\n",
       " '\"19039\",\"Swift Aire Lines Inc.: SWT\"',\n",
       " '\"19040\",\"American Central Airlines: TSF\"']"
      ]
     },
     "execution_count": 19,
     "metadata": {},
     "output_type": "execute_result"
    }
   ],
   "source": [
    "def notHeader(row):\n",
    "    return \"Description\" not in row\n",
    "airlines.filter(notHeader).take(10)"
   ]
  },
  {
   "cell_type": "code",
   "execution_count": 20,
   "metadata": {
    "collapsed": false
   },
   "outputs": [
    {
     "name": "stdout",
     "output_type": "stream",
     "text": [
      "CPU times: user 3.53 ms, sys: 1.78 ms, total: 5.31 ms\n",
      "Wall time: 28.3 ms\n"
     ]
    },
    {
     "data": {
      "text/plain": [
       "[['\"19031\"', '\"Mackey International Inc.: MAC\"'],\n",
       " ['\"19032\"', '\"Munz Northern Airlines Inc.: XY\"'],\n",
       " ['\"19033\"', '\"Cochise Airlines Inc.: COC\"'],\n",
       " ['\"19034\"', '\"Golden Gate Airlines Inc.: GSA\"'],\n",
       " ['\"19035\"', '\"Aeromech Inc.: RZZ\"'],\n",
       " ['\"19036\"', '\"Golden West Airlines Co.: GLW\"'],\n",
       " ['\"19037\"', '\"Puerto Rico Intl Airlines: PRN\"'],\n",
       " ['\"19038\"', '\"Air America Inc.: STZ\"'],\n",
       " ['\"19039\"', '\"Swift Aire Lines Inc.: SWT\"'],\n",
       " ['\"19040\"', '\"American Central Airlines: TSF\"']]"
      ]
     },
     "execution_count": 20,
     "metadata": {},
     "output_type": "execute_result"
    }
   ],
   "source": [
    "# Chain transformations together \n",
    "%time airlines.filter(notHeader) \\\n",
    "    .map(lambda x: x.split(',')) \\\n",
    "    .take(10)"
   ]
  },
  {
   "cell_type": "code",
   "execution_count": 21,
   "metadata": {
    "collapsed": false
   },
   "outputs": [
    {
     "data": {
      "text/plain": [
       "[['19031', 'Mackey International Inc.: MAC'],\n",
       " ['19032', 'Munz Northern Airlines Inc.: XY'],\n",
       " ['19033', 'Cochise Airlines Inc.: COC'],\n",
       " ['19034', 'Golden Gate Airlines Inc.: GSA'],\n",
       " ['19035', 'Aeromech Inc.: RZZ'],\n",
       " ['19036', 'Golden West Airlines Co.: GLW'],\n",
       " ['19037', 'Puerto Rico Intl Airlines: PRN'],\n",
       " ['19038', 'Air America Inc.: STZ'],\n",
       " ['19039', 'Swift Aire Lines Inc.: SWT'],\n",
       " ['19040', 'American Central Airlines: TSF']]"
      ]
     },
     "execution_count": 21,
     "metadata": {},
     "output_type": "execute_result"
    }
   ],
   "source": [
    "# Use Python libraries \n",
    "import csv \n",
    "from StringIO import StringIO\n",
    "\n",
    "def split(line):\n",
    "    reader = csv.reader(StringIO(line))\n",
    "    return reader.next()\n",
    "\n",
    "airlines.filter(notHeader).map(split).take(10)"
   ]
  },
  {
   "cell_type": "markdown",
   "metadata": {
    "collapsed": true
   },
   "source": [
    "## Part 2 \n",
    "### Calculating the average delay"
   ]
  },
  {
   "cell_type": "code",
   "execution_count": 22,
   "metadata": {
    "collapsed": false
   },
   "outputs": [],
   "source": [
    "# Loading the flights RDD\n",
    "flights = sc.textFile(flightsPath, use_unicode=False)"
   ]
  },
  {
   "cell_type": "code",
   "execution_count": 23,
   "metadata": {
    "collapsed": false
   },
   "outputs": [
    {
     "data": {
      "text/plain": [
       "476881"
      ]
     },
     "execution_count": 23,
     "metadata": {},
     "output_type": "execute_result"
    }
   ],
   "source": [
    "flights.count()"
   ]
  },
  {
   "cell_type": "code",
   "execution_count": 24,
   "metadata": {
    "collapsed": false
   },
   "outputs": [
    {
     "data": {
      "text/plain": [
       "['2014-04-01,19805,1,JFK,LAX,0854,-6.00,1217,2.00,355.00,2475.00',\n",
       " '2014-04-01,19805,2,LAX,JFK,0944,14.00,1736,-29.00,269.00,2475.00',\n",
       " '2014-04-01,19805,3,JFK,LAX,1224,-6.00,1614,39.00,371.00,2475.00',\n",
       " '2014-04-01,19805,4,LAX,JFK,1240,25.00,2028,-27.00,264.00,2475.00',\n",
       " '2014-04-01,19805,5,DFW,HNL,1300,-5.00,1650,15.00,510.00,3784.00',\n",
       " '2014-04-01,19805,6,OGG,DFW,1901,126.00,0640,95.00,385.00,3711.00',\n",
       " '2014-04-01,19805,7,DFW,OGG,1410,125.00,1743,138.00,497.00,3711.00',\n",
       " '2014-04-01,19805,8,HNL,DFW,1659,4.00,0458,-22.00,398.00,3784.00',\n",
       " '2014-04-01,19805,9,JFK,LAX,0648,-7.00,1029,19.00,365.00,2475.00',\n",
       " '2014-04-01,19805,10,LAX,JFK,2156,21.00,0556,1.00,265.00,2475.00']"
      ]
     },
     "execution_count": 24,
     "metadata": {},
     "output_type": "execute_result"
    }
   ],
   "source": [
    "flights.take(10)"
   ]
  },
  {
   "cell_type": "code",
   "execution_count": 25,
   "metadata": {
    "collapsed": false
   },
   "outputs": [
    {
     "name": "stdout",
     "output_type": "stream",
     "text": [
      "class Flight(tuple):\n",
      "    'Flight(date, airline, flightnum, origin, dest, dep, dep_delay, arv, arv_delay, airtime, distance)'\n",
      "\n",
      "    __slots__ = ()\n",
      "\n",
      "    _fields = ('date', 'airline', 'flightnum', 'origin', 'dest', 'dep', 'dep_delay', 'arv', 'arv_delay', 'airtime', 'distance')\n",
      "\n",
      "    def __new__(_cls, date, airline, flightnum, origin, dest, dep, dep_delay, arv, arv_delay, airtime, distance):\n",
      "        'Create new instance of Flight(date, airline, flightnum, origin, dest, dep, dep_delay, arv, arv_delay, airtime, distance)'\n",
      "        return _tuple.__new__(_cls, (date, airline, flightnum, origin, dest, dep, dep_delay, arv, arv_delay, airtime, distance))\n",
      "\n",
      "    @classmethod\n",
      "    def _make(cls, iterable, new=tuple.__new__, len=len):\n",
      "        'Make a new Flight object from a sequence or iterable'\n",
      "        result = new(cls, iterable)\n",
      "        if len(result) != 11:\n",
      "            raise TypeError('Expected 11 arguments, got %d' % len(result))\n",
      "        return result\n",
      "\n",
      "    def __repr__(self):\n",
      "        'Return a nicely formatted representation string'\n",
      "        return 'Flight(date=%r, airline=%r, flightnum=%r, origin=%r, dest=%r, dep=%r, dep_delay=%r, arv=%r, arv_delay=%r, airtime=%r, distance=%r)' % self\n",
      "\n",
      "    def _asdict(self):\n",
      "        'Return a new OrderedDict which maps field names to their values'\n",
      "        return OrderedDict(zip(self._fields, self))\n",
      "\n",
      "    def _replace(_self, **kwds):\n",
      "        'Return a new Flight object replacing specified fields with new values'\n",
      "        result = _self._make(map(kwds.pop, ('date', 'airline', 'flightnum', 'origin', 'dest', 'dep', 'dep_delay', 'arv', 'arv_delay', 'airtime', 'distance'), _self))\n",
      "        if kwds:\n",
      "            raise ValueError('Got unexpected field names: %r' % kwds.keys())\n",
      "        return result\n",
      "\n",
      "    def __getnewargs__(self):\n",
      "        'Return self as a plain tuple.  Used by copy and pickle.'\n",
      "        return tuple(self)\n",
      "\n",
      "    __dict__ = _property(_asdict)\n",
      "\n",
      "    def __getstate__(self):\n",
      "        'Exclude the OrderedDict from pickling'\n",
      "        pass\n",
      "\n",
      "    date = _property(_itemgetter(0), doc='Alias for field number 0')\n",
      "\n",
      "    airline = _property(_itemgetter(1), doc='Alias for field number 1')\n",
      "\n",
      "    flightnum = _property(_itemgetter(2), doc='Alias for field number 2')\n",
      "\n",
      "    origin = _property(_itemgetter(3), doc='Alias for field number 3')\n",
      "\n",
      "    dest = _property(_itemgetter(4), doc='Alias for field number 4')\n",
      "\n",
      "    dep = _property(_itemgetter(5), doc='Alias for field number 5')\n",
      "\n",
      "    dep_delay = _property(_itemgetter(6), doc='Alias for field number 6')\n",
      "\n",
      "    arv = _property(_itemgetter(7), doc='Alias for field number 7')\n",
      "\n",
      "    arv_delay = _property(_itemgetter(8), doc='Alias for field number 8')\n",
      "\n",
      "    airtime = _property(_itemgetter(9), doc='Alias for field number 9')\n",
      "\n",
      "    distance = _property(_itemgetter(10), doc='Alias for field number 10')\n",
      "\n",
      "\n"
     ]
    }
   ],
   "source": [
    "# Let' write a function to parse this row \n",
    "\n",
    "from datetime import datetime\n",
    "from collections import namedtuple\n",
    "\n",
    "fields   = ('date', 'airline', 'flightnum', 'origin', 'dest', 'dep',\n",
    "            'dep_delay', 'arv', 'arv_delay', 'airtime', 'distance')\n",
    "\n",
    "Flight   = namedtuple('Flight', fields, verbose=True)\n",
    "\n",
    "DATE_FMT = '%Y-%m-%d'\n",
    "\n",
    "TIME_FMT = '%H%M'\n",
    "\n",
    "\n",
    "def parse(row):\n",
    "    row[0]  = datetime.strptime(row[0], DATE_FMT).date()\n",
    "    row[5]  = datetime.strptime(row[5], TIME_FMT).time()\n",
    "    row[6]  = float(row[6])\n",
    "    row[7]  = datetime.strptime(row[7], TIME_FMT).time()\n",
    "    row[8]  = float(row[8])\n",
    "    row[9]  = float(row[9])\n",
    "    row[10] = float(row[10])\n",
    "    return Flight(*row[:11])"
   ]
  },
  {
   "cell_type": "code",
   "execution_count": 26,
   "metadata": {
    "collapsed": true
   },
   "outputs": [],
   "source": [
    "# We split the register with a lambda function and the apply a map function using the parse function over\n",
    "# all of the registers\n",
    "flightsParsed = flights.map(lambda x: x.split(',')).map(parse)"
   ]
  },
  {
   "cell_type": "code",
   "execution_count": 27,
   "metadata": {
    "collapsed": false
   },
   "outputs": [
    {
     "name": "stdout",
     "output_type": "stream",
     "text": [
      "CPU times: user 4.16 ms, sys: 2.77 ms, total: 6.93 ms\n",
      "Wall time: 30 ms\n"
     ]
    },
    {
     "data": {
      "text/plain": [
       "Flight(date=datetime.date(2014, 4, 1), airline='19805', flightnum='1', origin='JFK', dest='LAX', dep=datetime.time(8, 54), dep_delay=-6.0, arv=datetime.time(12, 17), arv_delay=2.0, airtime=355.0, distance=2475.0)"
      ]
     },
     "execution_count": 27,
     "metadata": {},
     "output_type": "execute_result"
    }
   ],
   "source": [
    "# We get a Flight object with all the attributes defined in the parse function\n",
    "%time flightsParsed.first()"
   ]
  },
  {
   "cell_type": "code",
   "execution_count": 28,
   "metadata": {
    "collapsed": false
   },
   "outputs": [
    {
     "name": "stdout",
     "output_type": "stream",
     "text": [
      "CPU times: user 4.94 ms, sys: 2.51 ms, total: 7.45 ms\n",
      "Wall time: 7.75 s\n"
     ]
    }
   ],
   "source": [
    "# Let's find the average distance travelled by a flight total distance accumulated\n",
    "# We use a reduce function to calculate the total distance accumulated\n",
    "%time totalDistance = flightsParsed.map(lambda x:x.distance).reduce(lambda x,y:x+y)"
   ]
  },
  {
   "cell_type": "code",
   "execution_count": 29,
   "metadata": {
    "collapsed": false
   },
   "outputs": [
    {
     "name": "stdout",
     "output_type": "stream",
     "text": [
      "CPU times: user 4.94 ms, sys: 2.85 ms, total: 7.79 ms\n",
      "Wall time: 7.49 s\n"
     ]
    }
   ],
   "source": [
    "%time avgDistance = totalDistance/flightsParsed.count()"
   ]
  },
  {
   "cell_type": "code",
   "execution_count": 30,
   "metadata": {
    "collapsed": false
   },
   "outputs": [
    {
     "data": {
      "text/plain": [
       "794.8585013871385"
      ]
     },
     "execution_count": 30,
     "metadata": {},
     "output_type": "execute_result"
    }
   ],
   "source": [
    "avgDistance"
   ]
  },
  {
   "cell_type": "code",
   "execution_count": 31,
   "metadata": {
    "collapsed": false
   },
   "outputs": [
    {
     "name": "stdout",
     "output_type": "stream",
     "text": [
      "CPU times: user 10.7 ms, sys: 3.41 ms, total: 14.1 ms\n",
      "Wall time: 15.7 s\n"
     ]
    },
    {
     "data": {
      "text/plain": [
       "0.3753871510922012"
      ]
     },
     "execution_count": 31,
     "metadata": {},
     "output_type": "execute_result"
    }
   ],
   "source": [
    "# Find the % of flights with delays \n",
    "%time flightsParsed.filter(lambda x:x.dep_delay>0).count()/float(flightsParsed.count())"
   ]
  },
  {
   "cell_type": "code",
   "execution_count": 32,
   "metadata": {
    "collapsed": false
   },
   "outputs": [
    {
     "data": {
      "text/plain": [
       "PythonRDD[21] at RDD at PythonRDD.scala:48"
      ]
     },
     "execution_count": 32,
     "metadata": {},
     "output_type": "execute_result"
    }
   ],
   "source": [
    "flightsParsed.persist()"
   ]
  },
  {
   "cell_type": "code",
   "execution_count": 33,
   "metadata": {
    "collapsed": false
   },
   "outputs": [
    {
     "name": "stdout",
     "output_type": "stream",
     "text": [
      "CPU times: user 7.32 ms, sys: 3.34 ms, total: 10.7 ms\n",
      "Wall time: 11.3 s\n"
     ]
    },
    {
     "data": {
      "text/plain": [
       "0.3753871510922012"
      ]
     },
     "execution_count": 33,
     "metadata": {},
     "output_type": "execute_result"
    }
   ],
   "source": [
    "# Notice the difference in execution time between this code and the line [31]. The main difference lies in this \n",
    "# case the flightsParsed RDD is allocated in memory materialized.\n",
    "%time flightsParsed.filter(lambda x:x.dep_delay>0).count()/float(flightsParsed.count())"
   ]
  },
  {
   "cell_type": "code",
   "execution_count": 34,
   "metadata": {
    "collapsed": false
   },
   "outputs": [],
   "source": [
    "# The same as before but using 'aggregate'\n",
    "# sumCount is a tuple with both the sum of total delays and the count\n",
    "# aggregate\n",
    "# the firts lambda function is computed in each node in the cluster. acc, value is a tuple\n",
    "# acc[0]+value is the accumulate (sum) portion\n",
    "# acc[1]+1 is the count\n",
    "# acc1[0]+acc2[0] sum the firts element [0] of every node, so it is adding the acumulating part\n",
    "# acc1[1]+acc2[1] sum the second element [1] of the tuple of every node, so it is adding the count\n",
    "# Finaly, (0,0) is the initialization  of the tuple of the aggregation funcion\n",
    "\n",
    "# the second lambda funtion is used to combine the results of every node\n",
    "sumCount=flightsParsed.map(lambda x:x.dep_delay).aggregate((0,0),\n",
    "                                                          (lambda acc,value: (acc[0]+value, acc[1]+1)),\n",
    "                                                          (lambda acc1,acc2:(acc1[0]+acc2[0],acc1[1]+acc2[1])))"
   ]
  },
  {
   "cell_type": "code",
   "execution_count": 35,
   "metadata": {
    "collapsed": false
   },
   "outputs": [
    {
     "name": "stdout",
     "output_type": "stream",
     "text": [
      "The average delay is 8.31387704689\n"
     ]
    }
   ],
   "source": [
    "print \"The average delay is \"+str(sumCount[0]/float(sumCount[1]))"
   ]
  },
  {
   "cell_type": "markdown",
   "metadata": {},
   "source": [
    "### Frequency delay distribution"
   ]
  },
  {
   "cell_type": "code",
   "execution_count": 36,
   "metadata": {
    "collapsed": false
   },
   "outputs": [],
   "source": [
    "# We generates a dictionary with the distribution\n",
    "fightsParsedDict = flightsParsed.map(lambda x:int(x.dep_delay/60)).countByValue()\n"
   ]
  },
  {
   "cell_type": "code",
   "execution_count": 37,
   "metadata": {
    "collapsed": false
   },
   "outputs": [
    {
     "name": "stdout",
     "output_type": "stream",
     "text": [
      "defaultdict(<type 'int'>, {0: 452963, 1: 16016, 2: 4893, 3: 1729, 4: 701, 5: 249, 6: 113, 7: 66, 8: 43, 9: 26, 10: 15, 11: 12, 12: 9, 13: 15, 14: 13, 15: 4, 17: 2, 20: 4, 21: 3, 24: 3, 25: 1, 28: 1})\n"
     ]
    }
   ],
   "source": [
    "print fightsParsedDict"
   ]
  },
  {
   "cell_type": "code",
   "execution_count": 38,
   "metadata": {
    "collapsed": false
   },
   "outputs": [
    {
     "data": {
      "text/plain": [
       "[0, 1, 2, 3, 4, 5, 6, 7, 8, 9, 10, 11, 12, 13, 14, 15, 17, 20, 21, 24, 25, 28]"
      ]
     },
     "execution_count": 38,
     "metadata": {},
     "output_type": "execute_result"
    }
   ],
   "source": [
    "# We select the keys from de dictionary using the method 'keys()'\n",
    "fightsParsedDict.keys()"
   ]
  },
  {
   "cell_type": "code",
   "execution_count": 39,
   "metadata": {
    "collapsed": false
   },
   "outputs": [
    {
     "data": {
      "text/plain": [
       "[452963,\n",
       " 16016,\n",
       " 4893,\n",
       " 1729,\n",
       " 701,\n",
       " 249,\n",
       " 113,\n",
       " 66,\n",
       " 43,\n",
       " 26,\n",
       " 15,\n",
       " 12,\n",
       " 9,\n",
       " 15,\n",
       " 13,\n",
       " 4,\n",
       " 2,\n",
       " 4,\n",
       " 3,\n",
       " 3,\n",
       " 1,\n",
       " 1]"
      ]
     },
     "execution_count": 39,
     "metadata": {},
     "output_type": "execute_result"
    }
   ],
   "source": [
    "# We do the same but for values\n",
    "fightsParsedDict.values()"
   ]
  },
  {
   "cell_type": "code",
   "execution_count": 40,
   "metadata": {
    "collapsed": false
   },
   "outputs": [
    {
     "data": {
      "image/png": "[encoded data removed]",
      "text/plain": [
       "<matplotlib.figure.Figure at 0x10eb73490>"
      ]
     },
     "metadata": {},
     "output_type": "display_data"
    }
   ],
   "source": [
    "import matplotlib.pyplot as plt\n",
    "#matplotlib.use('qt4agg')\n",
    "%matplotlib inline\n",
    "\n",
    "# We eliminate the on-time flights\n",
    "delayed = dict((k,v) for k,v in fightsParsedDict.items() if k > 0)\n",
    "\n",
    "x = delayed.keys()\n",
    "plt.bar(x, delayed.values(), color = \"b\", width = 0.8)\n",
    "plt.xlabel('Frequency')\n",
    "plt.ylabel('# Delayed flights')\n",
    "plt.title('Frequency delay distribution')\n",
    "plt.show()"
   ]
  },
  {
   "cell_type": "markdown",
   "metadata": {},
   "source": [
    "## Part 3"
   ]
  },
  {
   "cell_type": "markdown",
   "metadata": {},
   "source": [
    "### Average delay per airport\n",
    "\n",
    "In part 3 we are goint to use another type of RDDs: Pair RDD\n",
    "In a Basic RDD, each record is an object and the map and reduce operation apply in the entire record\n",
    "In a Pair Rdd, each record is a tuple, and the operations apply the key or the values but not in both"
   ]
  },
  {
   "cell_type": "markdown",
   "metadata": {},
   "source": [
    "### Option 1: using reduceByKey"
   ]
  },
  {
   "cell_type": "code",
   "execution_count": 41,
   "metadata": {
    "collapsed": true
   },
   "outputs": [],
   "source": [
    "# We create a Pair RDD using a map function over flightParsed and extracting the tuple (origin, dep_delay)\n",
    "airportDelays = flightsParsed.map(lambda x: (x.origin,x.dep_delay))"
   ]
  },
  {
   "cell_type": "code",
   "execution_count": 42,
   "metadata": {
    "collapsed": false
   },
   "outputs": [
    {
     "data": {
      "text/plain": [
       "['JFK', 'LAX', 'JFK', 'LAX', 'DFW', 'OGG', 'DFW', 'HNL', 'JFK', 'LAX']"
      ]
     },
     "execution_count": 42,
     "metadata": {},
     "output_type": "execute_result"
    }
   ],
   "source": [
    "# Lets confirm we have created a tuple\n",
    "# keys() and values() are transformations, so they materialize the Pair RDD\n",
    "airportDelays.keys().take(10)"
   ]
  },
  {
   "cell_type": "code",
   "execution_count": 43,
   "metadata": {
    "collapsed": false
   },
   "outputs": [
    {
     "data": {
      "text/plain": [
       "[-6.0, 14.0, -6.0, 25.0, -5.0, 126.0, 125.0, 4.0, -7.0, 21.0]"
      ]
     },
     "execution_count": 43,
     "metadata": {},
     "output_type": "execute_result"
    }
   ],
   "source": [
    "airportDelays.values().take(10)"
   ]
  },
  {
   "cell_type": "code",
   "execution_count": 44,
   "metadata": {
    "collapsed": true
   },
   "outputs": [],
   "source": [
    "# We use reduceByKey twice. The operation is as follow: group and sum at node level, shuffle the results \n",
    "# and reallocate the partial results in the avaliable nodes, and finally, sum again the partial result \n",
    "# to obtain the final results.\n",
    "\n",
    "# First find the total delay per airport. The keys() are the airports and the values() are the delay\n",
    "\n",
    "# reduceByKey is a transformation that takes a function that combines two elements into one\n",
    "\n",
    "# airportTotalDelay is a PairRDD with two element: airports and sum of delays\n",
    "# reduceByKey flattens the original PairRDD\n",
    "airportTotalDelay = airportDelays.reduceByKey(lambda x,y:x+y)\n",
    "\n",
    "# Find the count per airport\n",
    "# With mapValues we are mapping all the delay values into 1 (in order to sum it and make the counting)\n",
    "# reduceByKey only adds all these ones\n",
    "airportCount = airportDelays.mapValues(lambda x:1).reduceByKey(lambda x,y:x+y)\n",
    "\n",
    "# So we have two PairRDD; we need to join it to have the sum, count in one RDD \n",
    "# This will merge both PairRDD by matching values with the same key\n",
    "# airportSumCount has the following structure:   ('JFK', (23, 4)), ('LAX', (14, 2))\n",
    "airportSumCount = airportTotalDelay.join(airportCount)\n",
    "\n",
    "# Compute avg delay per airport \n",
    "airportAvgDelay = airportSumCount.mapValues(lambda x : x[0]/float(x[1]))\n",
    "\n",
    "# All these three steps could by combined in only one using combineByKey"
   ]
  },
  {
   "cell_type": "code",
   "execution_count": 45,
   "metadata": {
    "collapsed": false
   },
   "outputs": [
    {
     "data": {
      "text/plain": [
       "[('PPG', 56.25),\n",
       " ('EGE', 32.0),\n",
       " ('OTH', 24.533333333333335),\n",
       " ('LAR', 18.892857142857142),\n",
       " ('RDD', 18.55294117647059),\n",
       " ('MTJ', 18.363636363636363),\n",
       " ('PUB', 17.54),\n",
       " ('EWR', 16.478549005929544),\n",
       " ('CIC', 15.931034482758621),\n",
       " ('RST', 15.6993006993007)]"
      ]
     },
     "execution_count": 45,
     "metadata": {},
     "output_type": "execute_result"
    }
   ],
   "source": [
    "# Displaying the 10 firs element sorted in descending order\n",
    "airportAvgDelay.sortBy(lambda x:-x[1]).take(10)"
   ]
  },
  {
   "cell_type": "markdown",
   "metadata": {},
   "source": [
    "### Option 2: using combineByKey"
   ]
  },
  {
   "cell_type": "code",
   "execution_count": 46,
   "metadata": {
    "collapsed": true
   },
   "outputs": [],
   "source": [
    "# combineByKey requieres three functions\n",
    "# 1st function \"createCombiner\" returns a tuple. This initializes a value when a key is first seen within a partition\n",
    "# 2nd function \"merge\". It merges all the values with the same key in a single partition\n",
    "# 3rd function \"mergeCombiner\". It specifies how the result from each partition should be combined among partitions\n",
    "# In between 2dn adn 3rd funtions it is executed the shuffle process\n",
    "\n",
    "airportSumCount2 = airportDelays.combineByKey((lambda value:(value,1)),\n",
    "                                            (lambda acc, value: (acc[0]+value,acc[1]+1)),\n",
    "                                            (lambda acc1, acc2: (acc1[0]+acc2[0],acc1[1]+acc2[1])))"
   ]
  },
  {
   "cell_type": "code",
   "execution_count": 47,
   "metadata": {
    "collapsed": false
   },
   "outputs": [
    {
     "data": {
      "text/plain": [
       "[('JFK', (56469.0, 8070)),\n",
       " ('MIA', (26797.0, 7014)),\n",
       " ('LIH', (-857.0, 892)),\n",
       " ('LIT', (11744.0, 1178)),\n",
       " ('CLT', (75719.0, 9387)),\n",
       " ('BGR', (109.0, 87)),\n",
       " ('YUM', (922.0, 253)),\n",
       " ('DRO', (1455.0, 166)),\n",
       " ('PAH', (864.0, 59)),\n",
       " ('FSD', (4319.0, 530))]"
      ]
     },
     "execution_count": 47,
     "metadata": {},
     "output_type": "execute_result"
    }
   ],
   "source": [
    "# The result is a key value pair with key (airpot) and a tuple value with sum and count\n",
    "airportSumCount2.take(10)"
   ]
  },
  {
   "cell_type": "code",
   "execution_count": 48,
   "metadata": {
    "collapsed": true
   },
   "outputs": [],
   "source": [
    "airportAvgDelay2=airportSumCount2.mapValues(lambda x : x[0]/float(x[1]))"
   ]
  },
  {
   "cell_type": "code",
   "execution_count": 49,
   "metadata": {
    "collapsed": false
   },
   "outputs": [
    {
     "data": {
      "text/plain": [
       "[('PPG', 56.25),\n",
       " ('EGE', 32.0),\n",
       " ('OTH', 24.533333333333335),\n",
       " ('LAR', 18.892857142857142),\n",
       " ('RDD', 18.55294117647059),\n",
       " ('MTJ', 18.363636363636363),\n",
       " ('PUB', 17.54),\n",
       " ('EWR', 16.478549005929544),\n",
       " ('CIC', 15.931034482758621),\n",
       " ('RST', 15.6993006993007)]"
      ]
     },
     "execution_count": 49,
     "metadata": {},
     "output_type": "execute_result"
    }
   ],
   "source": [
    "# We sort the Pair RDD using the sortBy operation, which is a transformations (not materialized) and it can be \n",
    "# used either Basic or Paired RDDs\n",
    "# With x[1] we are accessing o the second part of the tuple, that means the value.\n",
    "# With the action take(10) we materialize the RDD\n",
    "airportAvgDelay2.sortBy(lambda x:-x[1]).take(10)"
   ]
  },
  {
   "cell_type": "code",
   "execution_count": 56,
   "metadata": {
    "collapsed": true
   },
   "outputs": [],
   "source": [
    "# But we can't understand the acronyms. We get the airport descriptions from airport.csv\n",
    "# We use the notHeader and split functions feclares before in order to parse and clean the csv file\n",
    "# The result (airports) is a Pair RDD (Airport Code, Airport Description)\n",
    "airports = sc.textFile(airportsPath).filter(notHeader).map(split)"
   ]
  },
  {
   "cell_type": "code",
   "execution_count": 60,
   "metadata": {
    "collapsed": false
   },
   "outputs": [
    {
     "data": {
      "text/plain": [
       "pyspark.rdd.PipelinedRDD"
      ]
     },
     "execution_count": 60,
     "metadata": {},
     "output_type": "execute_result"
    }
   ],
   "source": [
    "type(airports)"
   ]
  },
  {
   "cell_type": "markdown",
   "metadata": {},
   "source": [
    "We have three options to use this RDD: lookup action, map and broadcast\n"
   ]
  },
  {
   "cell_type": "markdown",
   "metadata": {},
   "source": [
    "### Using lookup"
   ]
  },
  {
   "cell_type": "code",
   "execution_count": 61,
   "metadata": {
    "collapsed": false
   },
   "outputs": [
    {
     "data": {
      "text/plain": [
       "['Pago Pago, TT: Pago Pago International']"
      ]
     },
     "execution_count": 61,
     "metadata": {},
     "output_type": "execute_result"
    }
   ],
   "source": [
    "# lookup uses the key in order to find a spacific record in the RDD\n",
    "airports.lookup('PPG')"
   ]
  },
  {
   "cell_type": "code",
   "execution_count": 62,
   "metadata": {
    "collapsed": false
   },
   "outputs": [
    {
     "data": {
      "text/plain": [
       "['New York, NY: John F. Kennedy International']"
      ]
     },
     "execution_count": 62,
     "metadata": {},
     "output_type": "execute_result"
    }
   ],
   "source": [
    "airports.lookup('JFK')"
   ]
  },
  {
   "cell_type": "markdown",
   "metadata": {},
   "source": [
    "### Using a dictionary (map)\n",
    "A dictionay in Python is also a map"
   ]
  },
  {
   "cell_type": "code",
   "execution_count": 63,
   "metadata": {
    "collapsed": true
   },
   "outputs": [],
   "source": [
    "# We can build a map with all airports and use it\n",
    "# collectAsMap is an action and returns a dictionary with all the key value pairs in the RDD\n",
    "airportLookup = airports.collectAsMap()"
   ]
  },
  {
   "cell_type": "code",
   "execution_count": 53,
   "metadata": {
    "collapsed": false
   },
   "outputs": [
    {
     "data": {
      "text/plain": [
       "{'SPY': \"San Pedro, Cote d'Ivoire: San Pedro Airport\",\n",
       " 'SPZ': 'Springdale, AR: Springdale Municipal',\n",
       " 'SPP': 'Menongue, Angola: Menongue Airport',\n",
       " 'SPQ': 'San Pedro, CA: Catalina Air-Sea Terminal Heliport',\n",
       " 'SPR': 'San Pedro, Belize: San Pedro Airport',\n",
       " 'SPS': 'Wichita Falls, TX: Sheppard AFB/Wichita Falls Municipal',\n",
       " 'SPU': 'Split, Croatia: Split Airport',\n",
       " 'SPW': 'Spencer, IA: Spencer Municipal',\n",
       " 'SPH': 'Sopu, Papua New Guinea: Sopu Airport',\n",
       " 'SPI': 'Springfield, IL: Abraham Lincoln Capital',\n",
       " 'SPK': 'Sapporo, Japan: Chitose AB',\n",
       " 'SPM': 'Spangdahlem, Germany: Spangdahlem AB',\n",
       " 'SPN': 'Saipan, TT: Francisco C. Ada Saipan International',\n",
       " 'SPA': 'Spartanburg, SC: Spartanburg Downtown Memorial',\n",
       " 'SPB': 'Charlotte Amalie, VI: Charlotte Amalie Harbor Seaplane Base',\n",
       " 'SPC': 'Santa Cruz de la Palma, Spain: La Palma',\n",
       " 'SPD': 'Saidpur, Bangladesh: Saidpur Airport',\n",
       " 'SPE': 'Sepulot, Malaysia: Sepulot Airport',\n",
       " 'SPF': 'Spearfish, SD: Black Hills Clyde Ice Field',\n",
       " 'SPG': 'Tampa, FL: Albert Whitted',\n",
       " 'IXJ': 'Jammu, India: Jammu Airport',\n",
       " 'IXK': 'Keshod, India: Keshod Airport',\n",
       " 'IXH': 'Kailashahar, India: Kailashahar Airport',\n",
       " 'IXI': 'Lilabari, India: North Lakhimpur/Lilabari',\n",
       " 'IXL': 'Leh, India: Leh Airport',\n",
       " 'IXM': 'Madurai, India: Madurai Airport',\n",
       " 'IXB': 'Bagdogra, India: Bagdogra Airport',\n",
       " 'IXC': 'Chandigarh, India: Chandigarh Airport',\n",
       " 'IXA': 'Agartala, India: Agartala Airport',\n",
       " 'IXG': 'Belgaum, India: Belgaum Airport',\n",
       " 'IXD': 'Allahabad, India: Allahabad Airport',\n",
       " 'IXE': 'Mangalore, India: Mangalore Airport',\n",
       " 'IXZ': 'Port Blair, India: Port Blair Airport',\n",
       " 'IXY': 'Kandla, India: Kandla Airport',\n",
       " 'IXR': 'Ranchi, India: Ranchi Airport',\n",
       " 'IXS': 'Silchar, India: Silchar Airport',\n",
       " 'IXQ': 'Kamalpur, India: Kamalpur Airport',\n",
       " 'IXW': 'Jamshedpur, India: Jamshedpur Airport',\n",
       " 'IXU': 'Aurangabad, India: Aurangabad Airport',\n",
       " 'JNP': 'Newport Beach, CA: Newport Beach Airport',\n",
       " 'JNU': 'Juneau, AK: Juneau International',\n",
       " 'PQI': 'Presque Isle/Houlton, ME: Northern Maine Regional at Presque Isle',\n",
       " 'PQM': 'Palenque, Mexico: Palenque International',\n",
       " 'JNB': 'Johannesburg, South Africa: Oliver Reginald Tambo International',\n",
       " 'PQS': 'Pilot Station, AK: Pilot Station Airport',\n",
       " 'JNN': 'Nanortalik, Greenland: Nanortalik Airport',\n",
       " 'BEH': 'Benton Harbor/St. Joseph, MI: Southwest Michigan Regional',\n",
       " 'BEI': 'Beica, Ethiopia: Beica Airport',\n",
       " 'BEN': 'Benghazi, Libya: Benina International',\n",
       " 'BEO': 'Newcastle, Australia: Aeropelican',\n",
       " 'BEL': 'Belem, Brazil: Val de Cans International',\n",
       " 'BEB': 'Benbecula, United Kingdom: Benbecula Airport',\n",
       " 'BEC': 'Wichita, KS: Beech Factory',\n",
       " 'BEF': 'Bluefields, Nicaragua: Bluefields Airport',\n",
       " 'BEG': 'Belgrade, Serbia: Beograd',\n",
       " 'BED': 'Bedford, MA: Laurence G Hanscom Field',\n",
       " 'A51': 'Wien Lake, AK: Wien Lake Airport',\n",
       " 'A50': 'Big Bay, AK: Big Bay Airport',\n",
       " 'A53': 'Blear Lake, AK: Blear Lake Airport',\n",
       " 'A52': 'Silver Salmon Creek, AK: Silver Salmon Creek Airport',\n",
       " 'A54': 'Cannery Bay, AK: Cannery Bay Airport',\n",
       " 'A57': 'International Seafoods, AK: International Seafoods Airport',\n",
       " 'A56': 'Bear Lake, AK: Johnsons Landing',\n",
       " 'A59': 'Ivatuk, AK: Ivatuk Airport',\n",
       " 'A58': 'Cosna River, AK: Cosna River Airport',\n",
       " 'BEV': 'Beersheba, Israel: Teyman',\n",
       " 'BEW': 'Beira, Mozambique: Beira Airport',\n",
       " 'BET': 'Bethel, AK: Bethel Airport',\n",
       " 'BEU': 'Bedourie, Australia: Bedourie North',\n",
       " 'GRW': 'Graciosa Island, Portugal: Graciosa Island Airport',\n",
       " 'GRU': 'Sao Paulo, Brazil: Guarulhos Gov Andre Franco Montouro',\n",
       " 'GRR': 'Grand Rapids, MI: Gerald R. Ford International',\n",
       " 'GRS': 'Grosseto, Italy: Grosseto Airport',\n",
       " 'GRP': 'Gurupi, Brazil: Gurupi Airport',\n",
       " 'GRQ': 'Groningen, Netherlands: Eelde',\n",
       " 'GRZ': 'Graz, Austria: Graz International',\n",
       " 'GRX': 'Granada, Spain: Granada Airport',\n",
       " 'GRF': 'Tacoma, WA: Gray AAF',\n",
       " 'GRD': 'Greenwood, SC: Greenwood County',\n",
       " 'GRB': 'Green Bay, WI: Austin Straubel International',\n",
       " 'GRA': 'Gamarra, Colombia: Germania',\n",
       " 'GRO': 'Gerona, Spain: Gerona Costa Brava',\n",
       " 'GRJ': 'George, South Africa: George Airport',\n",
       " 'GRK': 'Killeen, TX: Robert Gray AAF',\n",
       " 'GRI': 'Grand Island, NE: Central Nebraska Regional',\n",
       " 'TJA': 'Tarija, Bolivia: Cap Av Oriel Lea Plaza International',\n",
       " 'NON': 'Nonouti, Kiribati: Nonouti Airport',\n",
       " 'HLZ': 'Hamilton, New Zealand: Hamilton Airport',\n",
       " 'TJI': 'Trujillo, Honduras: Trujillo Airport',\n",
       " 'NOG': 'Nogales, Mexico: Nogales International',\n",
       " 'TJM': 'Tyumen, Russia: Roshchino',\n",
       " 'NOA': 'Nowra, Australia: Nowra Airport',\n",
       " 'HLP': 'Jakarta, Indonesia: Halim Perdanakusuma International',\n",
       " 'HLO': 'Holbrook, AZ: Holbrook Municipal',\n",
       " 'HLN': 'Helena, MT: Helena Regional',\n",
       " 'HLM': 'Holland, MI: Park Township',\n",
       " 'HLI': 'Hollister, CA: Hollister Municipal',\n",
       " 'HLG': 'Wheeling, WV: Wheeling Ohio County',\n",
       " 'HLF': 'Hultsfred, Sweden: Hultsfred Airport',\n",
       " 'NOV': 'Huambo, Angola: Huambo Airport',\n",
       " 'HLD': 'Hailar, China: Hailar Airport',\n",
       " 'NOP': 'Mactan Island, Philippines: Nab',\n",
       " 'HLA': 'Lanseria, South Africa: Lanseria Airport',\n",
       " 'NOS': 'Nossi-Be, Madagascar: Fascene',\n",
       " 'ENW': 'Kenosha, WI: Kenosha Regional',\n",
       " 'FJR': 'Al-Fujairah, United Arab Emirates: Fujairah International',\n",
       " 'WSM': 'Wiseman, AK: Wiseman Airport',\n",
       " 'EDA': 'Edna Bay, AK: Edna Bay Airport',\n",
       " 'EDF': 'Anchorage, AK: Elmendorf AFB',\n",
       " 'EDE': 'Edenton, NC: Northeastern Regional',\n",
       " 'LMP': 'Lampedusa, Italy: Lampedusa Airport',\n",
       " 'LMQ': 'Marsa Brega, Libya: Marsa Brega S21',\n",
       " 'RLG': 'Rostock-Laage, Germany: Laage',\n",
       " 'EDI': 'Edinburgh, United Kingdom: Edinburgh Airport',\n",
       " 'LMT': 'Klamath Falls, OR: Klamath Falls Airport',\n",
       " '05A': 'Little Squaw, AK: Little Squaw Airport',\n",
       " 'EDL': 'Eldoret, Kenya: Eldoret Airport',\n",
       " 'LMI': 'Lumi, Papua New Guinea: Lumi Airport',\n",
       " 'EDW': 'Edwards, CA: Edwards AFB',\n",
       " 'LMN': 'Limbang, Malaysia: Limbang Airport',\n",
       " 'LMO': 'Lossiemouth, United Kingdom: RAF Lossiemouth',\n",
       " 'RLU': 'Bornite/Ruby Creek, AK: Bornite Upper',\n",
       " 'LMA': 'Lake Minchumina, AK: Lake Minchumina Airport',\n",
       " 'DPS': 'Denpasar, Indonesia: Ngurah Rai International',\n",
       " 'DPG': 'Dugway, UT: Michael AAF',\n",
       " 'DPA': 'Chicago, IL: Du Page County',\n",
       " 'DPO': 'Devonport, Australia: Devonport Airport',\n",
       " 'DPL': 'Dipolog, Philippines: Dipolog Airport',\n",
       " 'XPL': 'Comayagua, Honduras: Palmerola Air Base',\n",
       " 'PNX': 'Sherman-Denison, TX: Sherman-Denison Airport',\n",
       " 'PNZ': 'Petrolina, Brazil: Petrolina Airport',\n",
       " 'PNQ': 'Pune, India: Pune Airport',\n",
       " 'CFG': 'Cienfuegos, Cuba: Jaime Gonzalez',\n",
       " 'PNS': 'Pensacola, FL: Pensacola International',\n",
       " 'CFE': 'Clermont-Ferrand, France: Clermont Ferrand Auvergne',\n",
       " 'CFB': 'Cabo Frio, Brazil: Cabo Frio Airport',\n",
       " 'CFA': 'Coffee Point, AK: Coffee Point Airport',\n",
       " 'PNI': 'Pohnpei, Federated States of Micronesia: Pohnpei International',\n",
       " 'PNH': 'Phnom Penh, Cambodia: Phnom Penh International',\n",
       " 'PNK': 'Pontianak, Indonesia: Supadio',\n",
       " 'PNL': 'Pantelleria, Italy: Pantelleria Airport',\n",
       " 'PNO': 'Pinotepa, Mexico: Pinotepa Nacional',\n",
       " 'PNN': 'Princeton, ME: Princeton Municipal',\n",
       " 'CFV': 'Coffeyville, KS: Coffeyville Municipal',\n",
       " 'CFT': 'Clifton, AZ: Greenlee County',\n",
       " 'CFU': 'Corfu, Greece: Ioannis Kapodistrias International',\n",
       " 'CFR': 'Caen, France: Caen Carpiquet',\n",
       " 'CFS': 'Coffs Harbour, Australia: Coffs Harbour Airport',\n",
       " 'PNG': 'Paranagua, Brazil: Paranagua Airport',\n",
       " 'CFQ': 'Silver City, Canada: Silver City Airport',\n",
       " 'KY3': 'Mount Sterling, KY: Mount Sterling - Montgomery County',\n",
       " 'KY2': 'Sturgis, KY: Sturgis Municipal',\n",
       " 'KY4': 'Henderson, KY: Henderson City - County',\n",
       " 'MRX': 'Margarita Island, Venezuela: Del Caribe International',\n",
       " 'MRY': 'Monterey, CA: Monterey Regional',\n",
       " 'MRZ': 'Moree, Australia: Moree Airport',\n",
       " 'MRU': 'Mauritius Island, Mauritius: Sir Seewoosagur Ramgoolam International',\n",
       " 'MRV': 'Mineralnyye Vody, Russia: Mineralnyye Vody Airport',\n",
       " 'MRQ': 'Marinduque, Philippines: Marinduque Airport',\n",
       " 'MRS': 'Marseille, France: Marseille Provence',\n",
       " 'MRN': 'Morganton, NC: Morganton Lenoir',\n",
       " 'MRO': 'Masterton, New Zealand: Masterton Airport',\n",
       " 'MRH': 'Morehead City, NC: Beaufort Morehead City',\n",
       " 'MRI': 'Anchorage, AK: Merrill Field',\n",
       " 'MRK': 'Marco Island, FL: Marco Island Airport',\n",
       " 'MRD': 'Merida, Venezuela: Alberto Carnevalli',\n",
       " 'MRA': 'Misurata, Libya: Misurata International',\n",
       " 'MRB': 'Martinsburg, WV: Eastern WV Regional/Shepherd Field',\n",
       " 'MRC': 'Columbia, TN: Maury County',\n",
       " 'APR': 'April River, Papua New Guinea: April River Airport',\n",
       " 'APV': 'Apple Valley, CA: Apple Valley Airport',\n",
       " 'APW': 'Apia, Samoa: Faleolo International',\n",
       " 'APT': 'Jasper, TN: Marion County Brown Field',\n",
       " 'APK': 'Apataki, French Polynesia: Apataki Airport',\n",
       " 'API': 'Villavicencio, Colombia: Gomez Nino Apiay AB',\n",
       " 'APN': 'Alpena, MI: Alpena County Regional',\n",
       " 'APO': 'Apartado, Colombia: Apartado Airport',\n",
       " 'APL': 'Nampula, Mozambique: Nampula Airport',\n",
       " 'APB': 'Apolo, Bolivia: Apolo Airport',\n",
       " 'APC': 'Napa, CA: Napa County',\n",
       " 'APA': 'Denver, CO: Centennial',\n",
       " 'APF': 'Naples, FL: Naples Municipal',\n",
       " 'APG': 'Aberdeen, MD: Phillips AAF',\n",
       " 'APE': 'San Juan Aposento, Peru: San Juan Aposento Airport',\n",
       " 'PQQ': 'Port Macquarie, Australia: Port Macquarie Airport',\n",
       " 'KXK': 'Komsomolsk-na-Amure, Russia: Komsomolsk South',\n",
       " 'KXA': 'Kasaan, AK: Kasaan Seaplane Base',\n",
       " 'YAY': 'St. Anthony, Canada: St. Anthony Airport',\n",
       " 'YAZ': 'Tofino, Canada: Long Beach',\n",
       " 'YAU': 'Kattiniq, Canada: Kattiniq Donaldson',\n",
       " 'YAT': 'Attawapiskat, Canada: Attawapiskat Airport',\n",
       " 'YAV': 'Miners Bay, Canada: Miners Bay Airport',\n",
       " 'YAP': 'Yap, Federated States of Micronesia: Yap International',\n",
       " 'YAM': 'Sault Ste. Marie, Canada: Sault Ste. Marie Airport',\n",
       " 'YAO': 'Yaounde, Cameroon: Yaounde Ville',\n",
       " 'YAH': 'La Grande 4, Canada: La Grande 4 Airport',\n",
       " 'YAK': 'Yakutat, AK: Yakutat Airport',\n",
       " 'YAG': 'Fort Frances, Canada: Fort Frances Municipal',\n",
       " 'YAF': 'Asbestos Hill, Canada: Asbestos',\n",
       " 'YAA': 'Anahim Lake, Canada: Anahim Lake Airport',\n",
       " 'YAC': 'Cat Lake, Canada: Cat Lake Airport',\n",
       " 'BEY': 'Beirut, Lebanon: Rafic Hariri International',\n",
       " 'BER': 'Berlin, Germany: Berlin Metropolitan Area',\n",
       " 'BES': 'Brest, France: Brest Bretagne',\n",
       " 'DHI': 'Dhangadhi, Nepal: Dhangadhi Airport',\n",
       " 'PDZ': 'Pedernales, Venezuela: Pedernales Airport',\n",
       " 'CLJ': 'Cluj-Napoca, Romania: Avram Iancu',\n",
       " 'CLK': 'Clinton, OK: Clinton Regional',\n",
       " 'CLE': 'Cleveland, OH: Cleveland-Hopkins International',\n",
       " 'CLF': 'Clear, AK: Clear Mews',\n",
       " 'VCA': 'Can Tho, Vietnam: Can Tho International',\n",
       " 'VCB': 'View Cove, AK: View Cove Airport',\n",
       " 'CLG': 'Coalinga, CA: New Coalinga Municipal',\n",
       " 'VCE': 'Venice, Italy: Marco Polo International',\n",
       " 'PDS': 'Piedras Negras, Mexico: Piedras Negras International',\n",
       " 'CLA': 'Comilla, Bangladesh: Comilla Airport',\n",
       " 'VCP': 'Sao Paulo, Brazil: Viracopos International',\n",
       " 'VCR': 'Carora, Venezuela: Carora Airport',\n",
       " 'VCT': 'Victoria, TX: Victoria Regional',\n",
       " 'VCV': 'Victorville, CA: Southern California Logistics',\n",
       " 'PDP': 'Maldonado, Uruguay: Capitan Corbeta C. A. Curbelo International',\n",
       " 'WKK': 'Aleknagik, AK: Aleknagik New',\n",
       " 'WKJ': 'Wakkanai, Japan: Wakkanai Airport',\n",
       " 'WKM': 'Wankie, Rhodesia: Wankie Town',\n",
       " 'WKL': 'Waikoloa Village, HI: Waikoloa Heliport',\n",
       " 'WKN': 'Wakunai, Papua New Guinea: Wakunai Airport',\n",
       " 'WKA': 'Wanaka, New Zealand: Wanaka Airport',\n",
       " 'WKR': \"Walker's Cay, The Bahamas: Walker's\",\n",
       " 'CLY': 'Calvi, France: Calvi Sainte Catherine',\n",
       " 'PDG': 'Padang, Indonesia: Tabing',\n",
       " 'UXV': 'Enterprise, OR: Enterprise Municipal',\n",
       " 'UXW': 'Cookeville, TN: Putnam County',\n",
       " 'UXT': 'Lorain/Elyria, OH: Lorain Cnty Regional',\n",
       " 'UXU': 'Cheboygan, MI: Cheboygan County',\n",
       " 'UXR': 'Monument Valley, UT: Monument Valley Airport',\n",
       " 'UXS': 'Cimarron, KS: Cimarron Municipal',\n",
       " 'UXP': 'Bay St. Louis, MS: Stennis International',\n",
       " 'UXQ': 'Gilze-Rijen, Netherlands: Gilze-Rijen Airport',\n",
       " 'CLP': 'Clarks Point, AK: Clarks Point Airport',\n",
       " 'UXZ': 'Garrison, ND: Garrison Municipal',\n",
       " 'UXX': 'Hot Springs, MT: Hot Springs Airport',\n",
       " 'PDB': 'Pedro Bay, AK: Pedro Bay Airport',\n",
       " 'UXF': 'St. Anthony, ID: Stanford Field',\n",
       " 'UXG': 'Dutch John, UT: Dutch John Airport',\n",
       " 'UXD': 'Chowchilla, CA: Chowchilla Airport',\n",
       " 'UXE': 'Faulkton, SD: Faulkton Municipal',\n",
       " 'UXB': 'Fassberg, Germany: Fassberg Airport',\n",
       " 'PDA': 'Puerto Inirida, Colombia: Puerto Inirida Airport',\n",
       " 'UXA': 'Lik Camp, AK: Lik Camp Airport',\n",
       " 'UXN': 'Prestonsburg, KY: Big Sandy Regional',\n",
       " 'UXO': 'Fitchburg, MA: Fitchburg Municipal',\n",
       " 'UXL': 'Chariot, AK: Chariot Airport',\n",
       " 'UXM': '47-Mile Mine, AK: 47-Mile Mine Airport',\n",
       " 'UXJ': 'Richmond, KY: Madison',\n",
       " 'UXK': 'Petaluma, CA: Petaluma Municipal',\n",
       " 'UXH': 'Kiev, Ukraine: Gostomel',\n",
       " 'UXI': 'Calder Bay, AK: Calder Bay Airport',\n",
       " 'ZXA': 'Rota, Spain: Rota NS',\n",
       " 'ZXC': 'Gasquet, CA: Ward Field',\n",
       " 'ZXB': 'Albuquerque, NM: Double Eagle II',\n",
       " 'ZXE': 'Sculthorpe, United Kingdom: Sculthorpe Airport',\n",
       " 'ZXD': 'San Isidro, Dominican Republic: San Isidro International',\n",
       " 'ZXF': 'Illinois Creek, AK: Illinois Creek Airport',\n",
       " 'ZXI': 'Coal Bay, AK: Coal Bay Airport',\n",
       " 'ZXH': 'Chomondely Sound, AK: Chomondely Sound Airport',\n",
       " 'ZXK': 'Lancaster Cove, AK: Lancaster Cove Airport',\n",
       " 'ZXJ': 'Happy Harbour, AK: Happy Harbour Airport',\n",
       " 'ZXM': 'Saltery Cove, AK: Saltery Cove Airport',\n",
       " 'ZXL': 'Reid Cove, AK: Reid Cove Airport',\n",
       " 'ZXO': 'El Capitan, AK: El Capitan Peak',\n",
       " 'ZXN': 'Clover Bay, AK: Clover Bay Airport',\n",
       " 'ZXQ': 'Santa Ynez, CA: Santa Ynez Airport',\n",
       " 'ZXP': 'Salmon Bay Lake, AK: Salmon Bay Lake Airport',\n",
       " 'ZXU': 'North Kingstown, RI: Quonset State',\n",
       " 'ZXT': 'Cloverdale, CA: Cloverdale Municipal',\n",
       " 'ZXW': 'Paradise, CA: Paradise Skypark',\n",
       " 'ZXV': 'Nappanee, IN: Nappanee Municipal',\n",
       " 'ZXY': 'Delta, CO: Blake Field',\n",
       " 'ZXX': 'Kennewick, WA: Vista Field',\n",
       " 'ZXZ': 'Waterville, WA: Waterville Airport',\n",
       " 'DMA': 'Tucson, AZ: Davis Monthan AFB',\n",
       " 'DME': 'Moscow, Russia: Domodedovo',\n",
       " 'DMK': 'Bangkok, Thailand: Don Mueang International',\n",
       " 'DMM': 'Dammam, Saudi Arabia: King Fahd International',\n",
       " 'DMN': 'Deming, NM: Deming Municipal',\n",
       " 'DMO': 'Sedalia, MO: Sedalia Regional',\n",
       " 'DMU': 'Dimapur, India: Manipur Road',\n",
       " 'XRH': 'Richmond, Australia: Richmond AFB',\n",
       " 'XRY': 'Jerez de la Frontera, Spain: Jerez',\n",
       " 'XRS': 'Reston, VA: Reston Airport',\n",
       " 'PSK': 'Dublin, VA: New River Valley',\n",
       " 'PSI': 'Pasni, Pakistan: Pasni Airport',\n",
       " 'PSN': 'Palestine, TX: Palestine Municipal',\n",
       " 'PSO': 'Pasto, Colombia: Pasto Airport',\n",
       " 'JLR': 'Jabalpur, India: Jabalpur Airport',\n",
       " 'PSB': 'Philipsburg, PA: Mid State',\n",
       " 'PSC': 'Pasco/Kennewick/Richland, WA: Tri Cities',\n",
       " 'PSA': 'Pisa, Italy: Pisa Airport',\n",
       " 'PSF': 'Pittsfield, MA: Pittsfield Municipal',\n",
       " 'PSG': 'Petersburg, AK: Petersburg James A Johnson',\n",
       " 'PSD': 'Port Said, Egypt: Port Said Airport',\n",
       " 'PSE': 'Ponce, PR: Mercedita',\n",
       " 'PSZ': 'Puerto Suarez, Bolivia: Tte Av Salvador Ogaya G International',\n",
       " 'PSX': 'Palacios, TX: Palacios Municipal',\n",
       " 'PSY': 'Stanley, Falkland Islands (Islas Malvinas): Stanley Airport',\n",
       " 'JLA': 'Cooper Lodge, AK: Quartz Creek',\n",
       " 'PSR': 'Pescara, Italy: Pescara Airport',\n",
       " 'PSS': 'Posadas, Argentina: Posadas Airport',\n",
       " 'PSP': 'Palm Springs, CA: Palm Springs International',\n",
       " 'JLN': 'Joplin, MO: Joplin Regional',\n",
       " 'BCL': 'Barra del Colorado, Costa Rica: Barra del Colorado Airport',\n",
       " 'BCM': 'Bacau, Romania: Bacau Airport',\n",
       " 'BCN': 'Barcelona, Spain: Barcelona-El Prat',\n",
       " 'BCH': 'Baucau, Timor-Leste: Cakung',\n",
       " 'BCI': 'Barcaldine, Australia: Barcaldine Airport',\n",
       " 'BCJ': 'Crestone, CO: Baca Grande',\n",
       " 'NM1': 'Belen, NM: Belen Municipal',\n",
       " 'BCD': 'Bacolod, Philippines: Bacolod Airport',\n",
       " 'BCE': 'Bryce Canyon, UT: Bryce Canyon Airport',\n",
       " 'HNM': 'Hana, HI: Hana Airport',\n",
       " 'BCA': 'Baracoa, Cuba: Gustavo Rizo',\n",
       " 'BCB': 'Blacksburg, VA: Virginia Tech/Montgomery Executive',\n",
       " 'BCC': 'Bear Creek, AK: Bear Creek Airport',\n",
       " 'HNS': 'Haines, AK: Haines Airport',\n",
       " 'BCY': 'Bulchi, Ethiopia: Bulchi Airport',\n",
       " 'BCT': 'Boca Raton, FL: Boca Raton Public',\n",
       " 'BCS': 'Belle Chasse, LA: Southern Seaplane',\n",
       " 'YWQ': 'Chute-Des-Passes, Canada: Chute-Des-Passes Airport',\n",
       " 'SRB': 'Santa Rosa, Bolivia: Santa Rosa Airport',\n",
       " 'SRC': 'Searcy, AR: Searcy Municipal',\n",
       " 'SRA': 'Santa Rosa, Brazil: Santa Rosa Airport',\n",
       " 'SRF': 'Novato, CA: Hamilton AFB',\n",
       " 'SRG': 'Semarang, Indonesia: Achmad Yani',\n",
       " 'SRE': 'Sucre, Bolivia: Juana Azurduy de Padilla',\n",
       " 'SRJ': 'San Borja, Bolivia: Capitan German Quiroga Guardia',\n",
       " 'SRH': 'Sarh, Chad: Sarh Airport',\n",
       " 'SRI': 'Samarinda, Indonesia: Samarinda Airport',\n",
       " 'SRN': 'Strahan, Australia: Strahan Airport',\n",
       " 'SRO': 'Santana Ramos, Colombia: Santana Ramos Airport',\n",
       " 'SRL': 'Santa Rosalia, Mexico: San Lucas',\n",
       " 'SRP': 'Stord, Norway: Stord Airport',\n",
       " 'SRQ': 'Sarasota/Bradenton, FL: Sarasota/Bradenton International',\n",
       " 'SRV': 'Stony River, AK: Stony River Airport',\n",
       " 'SRW': 'Salisbury, NC: Rowan County',\n",
       " 'SRZ': 'Santa Cruz, Bolivia: El Trompillo',\n",
       " 'SRX': 'Sert, Libya: Sirte International',\n",
       " 'TDA': 'Trinidad, Colombia: San Luis de Palenque',\n",
       " 'TDF': 'Roxboro, NC: Person County',\n",
       " 'TDD': 'Trinidad, Bolivia: Tte Av Jorge Henrich Arauz International',\n",
       " 'NMG': 'San Miguel, Panama: San Miguel Airport',\n",
       " 'NME': 'Nightmute, AK: Nightmute Airport',\n",
       " 'BC8': 'Hanson Island, Canada: Pacific Outback Resort',\n",
       " 'NMC': \"Norman's Cay, The Bahamas: Norman's Cay Airport\",\n",
       " 'BC4': 'Cordero Lodge, Canada: Cordero Lodge Airport',\n",
       " 'BC5': 'Dent Island , Canada: Dent Island Lodge',\n",
       " 'BC6': 'Egmont, Canada: Egmont Water Aerodrome',\n",
       " 'BC7': 'Sonora Island, Canada: Sonora Resort',\n",
       " 'TDW': 'Amarillo, TX: Tradewind',\n",
       " 'BC2': 'Berry Island, Canada: Farewell Harbour',\n",
       " 'BC3': 'Bliss Landing, Canada: Bliss Landing Water Aerodrome',\n",
       " 'HLT': 'Hamilton, Australia: Hamilton Airport',\n",
       " 'LOH': 'Loja, Ecuador: Cuidad de Catamayo',\n",
       " 'LOI': 'Laredo, TX: Laredo Municipal',\n",
       " 'LON': 'London, United Kingdom: London Metropolitan Area',\n",
       " 'LOL': 'Lovelock, NV: Derby Field',\n",
       " 'FHB': 'Fernandina Beach, FL: Fernandina Beach Municipal',\n",
       " 'LOS': 'Lagos, Nigeria: Murtala Muhammed',\n",
       " 'LOQ': 'Lobatse, Botswana: Lobatse Airport',\n",
       " 'LOV': 'Monclova, Mexico: Monclova International',\n",
       " 'LOT': 'Chicago/Romeoville, IL: Lewis University',\n",
       " 'LOU': 'Louisville, KY: Bowman Field',\n",
       " 'FHU': 'Fort Huachuca, AZ: Sierra Vista Municipal-Libby AAF',\n",
       " 'NOC': 'Connaught, Ireland: Ireland West Airport Knock',\n",
       " 'NOT': 'Novato, CA: Gnoss Field',\n",
       " 'NOU': 'Noumea, New Caledonia: Noumea La Tontouta',\n",
       " 'EBD': 'El Obeid, Sudan: El Obeid Airport',\n",
       " 'EBA': 'Elba Island, Italy: Marina Di Campo',\n",
       " 'EBB': 'Entebbe/Kampala, Uganda: Entebbe International',\n",
       " 'EBL': 'Erbil, Iraq: Erbil International',\n",
       " 'EBJ': 'Esbjerg, Denmark: Esbjerg Airport',\n",
       " 'EBU': 'St. Etienne, France: Saint Etienne Boutheon',\n",
       " 'NOR': 'Nordfjordur, Iceland: Nordfjordur Airport',\n",
       " '07A': 'Klawock, AK: Klawock Seaplane Base',\n",
       " 'RJL': 'Logrono, Spain: Logrono Airport',\n",
       " 'RJK': 'Rijeka, Croatia: Rijeka Airport',\n",
       " 'DRS': 'Dresden, Germany: Dresden Airport',\n",
       " 'DRU': 'Drummond, MT: Drummond Airport',\n",
       " 'DRT': 'Del Rio, TX: Del Rio International',\n",
       " 'DRW': 'Darwin, Australia: Darwin International',\n",
       " 'DRO': 'Durango, CO: Durango La Plata County',\n",
       " 'DRN': 'Dirranbandi, Australia: Dirranbandi Airport',\n",
       " 'DRA': 'Mercury, NV: Desert Rock',\n",
       " 'DRB': 'Derby, Australia: Derby Airport',\n",
       " 'DRE': 'Drummond Island, MI: Drummond Island Airport',\n",
       " 'DRG': 'Deering, AK: Deering Airport',\n",
       " 'DRF': 'Drift River, AK: Drift River Airport',\n",
       " 'CXP': 'Cilacap, Indonesia: Tunggul Wulung',\n",
       " 'CXT': 'Charters Towers, Australia: Charters Towers Airport',\n",
       " 'CXY': 'Cat Cay, The Bahamas: Cat Cay Airport',\n",
       " 'CXA': 'Caicara, Venezuela: Caicara Venez.',\n",
       " 'CXB': \"Cox's Bazar, Bangladesh: Cox's Bazar Airport\",\n",
       " 'CXC': 'Chitina, AK: Chitina Airport',\n",
       " 'CXF': 'Coldfoot, AK: Coldfoot Airport',\n",
       " 'CXH': 'Vancouver, Canada: Coal Harbour Seaplane Base',\n",
       " 'CXI': 'Christmas Island, Kiribati: Christmas Island Airport',\n",
       " 'CXJ': 'Caxias Do Sul, Brazil: Campo Dos Bugres',\n",
       " 'CXL': 'Calexico, CA: Calexico International',\n",
       " 'CXO': 'Conroe, TX: Lone Star Executive',\n",
       " 'MLB': 'Melbourne, FL: Melbourne International',\n",
       " 'AJY': 'Agades, Niger: Manu Dayak',\n",
       " 'MLA': 'Malta, Malta: Luqa International',\n",
       " 'GOI': 'Goa, India: Goa Airport',\n",
       " 'MLG': 'Malang, Indonesia: Abdul Rachman Saleh',\n",
       " 'MLE': 'Male, Maldives: Ibrahim Nasir International',\n",
       " 'AJR': 'Arvidsjaur, Sweden: Arvidsjaur Airport',\n",
       " 'GOA': 'Genoa, Italy: Genova/Sestri',\n",
       " 'AJU': 'Aracaju, Brazil: Santa Maria',\n",
       " 'GOB': 'Goba, Ethiopia: Goba Airport',\n",
       " 'MPE': 'Madison, CT: Griswold',\n",
       " 'AVX': 'Avalon, CA: Catalina',\n",
       " 'MPN': 'Mount Pleasant, Falkland Islands (Islas Malvinas): Mount Pleasant Airport',\n",
       " 'MPO': 'Mt. Pocono, PA: Pocono Mountains Municipal',\n",
       " 'AVV': 'Avalon, Australia: Avalon Airport',\n",
       " 'AVW': 'Tucson, AZ: Marana Regional',\n",
       " 'AVP': 'Scranton/Wilkes-Barre, PA: Wilkes Barre Scranton International',\n",
       " 'AJJ': 'Akjoujt, Mauritania: Akjoujt Airport',\n",
       " 'MPI': 'Mamitupo, Panama: Mamitupo Airport',\n",
       " 'AVL': 'Asheville, NC: Asheville Regional',\n",
       " 'AVN': 'Avignon, France: Avignon Caumont',\n",
       " 'AVO': 'Avon Park, FL: Avon Park Executive',\n",
       " 'MPR': 'McPherson, KS: McPherson Airport',\n",
       " 'AVI': 'Ciego de Avila, Cuba: Maximo Gomez',\n",
       " 'AJL': 'Aizwal, India: Lengpui',\n",
       " 'AVB': 'Aviano, Italy: Aviano AB',\n",
       " 'AJN': 'Anjouan, Comoros: Ouani',\n",
       " 'GOZ': 'Gorna Oryahovitsa, Bulgaria: Gorna Oryahovitsa Airport',\n",
       " 'DEZ': 'Deir Ezzor, Syria: Al Jafrah/Deir Ezzor',\n",
       " 'GOU': 'Garoua, Cameroon: Garoua Airport',\n",
       " 'AJA': 'Ajaccio, France: Ajaccio Napoleon Bonaparte',\n",
       " 'B19': 'Biddeford, ME: Biddeford Municipal',\n",
       " 'GOV': 'Gove, Australia: Gove Airport',\n",
       " 'AJF': 'Jouf, Saudi Arabia: Al Jouf',\n",
       " '1B1': 'Hudson, NY: Columbia County',\n",
       " 'DES': 'Desroches, Seychelles: Desroches Airport',\n",
       " 'DET': 'Detroit, MI: Coleman A. Young Municipal',\n",
       " 'ZLT': 'La Tabatiere, Canada: La Tabatiere Airport',\n",
       " 'KZB': 'Zachar Bay, AK: Zachar Bay Airport',\n",
       " 'KZH': 'Kizhuyak, AK: Kizhuyak Airport',\n",
       " 'KZI': 'Kozani, Greece: Filippos',\n",
       " 'KZN': 'Kazan, Russia: Kazan Airport',\n",
       " 'DEM': 'Dembi Dollo, Ethiopia: Dembi Dollo Airport',\n",
       " 'DEA': 'Dera Ghazi Khan, Pakistan: Dera Ghazi Khan International',\n",
       " 'YGG': 'Ganges Harbor, Canada: Ganges Harbor Airport',\n",
       " 'YGE': 'Gorge Harbor, Canada: Gorge Harbor Airport',\n",
       " 'YGB': 'Gillies Bay, Canada: Texada Gillies Bay',\n",
       " 'YGA': 'Gagnon, Canada: Gagnon Airport',\n",
       " 'YGN': 'Greenway Sound, Canada: Greenway Sound Airport',\n",
       " 'YGL': 'La Grande, Canada: La Grande Riviere',\n",
       " 'YGK': 'Kingston, Canada: Kingston Airport',\n",
       " 'YGJ': 'Yonago, Japan: Miho',\n",
       " 'YGH': 'Fort Good Hope, Canada: Fort Good Hope Ice Strip',\n",
       " 'YGW': 'Kuujjuarapik, Canada: Kuujjuarapik Airport',\n",
       " 'YGV': 'Havre St. Pierre, Canada: Havre St. Pierre Airport',\n",
       " 'YGT': 'Igloolik, Canada: Igloolik Airport',\n",
       " 'YGR': 'Iles de la Madeleine, Canada: Iles de la Madeleine Airport',\n",
       " 'YGQ': 'Geraldton, Canada: Geraldton Greenstone Regional',\n",
       " 'YGP': 'Gaspe, Canada: Michel Pouliot',\n",
       " 'YGZ': 'Grise Fiord, Canada: Grise Fiord Airport',\n",
       " 'YGX': 'Gillam, Canada: Gillam Airport',\n",
       " 'VA2': 'Chesapeake, VA: Chesapeake Regional',\n",
       " 'VA3': 'Marion/Wytheville, VA: Mountain Empire',\n",
       " 'VA1': 'Emporia, VA: Emporia Greensville Regional',\n",
       " 'VA4': 'Leesburg, VA: Leesburg Executive',\n",
       " 'VA5': 'Richmond, VA: Hanover County Municipal',\n",
       " 'VAK': 'Chevak, AK: Chevak Airport',\n",
       " 'VAI': 'Vanimo, Papua New Guinea: Vanimo Airport',\n",
       " 'VAN': 'Van, Turkey: Van Airport',\n",
       " 'VAO': 'Suavanao, Solomon Islands: Suavanao Airport',\n",
       " 'VAA': 'Vaasa, Finland: Vaasa Airport',\n",
       " 'VAF': 'Valence, France: Valence Chabeuil',\n",
       " 'VAD': 'Valdosta, GA: Moody AFB',\n",
       " 'VAR': 'Varna, Bulgaria: Varna Airport',\n",
       " 'VAS': 'Sivas, Turkey: Sivas Airport',\n",
       " 'VAV': \"Vava'u, Tonga: Vava'u International\",\n",
       " 'WUQ': 'Ocean Shores, WA: Avco',\n",
       " 'WUU': 'Wau, South Sudan: Wau Airport',\n",
       " 'WUX': 'Wuxi, China: Wuxi Shuofang',\n",
       " 'WUG': 'Wau, Papua New Guinea: Wau Airport',\n",
       " 'RLD': 'Richland, WA: Richland Airport',\n",
       " 'WUJ': 'Duchesne, UT: Duchesne Municipal',\n",
       " '8F3': 'Crosbyton, TX: Crosbyton Municipal',\n",
       " 'WUH': 'Wuhan, China: Tianhe',\n",
       " 'LMS': 'Louisville, MS: Louisville Winston County',\n",
       " 'RLA': 'Rolla, MO: Rolla Downtown',\n",
       " 'UVL': 'Kharja, Egypt: New Valley',\n",
       " 'UVA': 'Uvalde, TX: Garner Field',\n",
       " 'UVE': 'Ouvea, New Caledonia: Ouvea Ouloup',\n",
       " 'UVF': 'St. Lucia, Saint Lucia: Hewanorra International',\n",
       " 'LMM': 'Los Mochis, Mexico: Valle del Fuerte International',\n",
       " 'ZVK': 'Savannakhet, Laos: Savannakhet International',\n",
       " 'ZVA': 'Miandrivazo, Madagascar: Miandrivazo Airport',\n",
       " 'RLT': 'Arlit, Niger: Arlit Airport',\n",
       " 'RWB': 'Rowan Bay, AK: Rowan Bay Airport',\n",
       " 'RWI': 'Rocky Mount, NC: Rocky Mount-Wilson Regional',\n",
       " 'RWL': 'Rawlins, WY: Rawlins Municipal/Harvey Field',\n",
       " 'DOK': 'Donetsk, Ukraine: Donetsk International',\n",
       " 'DOH': 'Doha, Qatar: Doha International',\n",
       " 'DON': 'Dos Lagunas, Guatemala: Dos Lagunas Airport',\n",
       " 'DOL': 'Deauville, France: Deauville Normandie',\n",
       " 'DOM': 'Marigot, Dominica: Melville Hall',\n",
       " 'DOF': 'Dora Bay, AK: Dora Bay Airport',\n",
       " 'DOG': 'Dongola, Sudan: Dongola Airport',\n",
       " 'DOD': 'Dodoma, Tanzania: Dodoma Airport',\n",
       " 'DOV': 'Dover, DE: Dover AFB',\n",
       " 'DOU': 'Dourados, Brazil: Dourados Airport',\n",
       " 'PUL': 'Poulsbo, WA: Port of Poulsbo Marina Moorage Seaplane Base',\n",
       " 'PUO': 'Prudhoe Bay, AK: Prudhoe Bay Airport',\n",
       " 'PUJ': 'Punta Cana, Dominican Republic: Punta Cana International',\n",
       " 'PUK': 'Pukarua, French Polynesia: Pukarua Airport',\n",
       " 'PUD': 'Puerto Deseado, Argentina: Puerto Deseado Airport',\n",
       " 'PUF': 'Pau, France: Pau Pyrenees',\n",
       " 'PUG': 'Port Augusta, Australia: Port Augusta Airport',\n",
       " 'PUB': 'Pueblo, CO: Pueblo Memorial',\n",
       " 'PUC': 'Price, UT: Carbon County Regional/Buck Davis Field',\n",
       " 'PUY': 'Pula, Croatia: Pula Airport',\n",
       " 'JJI': 'Juanjui, Peru: Juanjui Airport',\n",
       " 'PUT': 'Puttaparthi, India: Puttaprathe',\n",
       " 'PUU': 'Puerto Asis, Colombia: Puerto Asis Airport',\n",
       " 'PUV': 'Poum, New Caledonia: Poum Sommet',\n",
       " 'PUW': 'Pullman, WA: Pullman Moscow Regional',\n",
       " 'PUQ': 'Punta Arenas, Chile: Carlos Ibanez del Campo International',\n",
       " 'PUR': 'Puerto Rico, Bolivia: Puerto Rico Airport',\n",
       " 'PUS': 'Busan, South Korea: Gimhae International',\n",
       " 'BAV': 'Baotou, China: Baotou Airport',\n",
       " 'NC9': 'Rockingham, NC: Richmond County',\n",
       " 'BAT': 'Barretos, Brazil: Chafei Amsei',\n",
       " 'BAU': 'Bauru, Brazil: Bauru-Arealva',\n",
       " 'BAR': 'Baker Island, AK: Baker AAF',\n",
       " 'BAQ': 'Barranquilla, Colombia: Ernesto Cortissoz',\n",
       " 'NC1': 'Gastonia, NC: Gastonia Municipal',\n",
       " 'NC2': 'Smithfield, NC: Johnston County',\n",
       " 'NC3': 'Shelby, NC: Shelby-Cleveland County Regional',\n",
       " 'BAZ': 'Barcelos, Brazil: Barcelos Airport',\n",
       " 'NC5': 'Kenansville, NC: Duplin County',\n",
       " 'NC6': 'Oxford, NC: Henderson Oxford',\n",
       " 'NC7': 'Beaufort, NC: Michael J. Smith Field',\n",
       " 'BAF': 'Westfield, MA: Westfield Barnes Regional',\n",
       " 'BAG': 'Baguio, Philippines: Baguio Airport',\n",
       " 'BAD': 'Shreveport, LA: Barksdale AFB',\n",
       " 'BAE': 'Barcelonnette, France: Barcelonnette Airport',\n",
       " 'A99': 'Eagle Creek, AK: Eagle Creek Airport',\n",
       " 'A98': 'Deadfall, AK: Deadfall Air Strip',\n",
       " 'BAA': 'Bialla, Papua New Guinea: Bialla Airport',\n",
       " 'A95': 'Barrow, AK: Ice Strip',\n",
       " 'A94': 'Barrow, AK: Ice Strip',\n",
       " 'A97': 'Akulik, AK: Akulik Air Strip',\n",
       " 'A96': 'Barrow, AK: Ice Strip',\n",
       " 'A91': 'Omalik Lagoon, AK: Omalik Lagoon Airport',\n",
       " 'A90': 'Shannon Pond, AK: Shannon Pond Airport',\n",
       " 'A93': 'Bradley Lake Project, AK: Bradley Lake Project Airport',\n",
       " 'A92': 'Omolik Lagoon, AK: Omolik Lagoon Airport',\n",
       " 'EQS': 'Esquel, Argentina: Esquel Airport',\n",
       " 'STD': 'Santo Domingo, Venezuela: Mayor Guerrero Vivas',\n",
       " 'STE': 'Stevens Point, WI: Stevens Point Municipal',\n",
       " 'STF': 'Starkville, MS: George M. Bryan',\n",
       " 'STG': 'St. George Island, AK: St. George Island Airport',\n",
       " 'STA': 'Stauning, Denmark: Stauning Airport',\n",
       " 'STB': 'Santa Barbara, Venezuela: Santa Barbara Airport',\n",
       " 'STC': 'St. Cloud, MN: St. Cloud Regional',\n",
       " 'STL': 'St. Louis, MO: Lambert-St. Louis International',\n",
       " 'STM': 'Santarem, Brazil: Eduardo Gomes',\n",
       " 'STN': 'London, United Kingdom: Stansted',\n",
       " 'STO': 'Stockholm, Sweden: Stockholm Metropolitan Area',\n",
       " 'STI': 'Santiago, Dominican Republic: Cibao International',\n",
       " 'STJ': 'St. Joseph, MO: Rosecrans Memorial',\n",
       " 'STK': 'Sterling, CO: Sterling Municipal',\n",
       " 'STT': 'Charlotte Amalie, VI: Cyril E King',\n",
       " 'STW': 'Stavropol, Russia: Shpakovskoye',\n",
       " 'STP': 'Minneapolis/St. Paul, MN: St. Paul Downtown Holman Field',\n",
       " 'STQ': 'St. Marys, PA: St. Marys Municipal',\n",
       " 'STR': 'Stuttgart, Germany: Stuttgart Airport',\n",
       " 'STS': 'Santa Rosa, CA: Charles M. Schulz - Sonoma County',\n",
       " 'STX': 'Christiansted, VI: Henry E. Rohlsen',\n",
       " 'STY': 'Salto, Uruguay: Nueva Hesperides International',\n",
       " 'STZ': 'Santa Terezinha, Brazil: Santa Terezinha Airport',\n",
       " 'NCY': 'Annecy, France: Annecy Meythet',\n",
       " 'TFN': 'Tenerife, Spain: Tenerife Norte',\n",
       " 'TFI': 'Tufi, Papua New Guinea: Tufi Airport',\n",
       " 'NCP': 'Subic Bay, Philippines: Cubi Point NAS',\n",
       " 'NCQ': 'Marietta, GA: Dobbins ARB',\n",
       " 'TFF': 'Tefe, Brazil: Tefe Airport',\n",
       " 'NCT': 'Nicoya, Costa Rica: Nicoya Airport',\n",
       " 'NCU': 'Nukus, Uzbekistan: Nukus Airport',\n",
       " 'NCH': 'Nachingwea, Tanzania: Nachingwea Airport',\n",
       " 'NCI': 'Necocli, Colombia: Necocli Airport',\n",
       " 'NCL': 'Newcastle, United Kingdom: Newcastle Airport',\n",
       " 'NCN': 'Chenega, AK: Chenega Bay',\n",
       " 'NCO': 'North Kingstown, RI: Quonset State Air Reserve National Guard Helipad',\n",
       " 'NCA': 'North Caicos, Turks and Caicos Islands: North Caicos International',\n",
       " 'NCE': \"Nice, France: Nice Cote d'Azur\",\n",
       " 'TFS': 'Tenerife, Spain: Tenerife Sur',\n",
       " 'TFR': 'Tarbes/Lourdes/Pyrenees, France: Tarbes-Lourdes-Pyrenees',\n",
       " 'LIE': 'Libenge, Congo (Kinshasa): Libenge Airport',\n",
       " 'FNT': 'Flint, MI: Bishop International',\n",
       " 'FNR': 'Funter Bay Alaska, AK: Funter Bay',\n",
       " 'LIB': 'Limbunya, Australia: Limbunya Airport',\n",
       " 'LIC': 'Limon, CO: Limon Municipal',\n",
       " 'LIL': 'Lille, France: Lille Lesquin',\n",
       " 'LIM': 'Lima, Peru: Jorge Chavez International',\n",
       " 'LIN': 'Milan, Italy: Milano Linate',\n",
       " 'LIO': 'Limon, Costa Rica: Puerto Limon',\n",
       " 'LIH': 'Lihue, HI: Lihue Airport',\n",
       " 'NEL': 'Lakehurst, NJ: Lakehurst/Maxfield Field',\n",
       " 'LIJ': 'Long Island, AK: Long Island Airport',\n",
       " 'LIK': 'Likiep Island, Marshall Islands: Likiep Island Airport',\n",
       " 'LIT': 'Little Rock, AR: Bill and Hillary Clinton Nat Adams Field',\n",
       " 'LIV': 'Livengood, AK: Livengood Airport',\n",
       " 'LIW': 'Loikaw, Burma: Loikaw Airport',\n",
       " 'FNC': 'Funchal, Portugal: Madeira',\n",
       " 'LIQ': 'Lisala, Congo (Kinshasa): Lisala Airport',\n",
       " 'FNA': 'Freetown, Sierra Leone: Freetown Lungi',\n",
       " 'LIS': 'Lisbon, Portugal: Lisboa',\n",
       " 'FNL': 'Fort Collins/Loveland, CO: Fort Collins-Loveland Municipal',\n",
       " 'FNJ': 'Pyongyang, North Korea: Pyongyang International',\n",
       " 'FNI': 'Nimes, France: Nimes Garons',\n",
       " 'QBT': 'Indian Creek, ID: Indian Creek Usfs',\n",
       " 'QBX': 'Abilene, KS: Abilene Airport',\n",
       " 'QBY': 'North Bass Island, OH: North Bass Island Airport',\n",
       " 'QBC': 'Bella Coola, Canada: Bella Coola Airport',\n",
       " 'QBH': 'Lathrop Wells, NV: Jackass Aeropark',\n",
       " 'QBI': 'Green River, UT: Oman Ranch',\n",
       " 'QBM': 'Put-In-Bay, OH: Put-In-Bay Airport',\n",
       " 'QBN': 'Middle Bass Island, OH: Middle Bass Island Airport',\n",
       " 'KAC': 'Kameshli, Syria: Kamishly',\n",
       " 'KAB': 'Kariba, Zimbabwe: Kariba International',\n",
       " 'KAA': 'Kasama, Zambia: Kasama Airport',\n",
       " 'KAG': 'Kangnung, South Korea: Kangung',\n",
       " 'KAE': 'Kake, AK: Kake Seaplane Base',\n",
       " 'KAD': 'Kaduna, Nigeria: Kaduna Airport',\n",
       " 'KAJ': 'Kajaani, Finland: Kajaani Airport',\n",
       " 'KAI': 'Kaieteur, Guyana: Kaieteur Airport',\n",
       " 'KAO': 'Kuusamo, Finland: Kuusamo Airport',\n",
       " 'KAN': 'Kano, Nigeria: Kano Mallam Aminu Kano',\n",
       " 'KAL': 'Kaltag, AK: Kaltag Airport',\n",
       " 'RHI': 'Rhinelander, WI: Rhinelander/Oneida County',\n",
       " 'KAR': 'Kamarang, Guyana: Kamarang Airport',\n",
       " 'KAW': 'Kawthaung, Burma: Kawthaung Airport',\n",
       " 'RHO': 'Rhodes, Greece: Diagoras',\n",
       " 'KAT': 'Kaitaia, New Zealand: Kaitaia Airport',\n",
       " '09A': 'Homer, AK: Augustin Island',\n",
       " 'RHE': 'Reims, France: Champagne',\n",
       " 'ACU': 'Achutupo, Panama: Achutupo Airport',\n",
       " 'HFN': 'Hofn, Iceland: Hornafjordur',\n",
       " 'HFA': 'Haifa, Israel: Haifa Airport',\n",
       " 'ACY': 'Atlantic City, NJ: Atlantic City International',\n",
       " 'HFE': 'Hefei, China: Xinqiao',\n",
       " 'OXV': 'Knoxville, IA: Knoxville Municipal',\n",
       " 'OXR': 'Oxnard/Ventura, CA: Oxnard',\n",
       " 'OXB': 'Bissau, Guinea-Bissau: Bissau Oswaldo Vieira International',\n",
       " 'OXC': 'Waterbury, CT: Waterbury Oxford',\n",
       " 'CZX': 'Changzhou, China: Benniu Danyang',\n",
       " 'CZS': 'Cruzeiro Do Sul, Brazil: Cruzeiro Do Sul Airport',\n",
       " 'CZP': 'Cape Pole, AK: Cape Pole Airport',\n",
       " 'CZW': 'Czestochowa, Poland: Rudniki',\n",
       " 'CZU': 'Corozal, Colombia: Las Brujas',\n",
       " 'CZH': 'Corozal, Belize: Corozal Airport',\n",
       " 'CZN': 'Chisana, AK: Chisana Airport',\n",
       " 'CZO': 'Chistochina, AK: Chistochina Airport',\n",
       " 'CZL': 'Constantine, Algeria: Constantine/Ain El Bey',\n",
       " 'CZM': 'Cozumel, Mexico: Cozumel International',\n",
       " 'CZB': 'Cruz Alta, Brazil: Cruz Alta Airport',\n",
       " 'CZC': 'Copper Center, AK: Copper Center 2',\n",
       " 'CZA': 'Chichen Itza, Mexico: Chichen Itza International',\n",
       " 'CZF': 'Cape Romanzof, AK: Cape Romanzof LRRS',\n",
       " 'CZE': 'Coro, Venezuela: Jose Leonardo Chirinos',\n",
       " 'ATE': 'Antlers, OK: Antlers Municipal',\n",
       " 'ATB': 'Atbara, Sudan: Atbara Airport',\n",
       " 'ATC': \"Arthur's Town, The Bahamas: Arthur's Town Airport\",\n",
       " 'ATA': 'Anta, Peru: Anta Huaraz',\n",
       " 'ATN': 'Namatanai, Papua New Guinea: Namatanai Airport',\n",
       " 'ATO': 'Athens, OH: Ohio University Snyder Field',\n",
       " 'ATL': 'Atlanta, GA: Hartsfield-Jackson Atlanta International',\n",
       " 'ATM': 'Altamira, Brazil: Altamira Airport',\n",
       " 'ATK': 'Atqasuk, AK: Atqasuk Edward Burnell Sr. Memorial',\n",
       " 'ATH': 'Athens, Greece: Eleftherios Venizelos International',\n",
       " 'ATI': 'Artigas, Uruguay: Artigas International',\n",
       " 'ATV': 'Ati, Chad: Ati Airport',\n",
       " 'ATW': 'Appleton, WI: Outagamie County Regional',\n",
       " 'ATT': 'Atmautluak, AK: Atmautluak Airport',\n",
       " 'ATU': 'Attu, AK: Casco Cove CGS',\n",
       " 'ATR': 'Atar, Mauritania: Atar Airport',\n",
       " 'ATS': 'Artesia, NM: Artesia Municipal',\n",
       " 'ATP': 'Aitape, Papua New Guinea: Aitape Airport',\n",
       " 'ATQ': 'Amritsar, India: Amritsar Airport',\n",
       " 'RGT': 'Rengat, Indonesia: Japura',\n",
       " 'ATZ': 'Assiut, Egypt: Assiut Airport',\n",
       " 'ATY': 'Watertown, SD: Watertown Regional',\n",
       " 'EMT': 'El Monte, CA: El Monte Airport',\n",
       " 'PNP': 'Popondetta, Papua New Guinea: Girua',\n",
       " 'PNR': 'Pointe Noire, Congo (Brazaville): Pointe Noire Airport',\n",
       " '7AK': 'Akun, AK: Akun Airport',\n",
       " 'PNA': 'Pamplona, Spain: Pamplona Airport',\n",
       " 'PNC': 'Ponca City, OK: Ponca City Regional',\n",
       " 'PNB': 'Porto Nacional, Brazil: Porto Nacional Airport',\n",
       " 'PNE': 'Philadelphia, PA: Northeast Philadelphia',\n",
       " 'PND': 'Punta Gorda, Belize: Punta Gorda Airport',\n",
       " 'PNF': \"Peterson's Point, AK: Peterson's Point Airport\",\n",
       " 'XIC': 'Xichang, China: Qingshan',\n",
       " 'GDQ': 'Gondar, Ethiopia: Gondar Airport',\n",
       " 'GDT': 'Grand Turk, Turks and Caicos Islands: JAGS McCartney International',\n",
       " 'YEK': 'Arviat, Canada: Arviat Airport',\n",
       " 'YEM': 'Manitowaning, Canada: Manitoulin East Municipal',\n",
       " 'GDV': 'Glendive, MT: Dawson Community',\n",
       " 'YEO': 'Yeovilton, United Kingdom: Yeovilton Airport',\n",
       " 'YEA': 'Edmonton, Canada: Edmonton Metropolitan Area',\n",
       " 'YEC': 'Yecheon, South Korea: Yecheon Airport',\n",
       " 'GDW': 'Gladwin, MI: Gladwin Zettel Memorial',\n",
       " 'YED': 'Edmonton, Canada: Edmonton Namao Heliport',\n",
       " 'YEG': 'Edmonton, Canada: Edmonton International',\n",
       " 'GDX': 'Magadan, Russia: Sokol',\n",
       " 'YER': 'Fort Severn, Canada: Fort Severn Airport',\n",
       " 'YEU': 'Eureka, Canada: Eureka Airport',\n",
       " 'YEV': 'Inuvik, Canada: Inuvik Airport',\n",
       " 'GDC': 'Greenville, SC: Donaldson Center',\n",
       " 'GDE': 'Gode, Ethiopia: Gode Airport',\n",
       " 'VGO': 'Vigo, Spain: Vigo Airport',\n",
       " 'PRG': 'Prague, Czech Republic: Ruzyne',\n",
       " 'VGC': 'Hamilton, NY: Hamilton Municipal',\n",
       " 'VGT': 'Las Vegas, NV: North Las Vegas',\n",
       " 'WWT': 'Newtok, AK: Newtok Airport',\n",
       " 'WWP': 'Whale Pass, AK: Whale Pass Airport',\n",
       " 'WWR': 'Woodward, OK: West Woodward',\n",
       " 'NE2': 'Blair, NE: Blair Municipal',\n",
       " 'GDM': 'Gardner, MA: Gardner Municipal',\n",
       " 'WWD': 'Cape May, NJ: Cape May County',\n",
       " 'WWA': 'Wasilla, AK: Wasilla Airport',\n",
       " 'WWK': 'Wewak, Papua New Guinea: Wewak International',\n",
       " 'FSC': 'Figari, France: Figari Sud Corse',\n",
       " 'FSD': 'Sioux Falls, SD: Joe Foss Field',\n",
       " 'FSI': 'Fort Sill, OK: Henry Post AAF',\n",
       " 'FSK': 'Fort Scott, KS: Fort Scott Municipal',\n",
       " 'FSM': 'Fort Smith, AR: Fort Smith Regional',\n",
       " 'FSP': 'St. Pierre, Saint Pierre and Miquelon: St. Pierre Airport',\n",
       " 'FSS': 'Forres, United Kingdom: RAF Kinloss',\n",
       " 'FST': 'Ft. Stockton, TX: Fort Stockton Pecos County',\n",
       " 'RU2': 'Ramenskoye, Russia: Ramenskoye Airport',\n",
       " 'RU3': 'Saratov, Russia: Engels AFB',\n",
       " 'FSZ': 'Shizuoka, Japan: Shizuoka Airport',\n",
       " 'RU1': 'Keperveyem, Russia: Keperveyem Airport',\n",
       " 'RU4': 'Moscow, Russia: Ostafyevo',\n",
       " 'PRV': 'Prerov, Czech Republic: Prerov Airport',\n",
       " 'ZTH': 'Zakinthos, Greece: Dionysios Solomos',\n",
       " 'ZTS': 'Tahsis, Canada: Tahsis Airport',\n",
       " 'RUH': 'Riyadh, Saudi Arabia: King Khalid International',\n",
       " 'RUI': 'Ruidoso, NM: Sierra Blanca Regional',\n",
       " 'RUN': 'Reunion Island, Reunion: La Reunion Roland Garros',\n",
       " 'PRY': 'Pretoria, South Africa: Wonderboom',\n",
       " 'JOM': 'Njombe, Tanzania: Njombe Airport',\n",
       " 'RUV': 'Rubelsanto, Guatemala: Rubelsanto Airport',\n",
       " 'RUT': 'Rutland, VT: Rutland - Southern Vermont Regional',\n",
       " 'DIL': 'Dili, Timor-Leste: Presidente Nicolau Lobato International',\n",
       " 'JHC': 'Garden City, NY: Island Heliport',\n",
       " 'DIO': 'Diomede Island, AK: Diomede Heliport',\n",
       " 'JHE': 'Helsingborg, Sweden: Helsingborg Heliport',\n",
       " 'DIJ': 'Dijon, France: Dijon Longvic',\n",
       " 'DIK': 'Dickinson, ND: Dickinson - Theodore Roosevelt Regional',\n",
       " 'DIE': 'Antsiranana, Madagascar: Arrachart',\n",
       " 'DIG': 'Shangri-La, China: Zhongdian',\n",
       " 'JHM': 'Kapalua, HI: Kapalua Airport',\n",
       " 'DIB': 'Dibrugarh, India: Dibrugarh Airport',\n",
       " 'JHS': 'Sisimiut, Greenland: Sisimiut Airport',\n",
       " 'DIY': 'Diyarbakir, Turkey: Diyarbakir Airport',\n",
       " 'JHW': 'Jamestown, NY: Chautauqua County/Jamestown',\n",
       " 'JHY': 'Cambridge, MA: Cambridge Airport',\n",
       " 'DIU': 'Diu, India: Diu Airport',\n",
       " 'DIV': \"Divo, Cote d'Ivoire: Divo Airport\",\n",
       " 'DIR': 'Dire Dawa, Ethiopia: Aba Tenna Dejazmatch Yilma',\n",
       " 'DIS': 'Dolisie, Congo (Brazaville): Dolisie Airport',\n",
       " 'UT1': 'Heber, UT: Heber City Municipal - Russ McDonald Field',\n",
       " 'UTB': 'Muttaburra, Australia: Muttaburra Airport',\n",
       " 'IRP': 'Isiro, Congo (Kinshasa): Isiro Airport',\n",
       " 'UTK': 'Utirik, Marshall Islands: Utirik Island',\n",
       " 'UTH': 'Udon Thani, Thailand: Udon Thani Airport',\n",
       " 'IRS': 'Sturgis, MI: Sturgis Airport',\n",
       " 'UTN': 'Upington, South Africa: Upington International',\n",
       " 'UTO': 'Utopia, AK: Indian Mountain LRRS',\n",
       " 'IRV': 'Bayou La Batre, AL: Roy E. Ray',\n",
       " 'UTM': 'Tunica, MS: Tunica Municipal',\n",
       " 'IRI': 'Iringa, Tanzania: Iringa Airport',\n",
       " 'IRJ': 'La Rioja, Argentina: Capitan Vicente A Almonacid',\n",
       " 'IRK': 'Kirksville, MO: Kirksville Regional',\n",
       " 'UTW': 'Queenstown, South Africa: Queenstown Airport',\n",
       " 'UTT': 'Mthatha, South Africa: Mthatha Airport',\n",
       " 'IRO': 'Birao, Central African Republic: Birao Airport',\n",
       " 'IRC': 'Circle, AK: Circle City',\n",
       " 'IRD': 'Ishurdi, Bangladesh: Ishurdi Airport',\n",
       " 'IRG': 'Iron Range, Australia: Iron Range Airport',\n",
       " 'PWT': 'Bremerton, WA: Bremerton National',\n",
       " 'PWR': 'Big Port Walter, AK: Big and Little Port Walter',\n",
       " 'PWE': 'Pevek, Russia: Pevek Airport',\n",
       " 'PWA': 'Oklahoma City, OK: Wiley Post',\n",
       " 'PWM': 'Portland, ME: Portland International Jetport',\n",
       " 'PWK': 'Chicago, IL: Chicago Executive',\n",
       " 'BOX': 'Borroloola, Australia: Borroloola Airport',\n",
       " 'HBL': 'Babelegi, South Africa: Babelegi Heliport',\n",
       " 'NAA': 'Narrabri, Australia: Narrabri Airport',\n",
       " 'HBI': 'Harbour Island, The Bahamas: Harbour Island Airport',\n",
       " 'HBH': 'Hobart Bay, AK: Hobart Bay Airport',\n",
       " 'NAD': 'North Adams, MA: Harriman-and-West',\n",
       " 'HBE': 'Alexandria, Egypt: Borg El Arab',\n",
       " 'BOQ': 'Boku, Papua New Guinea: Boku Airport',\n",
       " 'BOR': 'Belfort, France: Fontaine',\n",
       " 'BOS': 'Boston, MA: Logan International',\n",
       " 'NAN': 'Nadi, Fiji: Nadi International',\n",
       " 'NAO': 'Nanchong, China: Nanchong Airport',\n",
       " 'HBC': 'Hanus Bay, AK: Hanus Bay Airport',\n",
       " 'BOW': 'Bartow, FL: Bartow Municipal',\n",
       " 'BOH': 'Bournemouth, United Kingdom: Bournemouth Airport',\n",
       " 'BOI': 'Boise, ID: Boise Air Terminal',\n",
       " 'NAP': 'Naples, Italy: Capodichino',\n",
       " 'BOK': 'Brookings, OR: Brookings Airport',\n",
       " 'HBY': 'Hood Bay, AK: Hood Bay Airport',\n",
       " 'BOM': 'Mumbai, India: Chhatrapati Shivaji International',\n",
       " 'NAT': 'Natal, Brazil: Augusto Severo International',\n",
       " 'BOO': 'Bodo, Norway: Bodo Airport',\n",
       " 'NAZ': 'Star Harbour, Solomon Islands: Nana',\n",
       " 'BOA': 'Boma, Congo (Kinshasa): Boma Airport',\n",
       " 'BOB': 'Bora Bora, French Polynesia: Bora Bora Motu Mute',\n",
       " 'BOC': 'Bocas del Toro, Panama: Bocas del Toro International',\n",
       " 'BOD': 'Bordeaux, France: Bordeaux Merignac',\n",
       " 'BOG': 'Bogota, Colombia: El Dorado International',\n",
       " 'ILN': 'Wilmington, OH: Wilmington Air Park',\n",
       " 'PEU': 'Puerto Lempira, Honduras: Puerto Lempira Airport',\n",
       " 'SVN': 'Savannah, GA: Hunter AAF',\n",
       " 'SVO': 'Moscow, Russia: Sheremetyevo',\n",
       " 'SVL': 'Savonlinna, Finland: Savonlinna Airport',\n",
       " 'ILM': 'Wilmington, NC: Wilmington International',\n",
       " 'SVJ': 'Svolvaer, Norway: Helle',\n",
       " 'SVH': 'Statesville, NC: Statesville Regional',\n",
       " 'SVG': 'Stavanger, Norway: Sola',\n",
       " 'SVD': 'St. Vincent, Saint Vincent and the Grenadines: E. T. Joshua',\n",
       " 'SVB': 'Sambava, Madagascar: Sambava Airport',\n",
       " 'SVC': 'Silver City/Hurley, NM: Grant County',\n",
       " 'SVA': 'Savoonga, AK: Savoonga Airport',\n",
       " 'SVZ': 'San Antonio, Venezuela: San Antonio del Tachira',\n",
       " 'SVX': 'Ekaterinburg, Russia: Koltsovo',\n",
       " 'SVW': 'Sparrevohn, AK: Sparrevohn LRRS',\n",
       " 'SVU': 'Savusavu, Fiji: Savusavu Airport',\n",
       " 'SVS': 'Stevens Village, AK: Stevens Village Airport',\n",
       " 'SVP': 'Kuito, Angola: Kuito Airport',\n",
       " 'SVQ': 'Seville, Spain: Seville Airport',\n",
       " 'GXF': 'Sayun, Yemen: Sayun International',\n",
       " 'GXH': 'Mildenhall, United Kingdom: Mildenhall NAF',\n",
       " 'PEN': 'Bayan Lepas, Malaysia: Penang International',\n",
       " 'GXQ': 'Coyhaique, Chile: Teniente Vidal',\n",
       " 'ILR': 'Ilorin, Nigeria: Ilorin Airport',\n",
       " 'GXX': 'Yagoua, Cameroon: Yagoua Ville',\n",
       " 'PEI': 'Pereira, Colombia: Matecana',\n",
       " 'LKN': 'Leknes, Norway: Leknes Airport',\n",
       " 'FLX': 'Fallon, NV: Fallon Municipal',\n",
       " 'LKL': 'Lakselv, Norway: Banak',\n",
       " 'LKM': 'Nekempte, Ethiopia: Nekempte Airport',\n",
       " 'LKK': 'Kulik Lake, AK: Kulik Lake Airport',\n",
       " 'FLS': 'Flinders Island, Australia: Flinders Island Airport',\n",
       " 'FLR': 'Florence, Italy: Firenze',\n",
       " 'FLU': 'New York, NY: Flushing',\n",
       " 'FLT': 'Flat, AK: Flat Airport',\n",
       " 'FLW': 'Santa Cruz das Flores, Portugal: Flores',\n",
       " 'FLV': 'Leavenworth, KS: Sherman AAF',\n",
       " 'FLJ': 'Falls Bay, AK: Falls Bay Airport',\n",
       " 'LKZ': 'Lakenheath, United Kingdom: RAF Lakenheath',\n",
       " 'FLL': 'Fort Lauderdale, FL: Fort Lauderdale-Hollywood International',\n",
       " 'FLO': 'Florence, SC: Florence Regional',\n",
       " 'COH': 'Cooch Behar, India: Cooch Behar Airport',\n",
       " 'FLA': 'Florencia, Colombia: Gustavo Artunduaga Paredes',\n",
       " 'FLB': 'Floriano, Brazil: Floriano Airport',\n",
       " 'FLD': 'Fond Du Lac, WI: Fond Du Lac County',\n",
       " 'FLG': 'Flagstaff, AZ: Flagstaff Pulliam',\n",
       " 'FLF': 'Flensburg, Germany: Flensburg Schaferhaus',\n",
       " 'PEG': 'Perugia, Italy: Perugia Airport',\n",
       " 'ILZ': 'Zilina, Slovakia: Zilina International',\n",
       " 'PEA': 'Penneshaw, Australia: Penneshaw Airport',\n",
       " 'CON': 'Concord, NH: Concord Municipal',\n",
       " 'KCE': 'Collinsville, Australia: Collinsville Airport',\n",
       " 'KCG': 'Chignik Bay, AK: Chignik Bay Airport',\n",
       " 'KCA': 'Kuqa, China: Kuche',\n",
       " 'KCC': 'Coffman Cove, AK: Coffman Cove Seaplane Base',\n",
       " 'FL1': 'Zephyrhills, FL: Zephyrhills Municipal',\n",
       " 'KCL': 'Chignik Lagoon, AK: Chignik Lagoon Airport',\n",
       " 'FL3': 'Chipley, FL: Vosikas',\n",
       " 'FL2': 'Valkaria, FL: Valkaria Airport',\n",
       " 'FL5': 'Williston, FL: Williston Municipal',\n",
       " 'FL4': 'Bunnell, FL: Flagler County',\n",
       " 'KCK': 'Kansas City, KS: Fairfax Municipal',\n",
       " 'FL6': 'Clewiston, FL: Airglades',\n",
       " 'KCQ': 'Chignik, AK: Chignik Lake',\n",
       " 'KCR': 'Colorado Creek, AK: Colorado Creek Airport',\n",
       " 'KCZ': 'Kochi, Japan: Kochi Airport',\n",
       " 'OZC': 'Ozamis City, Philippines: Misamis',\n",
       " 'OZA': 'Ozona, TX: Ozona Municipal',\n",
       " 'OZH': 'Zaporozhye, Ukraine: Mokraya International',\n",
       " 'OZR': 'Ozark, AL: Cairns AAF',\n",
       " 'OZP': 'Moron, Spain: Moron AB',\n",
       " 'AZI': 'Abu Dhabi, United Arab Emirates: Al Bateen Executive',\n",
       " 'KGZ': 'Glacier Creek, AK: Glacier Creek Airport',\n",
       " 'AZO': 'Kalamazoo, MI: Kalamazoo/Battle Creek International',\n",
       " 'AZA': 'Phoenix, AZ: Phoenix - Mesa Gateway',\n",
       " 'AZD': 'Yazd, Iran: Shahid Sadooghi',\n",
       " 'AZG': 'Apatzingan, Mexico: Pablo L. Sidar',\n",
       " 'AZS': 'Samana, Dominican Republic: El Catey International',\n",
       " 'TKG': 'Bandar Lampung, Indonesia: Branti',\n",
       " 'TKD': 'Takoradi, Ghana: Takoradi Airport',\n",
       " 'AZ1': 'Grand Canyon, AZ: Valle',\n",
       " 'AZ2': 'Williams, AZ: H. A. Clark Memorial Field',\n",
       " 'AZ3': 'Glendale, AZ: Glendale Municipal',\n",
       " 'AZ4': 'Salome, AZ: Sheepy Hollow Ranch',\n",
       " 'AZ5': 'Springerville, AZ: Springerville Municipal',\n",
       " 'AZ6': 'Gila Bend, AZ: Gila Bend Municipal',\n",
       " 'TKK': 'Chuuk, Federated States of Micronesia: Chuuk International',\n",
       " 'TKI': 'Tokeen, AK: Tokeen Airport',\n",
       " 'TKT': 'Tak, Thailand: Tak Airport',\n",
       " 'TKU': 'Turku, Finland: Turku Airport',\n",
       " 'TKS': 'Tokushima, Japan: Tokushima Airport',\n",
       " 'HME': 'Hassi Messaoud, Algeria: Oued Irara Krim Belkacem',\n",
       " 'UFA': 'Ufa, Russia: Ufa Airport',\n",
       " 'DLS': 'The Dalles, OR: Columbia Gorge Regional/The Dalles Municipal',\n",
       " 'GNR': 'General Roca, Argentina: General Roca Airport',\n",
       " 'DLU': 'Dali City, China: Xiaguan',\n",
       " 'TK1': 'Ankara, Turkey: Akinci',\n",
       " 'AIY': 'Atlantic City, NJ: Bader Field',\n",
       " 'MKA': 'Marianske Lazne, Czech Republic: Marianske Lazne Airport',\n",
       " 'GNU': 'Goodnews Bay, AK: Goodnews',\n",
       " 'VER': 'Veracruz, Mexico: General Heriberto Jara International',\n",
       " 'VEY': 'Vestmannaeyjar, Iceland: Vestmannaeyjar Airport',\n",
       " 'VEE': 'Venetie, AK: Venetie Airport',\n",
       " 'VEO': 'Versailles, MO: Roy Otten Memorial Airfield',\n",
       " 'VEL': 'Vernal, UT: Vernal Regional',\n",
       " 'MKW': 'Manokwari, Indonesia: Rendani',\n",
       " 'WQZ': 'Chignik Lake, AK: Chignik Lake Airport',\n",
       " 'WQY': 'Port Wakefield, AK: Port Wakefield Airport',\n",
       " 'WQX': 'Kiavak, AK: Kiavak Airport',\n",
       " 'WQW': 'David River, AK: David River Airport',\n",
       " 'WQU': 'Portales, NM: Portales Municipal',\n",
       " 'WQT': 'Bridger, MT: Bridger Municipal',\n",
       " 'WQS': 'Poplar, MT: Poplar Municipal',\n",
       " 'WQR': 'Naknek, AK: Tibbetts',\n",
       " 'WQQ': 'Fairburn, SD: Custer State Park',\n",
       " 'WQP': 'Oceano, CA: Oceano County',\n",
       " 'WQO': 'Rosamond, CA: Rosamond Skypark',\n",
       " 'WQN': 'Campbellsville, KY: Taylor County',\n",
       " 'WQM': 'Lake Charles, LA: Chennault Industrial Airpark',\n",
       " 'GNA': 'Hrodna, Belarus: Hrodna Airport',\n",
       " 'WQK': 'Townsend, MT: Townsend Airport',\n",
       " 'WQJ': 'Peard Bay, AK: Peard Bay Airport',\n",
       " 'WQI': 'Connell, WA: Connell City',\n",
       " 'WQH': 'Dorris, CA: Butte Valley',\n",
       " 'WQG': 'Hesperia, CA: Hesperia Airport',\n",
       " 'WQF': 'Rigby, ID: Rigby Airport',\n",
       " 'WQE': 'Dinsmore, CA: Dinsmore Airport',\n",
       " 'WQD': 'Tulelake, CA: Tulelake Municipal',\n",
       " 'WQC': 'Hamilton, MT: Ravalli County',\n",
       " 'WQB': 'Mandan, ND: Mandan Municipal',\n",
       " 'WQA': 'Ovid, NY: Ovid Airport',\n",
       " 'FQJ': 'Greens Creek, AK: Greens Creek Airport',\n",
       " 'FQK': 'Gull Cove, AK: Gull Cove Airport',\n",
       " 'FQH': 'Fire Island, AK: Fire Island Airport',\n",
       " 'FQI': 'Scott, KY: Georgetown Scott County - Marshall Field',\n",
       " 'FQN': 'Karta Lake, AK: Karta Lake Airport',\n",
       " 'FQO': 'Manzanita Lake, AK: Manzanita Lake Airport',\n",
       " 'FQL': 'Flora, IL: Flora Municipal',\n",
       " 'WRG': 'Wrangell, AK: Wrangell Airport',\n",
       " 'FQB': 'Ventura, CA: San Nicolas Island NOLF',\n",
       " 'FQC': 'Kodiak, AK: Lilly Lake',\n",
       " 'FQA': 'Patching Lake, AK: Patching Lake Airport',\n",
       " 'FQF': 'Davidson Creek, AK: Davidson Creek Airport',\n",
       " 'FQG': 'Snettisham, AK: Snettisham Airport',\n",
       " 'FQD': 'Katmai National Park, AK: Trident Volcano',\n",
       " 'FQE': 'Annex Creek, AK: Annex Creek Airport',\n",
       " 'FQX': 'Babe Islands, AK: Babe Islands Airport',\n",
       " 'FQY': 'Kahli Cove, AK: Kahli Cove Airport',\n",
       " 'FQR': 'Josephine Lake, AK: Josephine Lake Airport',\n",
       " 'FQP': 'Shrimp Bay, AK: Shrimp Bay Airport',\n",
       " 'FQQ': 'Dry Bay, AK: Dry Bay Airport',\n",
       " 'FQV': 'Volcano Bay, AK: Volcano Bay Airport',\n",
       " 'FQW': 'Fort Glenn, AK: Fort Glenn Airport',\n",
       " 'FQU': 'Libby, MT: Libby Airport',\n",
       " 'SSL': 'Santa Rosalia, Colombia: Santa Rosalia Airport',\n",
       " 'PDX': 'Portland, OR: Portland International',\n",
       " 'WRO': 'Wroclaw, Poland: Strachowice',\n",
       " 'ZRH': 'Zurich, Switzerland: Zurich Airport',\n",
       " 'RSL': 'Russell, KS: Russell Municipal',\n",
       " 'RSN': 'Ruston, LA: Ruston Regional',\n",
       " 'RSH': 'Russian Mission, AK: Russian Mission Airport',\n",
       " 'RSJ': 'Rosario, WA: Rosario Seaplane Base',\n",
       " 'RSD': 'Rock Sound, The Bahamas: Rock Sound Airport',\n",
       " 'RSA': 'Santa Rosa, Argentina: Santa Rosa Airport',\n",
       " 'RSC': 'Skulte, U.S.S.R.: Skulte Airport',\n",
       " 'RST': 'Rochester, MN: Rochester International',\n",
       " 'RSU': 'Yosu, South Korea: Yeosu',\n",
       " 'RSW': 'Fort Myers, FL: Southwest Florida International',\n",
       " ...}"
      ]
     },
     "execution_count": 53,
     "metadata": {},
     "output_type": "execute_result"
    }
   ],
   "source": [
    "airportLookup"
   ]
  },
  {
   "cell_type": "code",
   "execution_count": 64,
   "metadata": {
    "collapsed": false
   },
   "outputs": [
    {
     "data": {
      "text/plain": [
       "dict"
      ]
     },
     "execution_count": 64,
     "metadata": {},
     "output_type": "execute_result"
    }
   ],
   "source": [
    "type(airportLookup)"
   ]
  },
  {
   "cell_type": "code",
   "execution_count": 54,
   "metadata": {
    "collapsed": false
   },
   "outputs": [
    {
     "data": {
      "text/plain": [
       "[('New York, NY: John F. Kennedy International', 6.997397769516729),\n",
       " ('Miami, FL: Miami International', 3.820501853435985),\n",
       " ('Lihue, HI: Lihue Airport', -0.9607623318385651),\n",
       " ('Little Rock, AR: Bill and Hillary Clinton Nat Adams Field',\n",
       "  9.96943972835314),\n",
       " ('Charlotte, NC: Charlotte Douglas International', 8.066368381804624),\n",
       " ('Bangor, ME: Bangor International', 1.2528735632183907),\n",
       " ('Yuma, AZ: Yuma MCAS/Yuma International', 3.644268774703557),\n",
       " ('Durango, CO: Durango La Plata County', 8.765060240963855),\n",
       " ('Paducah, KY: Barkley Regional', 14.64406779661017),\n",
       " ('Sioux Falls, SD: Joe Foss Field', 8.149056603773586)]"
      ]
     },
     "execution_count": 54,
     "metadata": {},
     "output_type": "execute_result"
    }
   ],
   "source": [
    "# Now we replace the airport code by the airport description\n",
    "# Lookup the airport name for all the airport codes\n",
    "# in the lambda function, x represents each record which is a tuple (airpor_code, average_delay)\n",
    "# Spark distributes this lambda funtion through all the nodes. This functions uses the airportLookup variable\n",
    "# it wil carry it's own copy of this variable to each node\n",
    "# This kind of functions that has a reference within themselves are called \"enclosure functions\"\n",
    "# This functions has a tremendous abstaraction power but they have a big network consume if we needed frequently\n",
    "# ... the solution is \"broadcast\" it\n",
    "\n",
    "airportAvgDelay.map(lambda x: (airportLookup[x[0]],x[1])).take(10)"
   ]
  },
  {
   "cell_type": "markdown",
   "metadata": {},
   "source": [
    "### Using broadcast\n",
    "This is much more eficient because the broadcast variable is cached in the memory of every node and they carry data within themselves"
   ]
  },
  {
   "cell_type": "code",
   "execution_count": 55,
   "metadata": {
    "collapsed": true
   },
   "outputs": [],
   "source": [
    "# Broadcast Variable\n",
    "# With this instruction you are caching the variable through all nodes\n",
    "# They have three characteristics: immutable, distributes, and in memory\n",
    "\n",
    "airportBC = sc.broadcast(airportLookup)"
   ]
  },
  {
   "cell_type": "code",
   "execution_count": 59,
   "metadata": {
    "collapsed": false
   },
   "outputs": [
    {
     "data": {
      "text/plain": [
       "[('Pago Pago, TT: Pago Pago International', 56.25),\n",
       " ('Eagle, CO: Eagle County Regional', 32.0),\n",
       " ('North Bend/Coos Bay, OR: Southwest Oregon Regional', 24.533333333333335),\n",
       " ('Laramie, WY: Laramie Regional', 18.892857142857142),\n",
       " ('Redding, CA: Redding Municipal', 18.55294117647059),\n",
       " ('Montrose/Delta, CO: Montrose Regional', 18.363636363636363),\n",
       " ('Pueblo, CO: Pueblo Memorial', 17.54),\n",
       " ('Newark, NJ: Newark Liberty International', 16.478549005929544),\n",
       " ('Chico, CA: Chico Municipal', 15.931034482758621),\n",
       " ('Rochester, MN: Rochester International', 15.6993006993007)]"
      ]
     },
     "execution_count": 59,
     "metadata": {},
     "output_type": "execute_result"
    }
   ],
   "source": [
    "airportAvgDelay.map(lambda x: (airportBC.value[x[0]],x[1])).sortBy(lambda x:-x[1]).take(10)"
   ]
  },
  {
   "cell_type": "code",
   "execution_count": null,
   "metadata": {
    "collapsed": true
   },
   "outputs": [],
   "source": []
  }
 ],
 "metadata": {
  "kernelspec": {
   "display_name": "Python 2",
   "language": "python",
   "name": "python2"
  },
  "language_info": {
   "codemirror_mode": {
    "name": "ipython",
    "version": 2
   },
   "file_extension": ".py",
   "mimetype": "text/x-python",
   "name": "python",
   "nbconvert_exporter": "python",
   "pygments_lexer": "ipython2",
   "version": "2.7.12"
  }
 },
 "nbformat": 4,
 "nbformat_minor": 0
}
