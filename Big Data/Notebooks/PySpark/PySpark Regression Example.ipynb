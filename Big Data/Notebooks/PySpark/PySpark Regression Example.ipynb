{
 "cells": [
  {
   "cell_type": "code",
   "execution_count": 1,
   "metadata": {
    "collapsed": false
   },
   "outputs": [],
   "source": [
    "import os\n",
    "os.environ['PYSPARK_PYTHON'] = '/opt/conda/envs/python2/bin/python'\n",
    "import pyspark\n",
    "sc = pyspark.SparkContext(\"local\")\n",
    "\n",
    "# do something to prove it works\n",
    "#rdd = sc.parallelize(range(1000))\n",
    "#rdd.takeSample(False, 5)"
   ]
  },
  {
   "cell_type": "code",
   "execution_count": 15,
   "metadata": {
    "collapsed": false
   },
   "outputs": [
    {
     "data": {
      "text/plain": [
       "True"
      ]
     },
     "execution_count": 15,
     "metadata": {},
     "output_type": "execute_result"
    }
   ],
   "source": [
    "#Formatear un CSV a DataFrame\n",
    "\n",
    "#Librerias necesarias\n",
    "from pyspark.sql.types import *\n",
    "from pyspark.sql import Row, SQLContext\n",
    "\n",
    "#Cargar de un archivo csv un Resilient Distributed Dataset\n",
    "rdd = sc.textFile('Sacramentorealestatetransactions.csv')\n",
    "hasattr(rdd, \"toDF\")\n",
    "\n",
    "sqlContext = SQLContext(sc) # or HiveContext\n",
    "hasattr(rdd, \"toDF\")"
   ]
  },
  {
   "cell_type": "code",
   "execution_count": 16,
   "metadata": {
    "collapsed": false
   },
   "outputs": [],
   "source": [
    "#Muestra las primeras 5 lineas\n",
    "rdd.take(5)\n",
    "\n",
    "#Separa por coma cada linea. Operacion LAZY\n",
    "rdd = rdd.map(lambda line: line.split(\",\"))"
   ]
  },
  {
   "cell_type": "code",
   "execution_count": 17,
   "metadata": {
    "collapsed": false
   },
   "outputs": [
    {
     "data": {
      "text/plain": [
       "[[u'street',\n",
       "  u'city',\n",
       "  u'zip',\n",
       "  u'state',\n",
       "  u'beds',\n",
       "  u'baths',\n",
       "  u'sq__ft',\n",
       "  u'type',\n",
       "  u'sale_date',\n",
       "  u'price',\n",
       "  u'latitude',\n",
       "  u'longitude'],\n",
       " [u'3526 HIGH ST',\n",
       "  u'SACRAMENTO',\n",
       "  u'95838',\n",
       "  u'CA',\n",
       "  u'2',\n",
       "  u'1',\n",
       "  u'836',\n",
       "  u'Residential',\n",
       "  u'Wed May 21 00:00:00 EDT 2008',\n",
       "  u'59222',\n",
       "  u'38.631913',\n",
       "  u'-121.434879']]"
      ]
     },
     "execution_count": 17,
     "metadata": {},
     "output_type": "execute_result"
    }
   ],
   "source": [
    "#Muestra los primeros 2 vectores\n",
    "rdd.take(2)"
   ]
  },
  {
   "cell_type": "code",
   "execution_count": 18,
   "metadata": {
    "collapsed": false
   },
   "outputs": [
    {
     "name": "stdout",
     "output_type": "stream",
     "text": [
      "+-----+----+--------------+------+----+--------------------+-----+\n",
      "|baths|beds|          city| price|sqft|              street|  zip|\n",
      "+-----+----+--------------+------+----+--------------------+-----+\n",
      "|    1|   2|    SACRAMENTO| 59222| 836|        3526 HIGH ST|95838|\n",
      "|    1|   3|    SACRAMENTO| 68212|1167|         51 OMAHA CT|95823|\n",
      "|    1|   2|    SACRAMENTO| 68880| 796|      2796 BRANCH ST|95815|\n",
      "|    1|   2|    SACRAMENTO| 69307| 852|    2805 JANETTE WAY|95815|\n",
      "|    1|   2|    SACRAMENTO| 81900| 797|     6001 MCMAHON DR|95824|\n",
      "|    1|   3|    SACRAMENTO| 89921|1122|  5828 PEPPERMILL CT|95841|\n",
      "|    2|   3|    SACRAMENTO| 90895|1104| 6048 OGDEN NASH WAY|95842|\n",
      "|    1|   3|    SACRAMENTO| 91002|1177|       2561 19TH AVE|95820|\n",
      "|    2|   2|RANCHO CORDOVA| 94905| 941|11150 TRINITY RIV...|95670|\n",
      "|    2|   3|     RIO LINDA| 98937|1146|        7325 10TH ST|95673|\n",
      "|    2|   3|    SACRAMENTO|100309| 909|    645 MORRISON AVE|95838|\n",
      "|    2|   3|    SACRAMENTO|106250|1289|       4085 FAWN CIR|95823|\n",
      "|    1|   1|    SACRAMENTO|106852| 871|     2930 LA ROSA RD|95815|\n",
      "|    1|   3|    SACRAMENTO|107502|1020|       2113 KIRK WAY|95822|\n",
      "|    2|   2|    SACRAMENTO|108750|1022| 4533 LOCH HAVEN WAY|95842|\n",
      "|    2|   2|    SACRAMENTO|110700|1134|      7340 HAMDEN PL|95842|\n",
      "|    1|   2|     RIO LINDA|113263| 844|         6715 6TH ST|95673|\n",
      "|    1|   2|CITRUS HEIGHTS|116250| 795|6236 LONGFORD DR ...|95621|\n",
      "|    1|   2|    SACRAMENTO|120000| 588|     250 PERALTA AVE|95833|\n",
      "|    2|   3|     RIO LINDA|121630|1356|     113 LEEWILL AVE|95673|\n",
      "+-----+----+--------------+------+----+--------------------+-----+\n",
      "only showing top 20 rows\n",
      "\n"
     ]
    }
   ],
   "source": [
    "#Se guarda la primera linea del archivo (Descripcion de los campos)\n",
    "first_line=rdd.first()\n",
    "\n",
    "#Filtra la primera linea del rdd\n",
    "rdd = rdd.filter(lambda line:line != first_line)\n",
    "\n",
    "#Genera un DataFrame  y nombre las distintas columnas\n",
    "df = rdd.map(lambda line: Row(street = line[0], city = line[1], zip=line[2], beds=int(line[4]), baths=int(line[5]), sqft=int(line[6]), price=int(line[9]))).toDF()\n",
    "\n",
    "#Muestra el DataFrame\n",
    "df.show()"
   ]
  },
  {
   "cell_type": "code",
   "execution_count": 19,
   "metadata": {
    "collapsed": false
   },
   "outputs": [
    {
     "data": {
      "text/html": [
       "<div>\n",
       "<table border=\"1\" class=\"dataframe\">\n",
       "  <thead>\n",
       "    <tr style=\"text-align: right;\">\n",
       "      <th></th>\n",
       "      <th>baths</th>\n",
       "      <th>beds</th>\n",
       "      <th>city</th>\n",
       "      <th>price</th>\n",
       "      <th>sqft</th>\n",
       "      <th>street</th>\n",
       "      <th>zip</th>\n",
       "    </tr>\n",
       "  </thead>\n",
       "  <tbody>\n",
       "    <tr>\n",
       "      <th>0</th>\n",
       "      <td>1</td>\n",
       "      <td>2</td>\n",
       "      <td>SACRAMENTO</td>\n",
       "      <td>59222</td>\n",
       "      <td>836</td>\n",
       "      <td>3526 HIGH ST</td>\n",
       "      <td>95838</td>\n",
       "    </tr>\n",
       "    <tr>\n",
       "      <th>1</th>\n",
       "      <td>1</td>\n",
       "      <td>3</td>\n",
       "      <td>SACRAMENTO</td>\n",
       "      <td>68212</td>\n",
       "      <td>1167</td>\n",
       "      <td>51 OMAHA CT</td>\n",
       "      <td>95823</td>\n",
       "    </tr>\n",
       "    <tr>\n",
       "      <th>2</th>\n",
       "      <td>1</td>\n",
       "      <td>2</td>\n",
       "      <td>SACRAMENTO</td>\n",
       "      <td>68880</td>\n",
       "      <td>796</td>\n",
       "      <td>2796 BRANCH ST</td>\n",
       "      <td>95815</td>\n",
       "    </tr>\n",
       "    <tr>\n",
       "      <th>3</th>\n",
       "      <td>1</td>\n",
       "      <td>2</td>\n",
       "      <td>SACRAMENTO</td>\n",
       "      <td>69307</td>\n",
       "      <td>852</td>\n",
       "      <td>2805 JANETTE WAY</td>\n",
       "      <td>95815</td>\n",
       "    </tr>\n",
       "    <tr>\n",
       "      <th>4</th>\n",
       "      <td>1</td>\n",
       "      <td>2</td>\n",
       "      <td>SACRAMENTO</td>\n",
       "      <td>81900</td>\n",
       "      <td>797</td>\n",
       "      <td>6001 MCMAHON DR</td>\n",
       "      <td>95824</td>\n",
       "    </tr>\n",
       "  </tbody>\n",
       "</table>\n",
       "</div>"
      ],
      "text/plain": [
       "   baths  beds        city  price  sqft            street    zip\n",
       "0      1     2  SACRAMENTO  59222   836      3526 HIGH ST  95838\n",
       "1      1     3  SACRAMENTO  68212  1167       51 OMAHA CT  95823\n",
       "2      1     2  SACRAMENTO  68880   796    2796 BRANCH ST  95815\n",
       "3      1     2  SACRAMENTO  69307   852  2805 JANETTE WAY  95815\n",
       "4      1     2  SACRAMENTO  81900   797   6001 MCMAHON DR  95824"
      ]
     },
     "execution_count": 19,
     "metadata": {},
     "output_type": "execute_result"
    }
   ],
   "source": [
    "#Se puede transformar a Libreria Pandas\n",
    "df.toPandas().head()\n",
    "\n",
    "\n",
    "\n"
   ]
  },
  {
   "cell_type": "code",
   "execution_count": 20,
   "metadata": {
    "collapsed": false
   },
   "outputs": [
    {
     "name": "stdout",
     "output_type": "stream",
     "text": [
      "+-----+----+----------+------+----+----------------+-----+\n",
      "|baths|beds|      city| price|sqft|          street|  zip|\n",
      "+-----+----+----------+------+----+----------------+-----+\n",
      "|    1|   2|SACRAMENTO| 68880| 796|  2796 BRANCH ST|95815|\n",
      "|    1|   2|SACRAMENTO| 69307| 852|2805 JANETTE WAY|95815|\n",
      "|    1|   1|SACRAMENTO|106852| 871| 2930 LA ROSA RD|95815|\n",
      "|    1|   2|SACRAMENTO| 78000| 800|    3132 CLAY ST|95815|\n",
      "|    2|   4|SACRAMENTO| 89000|1316| 483 ARCADE BLVD|95815|\n",
      "+-----+----+----------+------+----+----------------+-----+\n",
      "only showing top 5 rows\n",
      "\n"
     ]
    }
   ],
   "source": [
    "#Se genera una sub_tabla donde se filtra por zip\n",
    "favorite_zip = df[df.zip == 95815]\n",
    "\n",
    "#Se muestran las primeras 5 entradas\n",
    "favorite_zip.show(5)\n",
    "\n"
   ]
  },
  {
   "cell_type": "code",
   "execution_count": 21,
   "metadata": {
    "collapsed": false
   },
   "outputs": [
    {
     "name": "stdout",
     "output_type": "stream",
     "text": [
      "+--------------+----+\n",
      "|          city|beds|\n",
      "+--------------+----+\n",
      "|    SACRAMENTO|   2|\n",
      "|    SACRAMENTO|   3|\n",
      "|    SACRAMENTO|   2|\n",
      "|    SACRAMENTO|   2|\n",
      "|    SACRAMENTO|   2|\n",
      "|    SACRAMENTO|   3|\n",
      "|    SACRAMENTO|   3|\n",
      "|    SACRAMENTO|   3|\n",
      "|RANCHO CORDOVA|   2|\n",
      "|     RIO LINDA|   3|\n",
      "+--------------+----+\n",
      "only showing top 10 rows\n",
      "\n"
     ]
    }
   ],
   "source": [
    "#Se seleccionan esas 2 columnas y se muestran las primeras 10\n",
    "df.select('city','beds').show(10)\n",
    "\n"
   ]
  },
  {
   "cell_type": "code",
   "execution_count": 22,
   "metadata": {
    "collapsed": false
   },
   "outputs": [
    {
     "name": "stdout",
     "output_type": "stream",
     "text": [
      "+----+-----+\n",
      "|beds|count|\n",
      "+----+-----+\n",
      "|   0|  108|\n",
      "|   6|    3|\n",
      "|   5|   59|\n",
      "|   1|   10|\n",
      "|   3|  413|\n",
      "|   8|    1|\n",
      "|   2|  133|\n",
      "|   4|  258|\n",
      "+----+-----+\n",
      "\n"
     ]
    }
   ],
   "source": [
    "#Se agrupa por cama y se cuenta cuantas entradas hay por grupo.\n",
    "df.groupBy(\"beds\").count().show()\n",
    "\n"
   ]
  },
  {
   "cell_type": "code",
   "execution_count": 23,
   "metadata": {
    "collapsed": false
   },
   "outputs": [
    {
     "name": "stdout",
     "output_type": "stream",
     "text": [
      "+-------+------------------+------------------+------------------+------------------+\n",
      "|summary|             baths|              beds|             price|              sqft|\n",
      "+-------+------------------+------------------+------------------+------------------+\n",
      "|  count|               985|               985|               985|               985|\n",
      "|   mean|1.7766497461928934|2.9116751269035532|234144.26395939087|1314.9167512690356|\n",
      "| stddev|0.8953714223186463|1.3079322320435807|138365.83908492787| 853.0482425034448|\n",
      "|    min|                 0|                 0|              1551|                 0|\n",
      "|    max|                 5|                 8|            884790|              5822|\n",
      "+-------+------------------+------------------+------------------+------------------+\n",
      "\n"
     ]
    }
   ],
   "source": [
    "#Se muestran algunos indicacores estadisticos de esos 4 campos\n",
    "df.describe(['baths', 'beds','price','sqft']).show()"
   ]
  },
  {
   "cell_type": "code",
   "execution_count": 26,
   "metadata": {
    "collapsed": false
   },
   "outputs": [
    {
     "name": "stdout",
     "output_type": "stream",
     "text": [
      "+-------+------------------+------------------+------------------+------------------+\n",
      "|summary|             baths|              beds|             price|              sqft|\n",
      "+-------+------------------+------------------+------------------+------------------+\n",
      "|  count|               814|               814|               814|               814|\n",
      "|   mean|1.9606879606879606|3.2444717444717446| 229448.3697788698|1591.1461916461917|\n",
      "| stddev|0.6698038253879438|0.8521372615281972|119825.57606009027| 663.8419297942895|\n",
      "|    min|                 1|                 1|              2000|               484|\n",
      "|    max|                 5|                 8|            884790|              5822|\n",
      "+-------+------------------+------------------+------------------+------------------+\n",
      "\n"
     ]
    }
   ],
   "source": [
    "#REGRESSION\n",
    "\n",
    "\n",
    "#Importar modulos necesarios\n",
    "import pyspark.mllib\n",
    "import pyspark.mllib.regression\n",
    "from pyspark.mllib.regression import LabeledPoint\n",
    "from pyspark.sql.functions import *\n",
    "\n",
    "#Crear un DataFrame a partir de las variables que interesan. Pronosticar el precio, por medio de la cantidad de baños, camas, y pies cuadrados.\n",
    "df = df.select('price','baths','beds','sqft')\n",
    "\n",
    "#Muestra informacion de las variables\n",
    "df.describe(['baths','beds','price','sqft']).show()"
   ]
  },
  {
   "cell_type": "code",
   "execution_count": 27,
   "metadata": {
    "collapsed": false
   },
   "outputs": [
    {
     "name": "stdout",
     "output_type": "stream",
     "text": [
      "+-------+------------------+------------------+------------------+------------------+\n",
      "|summary|             baths|              beds|             price|              sqft|\n",
      "+-------+------------------+------------------+------------------+------------------+\n",
      "|  count|               814|               814|               814|               814|\n",
      "|   mean|1.9606879606879606|3.2444717444717446| 229448.3697788698|1591.1461916461917|\n",
      "| stddev|0.6698038253879438|0.8521372615281972|119825.57606009027| 663.8419297942895|\n",
      "|    min|                 1|                 1|              2000|               484|\n",
      "|    max|                 5|                 8|            884790|              5822|\n",
      "+-------+------------------+------------------+------------------+------------------+\n",
      "\n"
     ]
    }
   ],
   "source": [
    "#Filtra ejemplos cuyas variables sean mayor a 0\n",
    "df = df[df.baths > 0]\n",
    "df = df[df.beds > 0]\n",
    "df = df[df.sqft > 0]\n",
    "\n",
    "#Muestra informacion de las variables\n",
    "df.describe(['baths','beds','price','sqft']).show()\n",
    "\n",
    "\n"
   ]
  },
  {
   "cell_type": "code",
   "execution_count": 28,
   "metadata": {
    "collapsed": false
   },
   "outputs": [
    {
     "data": {
      "text/plain": [
       "[LabeledPoint(59222.0, [1.0,2.0,836.0]),\n",
       " LabeledPoint(68212.0, [1.0,3.0,1167.0]),\n",
       " LabeledPoint(68880.0, [1.0,2.0,796.0]),\n",
       " LabeledPoint(69307.0, [1.0,2.0,852.0]),\n",
       " LabeledPoint(81900.0, [1.0,2.0,797.0])]"
      ]
     },
     "execution_count": 28,
     "metadata": {},
     "output_type": "execute_result"
    }
   ],
   "source": [
    "#Crea un RDD de LabeledPoints\n",
    "temp = df.rdd.map(lambda line:LabeledPoint(line[0],[line[1:]]))\n",
    "\n",
    "#La variable Sqft es de una escala mucho mayor a las otras 2 variables\n",
    "temp.take(5)"
   ]
  },
  {
   "cell_type": "code",
   "execution_count": 29,
   "metadata": {
    "collapsed": false
   },
   "outputs": [
    {
     "data": {
      "text/plain": [
       "[(1, 2, 836), (1, 3, 1167), (1, 2, 796), (1, 2, 852), (1, 2, 797)]"
      ]
     },
     "execution_count": 29,
     "metadata": {},
     "output_type": "execute_result"
    }
   ],
   "source": [
    "#Importar modulos necesarios\n",
    "from pyspark.mllib.util import MLUtils\n",
    "from pyspark.mllib.linalg import Vectors\n",
    "from pyspark.mllib.feature import StandardScaler\n",
    "\n",
    "#RDD de solo las variables\n",
    "features = df.rdd.map(lambda row: row[1:])\n",
    "features.take(5)\n"
   ]
  },
  {
   "cell_type": "code",
   "execution_count": 30,
   "metadata": {
    "collapsed": false
   },
   "outputs": [
    {
     "data": {
      "text/plain": [
       "[(59222, DenseVector([1.493, 2.347, 1.2593])),\n",
       " (68212, DenseVector([1.493, 3.5206, 1.7579])),\n",
       " (68880, DenseVector([1.493, 2.347, 1.1991])),\n",
       " (69307, DenseVector([1.493, 2.347, 1.2834])),\n",
       " (81900, DenseVector([1.493, 2.347, 1.2006]))]"
      ]
     },
     "execution_count": 30,
     "metadata": {},
     "output_type": "execute_result"
    }
   ],
   "source": [
    "#Escala todas las variables.\n",
    "standardizer = StandardScaler()\n",
    "model = standardizer.fit(features)\n",
    "features_transform = model.transform(features)\n",
    "features_transform.take(5)\n",
    "\n",
    "#Se genera un RDD con solo las etiquetas\n",
    "lab = df.rdd.map(lambda row: row[0])\n",
    "lab.take(5)\n",
    "\n",
    "#Se une la etiqueta con las variables transformadas\n",
    "transformedData = lab.zip(features_transform)\n",
    "transformedData.take(5)"
   ]
  },
  {
   "cell_type": "code",
   "execution_count": 31,
   "metadata": {
    "collapsed": false
   },
   "outputs": [
    {
     "name": "stderr",
     "output_type": "stream",
     "text": [
      "/usr/local/spark/python/pyspark/mllib/regression.py:281: UserWarning: Deprecated in 2.0.0. Use ml.regression.LinearRegression.\n",
      "  warnings.warn(\"Deprecated in 2.0.0. Use ml.regression.LinearRegression.\")\n"
     ]
    },
    {
     "data": {
      "text/plain": [
       "161670.25323743909"
      ]
     },
     "execution_count": 31,
     "metadata": {},
     "output_type": "execute_result"
    }
   ],
   "source": [
    "#Se genera un RDD de LabeledPoints a partir de transformedData\n",
    "transformedData = transformedData.map(lambda row: LabeledPoint(row[0],[row[1]]))\n",
    "transformedData.take(5)\n",
    "\n",
    "#Se separa en Training y Testing\n",
    "trainingData, testingData = transformedData.randomSplit([.8,.2],seed=1234)\n",
    "\n",
    "#Se genera una Regresion lineal con Stochastic Gradient Descent\n",
    "from pyspark.mllib.regression import LinearRegressionWithSGD\n",
    "linearModel = LinearRegressionWithSGD.train(trainingData,1000,.2)\n",
    "\n",
    "#Muestra los pesos del modelo\n",
    "linearModel.weights\n",
    "\n",
    "#Muestra los 10 primeros ejemplos de la data de test\n",
    "testingData.take(10)\n",
    "\n",
    "#Se usa el modelo para predecir la etiqueta de este ejemplo\n",
    "linearModel.predict([1.49297445326,3.52055958053,1.73535287287])"
   ]
  },
  {
   "cell_type": "code",
   "execution_count": 32,
   "metadata": {
    "collapsed": false
   },
   "outputs": [
    {
     "data": {
      "text/plain": [
       "84809.67282565947"
      ]
     },
     "execution_count": 32,
     "metadata": {},
     "output_type": "execute_result"
    }
   ],
   "source": [
    "#Se usan algunas metricas para chequear el modelo\n",
    "\n",
    "from pyspark.mllib.evaluation import RegressionMetrics\n",
    "\n",
    "#Se genera un RDD con la salida predicha y la etiqueta real (valor real) Datos de Entrenamiento\n",
    "prediObserRDDin = trainingData.map(lambda row: (float(linearModel.predict(row.features[0])),row.label))\n",
    "\n",
    "metrics = RegressionMetrics(prediObserRDDin)\n",
    "metrics.r2\n",
    "\n",
    "#Resultados Datos de Test\n",
    "prediObserRDDout = testingData.map(lambda row: (float(linearModel.predict(row.features[0])),row.label))\n",
    "metrics = RegressionMetrics(prediObserRDDout)\n",
    "\n",
    "#Se muestra el error cuadratico medio\n",
    "metrics.rootMeanSquaredError"
   ]
  },
  {
   "cell_type": "code",
   "execution_count": null,
   "metadata": {
    "collapsed": true
   },
   "outputs": [],
   "source": []
  }
 ],
 "metadata": {
  "kernelspec": {
   "display_name": "Python 2",
   "language": "python",
   "name": "python2"
  },
  "language_info": {
   "codemirror_mode": {
    "name": "ipython",
    "version": 2
   },
   "file_extension": ".py",
   "mimetype": "text/x-python",
   "name": "python",
   "nbconvert_exporter": "python",
   "pygments_lexer": "ipython2",
   "version": "2.7.12"
  }
 },
 "nbformat": 4,
 "nbformat_minor": 0
}
