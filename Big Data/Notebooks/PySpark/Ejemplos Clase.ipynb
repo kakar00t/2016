{
 "cells": [
  {
   "cell_type": "code",
   "execution_count": 1,
   "metadata": {
    "collapsed": false
   },
   "outputs": [
    {
     "data": {
      "text/plain": [
       "pyspark.sql.context.SQLContext"
      ]
     },
     "execution_count": 1,
     "metadata": {},
     "output_type": "execute_result"
    }
   ],
   "source": [
    "import os\n",
    "os.environ['PYSPARK_PYTHON'] = '/opt/conda/envs/python2/bin/python'\n",
    "import pyspark\n",
    "sc = pyspark.SparkContext()\n",
    "\n",
    "from pyspark.sql.types import *\n",
    "from pyspark.sql import Row, SQLContext\n",
    "\n",
    "sqlContext = SQLContext(sc) # or HiveContext\n",
    "\n",
    "\n",
    "# Display the type of the Spark sqlContext\n",
    "type(sqlContext)"
   ]
  },
  {
   "cell_type": "code",
   "execution_count": 2,
   "metadata": {
    "collapsed": false
   },
   "outputs": [
    {
     "name": "stdout",
     "output_type": "stream",
     "text": [
      "6\n",
      "[2, 4, 6]\n",
      "[1, 3, 5]\n",
      "6\n",
      "9\n"
     ]
    }
   ],
   "source": [
    "#lambda, map, reduce examples\n",
    "print (lambda x: 2*x)(3)\n",
    "print map(lambda x: 2*x, [1,2,3])\n",
    "print map(lambda t: t[0], [ (1,2), (3,4), (5,6) ] )\n",
    "print reduce(lambda x,y: x+y, [1,2,3])\n",
    "print reduce(lambda x,y: x+y, map(lambda t: t[0], [ (1,2), (3,4), (5,6) ] ))"
   ]
  },
  {
   "cell_type": "code",
   "execution_count": 7,
   "metadata": {
    "collapsed": false
   },
   "outputs": [
    {
     "data": {
      "text/plain": [
       "[[u'Orlando', u'M', u'40', u'Python'],\n",
       " [u'Lina', u'F', u'39', u'C#'],\n",
       " [u'John', u'M', u'30', u'Python'],\n",
       " [u'Jane', u'F', u'32', u'Python'],\n",
       " [u'Michelle', u'F', u'18', u'Python'],\n",
       " [u'Daniel', u'M', u'20', u'C#']]"
      ]
     },
     "execution_count": 7,
     "metadata": {},
     "output_type": "execute_result"
    }
   ],
   "source": [
    "people=sc.textFile(\"people.txt\").map(lambda x: x.split('\\t'))\n",
    "\n",
    "people.collect()"
   ]
  },
  {
   "cell_type": "code",
   "execution_count": 4,
   "metadata": {
    "collapsed": false
   },
   "outputs": [
    {
     "data": {
      "text/plain": [
       "[(u'M', 3), (u'F', 3)]"
      ]
     },
     "execution_count": 4,
     "metadata": {},
     "output_type": "execute_result"
    }
   ],
   "source": [
    "people.map(lambda t: (t[1],1)).reduceByKey(lambda x,y:x+y).collect()"
   ]
  },
  {
   "cell_type": "code",
   "execution_count": 5,
   "metadata": {
    "collapsed": false
   },
   "outputs": [
    {
     "data": {
      "text/plain": [
       "[(u'Python', 18), (u'C#', 20)]"
      ]
     },
     "execution_count": 5,
     "metadata": {},
     "output_type": "execute_result"
    }
   ],
   "source": [
    "people.map(lambda t: (t[3],int(t[2]) )).reduceByKey(lambda x,y:min(x,y)).collect()"
   ]
  },
  {
   "cell_type": "code",
   "execution_count": 15,
   "metadata": {
    "collapsed": false
   },
   "outputs": [],
   "source": [
    "class Person:\n",
    "\tdef parse(self,line):\n",
    "\t\tfields=line.split('\\t')\n",
    "\t\tself.name=fields[0]\n",
    "\t\tself.gender=fields[1]\n",
    "\t\tself.age=int(fields[2])\n",
    "\t\tself.favorite_language=fields[3]\n",
    "\t\treturn self\n",
    "\n",
    "\tdef __repr__(self):\n",
    "\t\treturn \"Person( %s, gender=%s, %d years old, likes %s)\"% \t\t\t\t\t\t\t\t\t(self.name,self.gender,self.age,self.favorite_language)\n"
   ]
  },
  {
   "cell_type": "code",
   "execution_count": 16,
   "metadata": {
    "collapsed": true
   },
   "outputs": [],
   "source": [
    "people=sc.textFile(\"people.txt\").map(Person().parse)\n"
   ]
  },
  {
   "cell_type": "code",
   "execution_count": 17,
   "metadata": {
    "collapsed": false
   },
   "outputs": [
    {
     "data": {
      "text/plain": [
       "[(u'M', 3), (u'F', 3)]"
      ]
     },
     "execution_count": 17,
     "metadata": {},
     "output_type": "execute_result"
    }
   ],
   "source": [
    "people.map(lambda t: (t.gender,1)).reduceByKey(lambda x,y:x+y).collect()\n"
   ]
  },
  {
   "cell_type": "code",
   "execution_count": 18,
   "metadata": {
    "collapsed": false
   },
   "outputs": [
    {
     "data": {
      "text/plain": [
       "PythonRDD[63] at RDD at PythonRDD.scala:48"
      ]
     },
     "execution_count": 18,
     "metadata": {},
     "output_type": "execute_result"
    }
   ],
   "source": [
    "people.map(lambda t: (t.gender,t.age )).reduceByKey(lambda x,y:min(x,y))\n"
   ]
  },
  {
   "cell_type": "code",
   "execution_count": null,
   "metadata": {
    "collapsed": true
   },
   "outputs": [],
   "source": []
  }
 ],
 "metadata": {
  "kernelspec": {
   "display_name": "Python 2",
   "language": "python",
   "name": "python2"
  },
  "language_info": {
   "codemirror_mode": {
    "name": "ipython",
    "version": 2
   },
   "file_extension": ".py",
   "mimetype": "text/x-python",
   "name": "python",
   "nbconvert_exporter": "python",
   "pygments_lexer": "ipython2",
   "version": "2.7.12"
  }
 },
 "nbformat": 4,
 "nbformat_minor": 0
}
